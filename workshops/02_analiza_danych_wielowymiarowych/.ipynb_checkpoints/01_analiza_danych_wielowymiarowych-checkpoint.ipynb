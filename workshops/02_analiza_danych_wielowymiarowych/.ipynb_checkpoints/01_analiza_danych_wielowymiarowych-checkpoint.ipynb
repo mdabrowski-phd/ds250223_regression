{
 "cells": [
  {
   "cell_type": "markdown",
   "metadata": {
    "id": "6xBn2XXTROI6"
   },
   "source": [
    "# Analiza danych wielowymiarowych"
   ]
  },
  {
   "cell_type": "code",
   "execution_count": null,
   "metadata": {
    "id": "CZITnkcSROI_"
   },
   "outputs": [],
   "source": [
    "import numpy as np\n",
    "import pandas as pd\n",
    "import seaborn as sns\n",
    "import math\n",
    "import matplotlib.pyplot as plt\n",
    "from matplotlib import cm\n",
    "from mpl_toolkits.mplot3d import Axes3D\n",
    "\n",
    "from scipy import stats\n",
    "from scipy.stats import multivariate_normal"
   ]
  },
  {
   "cell_type": "markdown",
   "metadata": {
    "id": "yItFccm8-dNZ"
   },
   "source": [
    "#Rozkład wielomianowy\n",
    "Zmienna losowa $(X_1, X_2, \\ldots, X_k)$ ma rozkład wielomianowy, jeżeli \n",
    "\\begin{equation*}\n",
    "    P(X_1=n_1, \\ldots, X_k=n_k)=\\frac{n!}{n_1!\\cdot\\ldots\\cdot n_k!}p_1^{n_1}\\cdot\\ldots\\cdot p_k^{n_k},\n",
    "\\end{equation*}\n",
    "gdzie $p_i\\in(0,1)$, $i=1,2,\\ldots, k$, $p_1+p_2+\\ldots+p_k=1$, $n_1+n_2+\\ldots+n_k=n$.\n",
    "\n",
    "Rozkład wielomianowy jest uogólnieniem rozkładu dwumianowego i opisuje rozkład wyników przy $n$-krotnym powtórzeniu doświadczenia o $k$ możliwych rezultatach. \n",
    "\n",
    "$X_i$ oznacza liczbę wyników $i$-tego typu w serii.\n",
    "\n",
    "Rozkład wielomianowy można wykorzystać do obliczenia prawdopodobieństwa w sytuacjach, w których istnieją więcej niż dwa możliwe wyniki."
   ]
  },
  {
   "cell_type": "markdown",
   "metadata": {
    "id": "1LK6GWQRROJB"
   },
   "source": [
    "# Zadanie 1 - Rozkład wielomianowy\n",
    "\n",
    "1. Zdefiniuj zmienną losową dla rozkładu wielomianowego (`stats.multinomial`).\n",
    "2. Wygeneruj $n$ punktów z zaproponowanego rozkładu wielomianowego, narysuj histogramy.\n",
    "2. Oblicz: w pewnym mieście 40% uprawnionych do głosowania popiera kandydata A, 10% popiera kandydata B, a pozostałe 50% nie ma preferencji. Wybieramy losowo 10 uprawnionych do głosowania. Jakie jest prawdopodobieństwo, że 4 z nich popiera kandydata A, 1 popiera kandydata B, a pozostałe 5 nie będzie miało preferencji?"
   ]
  },
  {
   "cell_type": "code",
   "execution_count": null,
   "metadata": {
    "id": "X0vncsaa4vdF"
   },
   "outputs": [],
   "source": [
    "#1 i 2\n",
    "multi10 = stats.multinomial(10,[0.4,0.1,0.5])\n",
    "x=pd.DataFrame(multi10.rvs(10000),columns = ['A','B','brak preferencji'])\n",
    "print(x.head())\n",
    "x.hist(bins = 5)\n",
    "plt.show()"
   ]
  },
  {
   "cell_type": "code",
   "execution_count": null,
   "metadata": {
    "id": "absqiB_J4ygm"
   },
   "outputs": [],
   "source": [
    "multi10.pmf([4,1,5])"
   ]
  },
  {
   "cell_type": "markdown",
   "metadata": {
    "id": "6U_LAGQPBXyc"
   },
   "source": [
    "#Rozkład dwuwymiarowy normalny\n",
    "Zmienna losowa $(X, Y)$ ma rozkład dwuwymiarowy normalny z parametrami $\\mu_X$, $\\mu_Y$, $\\sigma_X>0$, $\\sigma_Y>0$ oraz $\\rho\\in(-1,1)$, jeżeli jej gęstość $f$ wyraża się wzorem\n",
    "\\begin{equation*}\n",
    "    f(x, y) = \\frac{1}{2\\pi \\sigma_X \\sigma_Y\\sqrt{1-\\rho^2}} \\exp\\Bigg\\{-\\frac{1}{2(1-\\rho^2)}\\Bigg[\\frac{(x-\\mu_X)^2}{\\sigma^2_X} - 2\\rho\\frac{(x-\\mu_X)(y-\\mu_Y)}{\\sigma_X\\sigma_Y} + \\frac{(y-\\mu_Y)^2}{\\sigma^2_Y} \\Bigg] \\Bigg\\}.\n",
    "\\end{equation*}\n",
    "\n",
    "\\pause\n",
    "\\textit{Jeżeli dwuwymiarowa zmienna losowa $(X, Y)$ ma rozkład normalny, to zmienne losowe $X$ i $Y$ mają, odpowiednio, jednowymiarowe rozkłady normalne $\\mathcal{N}(\\mu_X, \\sigma_X)$~i~$\\mathcal{N}(\\mu_Y, \\sigma_Y)$.}"
   ]
  },
  {
   "cell_type": "markdown",
   "metadata": {
    "id": "SIdUTAFSROJG"
   },
   "source": [
    "# Zadanie 2 - Dwuwymiarowy rozkład normalny\n",
    "1. Zdefiniuj zmienną losową dla rozkładu normalnego 2-wymiarowego (`multivariate_normal`, `np.meshgrid`).\n",
    "2. Narysuj gęstość (`multivariate_normal.pdf`) oraz wykres konturowy gęstości (`plot_surface` i `contourf`).\n",
    "3. Wylosuj $n$ obserwacji ze zdefiniowanego rozkładu i narysuj wykres rozproszenia dla wylosowanej próbki.\n",
    "4. Porównaj wykresy gęstości dla różnych wartości wektora średniej i macierzy kowariancji."
   ]
  },
  {
   "cell_type": "code",
   "execution_count": null,
   "metadata": {
    "id": "zw-3eus7q8o_"
   },
   "outputs": [],
   "source": [
    "mu = [0,0]\n",
    "s=[[1,0],[0,1]]\n",
    "\n",
    "mnormal = multivariate_normal(mean = mu,cov = s)"
   ]
  },
  {
   "cell_type": "code",
   "execution_count": null,
   "metadata": {
    "id": "0ZD6n5dX4Mvh"
   },
   "outputs": [],
   "source": [
    "XY = mnormal.rvs(size=1000)\n",
    "XY"
   ]
  },
  {
   "cell_type": "code",
   "execution_count": null,
   "metadata": {
    "id": "7Yl_bjDE4KFV"
   },
   "outputs": [],
   "source": [
    "plt.scatter(XY[:,0],XY[:,1])\n",
    "plt.axis('equal')\n",
    "plt.show()"
   ]
  },
  {
   "cell_type": "code",
   "execution_count": null,
   "metadata": {
    "id": "KCtGF5I_4GgR"
   },
   "outputs": [],
   "source": [
    "#techniczne przeróbki, aby narysować gęstość 3D\n",
    "N = 100\n",
    "X = np.linspace(-5,5,N)\n",
    "Y = np.linspace(-5,5,N)\n",
    "X,Y = np.meshgrid(X,Y)\n",
    "print(X)\n",
    "print(Y)\n",
    "pos = np.empty(X.shape+(2,))\n",
    "pos[:,:,0] = X\n",
    "pos[:,:,1] = Y\n",
    "pos"
   ]
  },
  {
   "cell_type": "code",
   "execution_count": null,
   "metadata": {
    "id": "Avzz-bJTqzLw"
   },
   "outputs": [],
   "source": [
    "Z = mnormal.pdf(pos)"
   ]
  },
  {
   "cell_type": "code",
   "execution_count": null,
   "metadata": {
    "id": "ICOYlDe73SnC"
   },
   "outputs": [],
   "source": [
    "#gęstość\n",
    "fig = plt.figure(figsize = (20,10))\n",
    "ax = fig.gca(projection='3d')\n",
    "ax.plot_surface(X,Y,Z,linewidth = 1,cmap = cm.viridis)"
   ]
  },
  {
   "cell_type": "code",
   "execution_count": null,
   "metadata": {
    "id": "NaEgD4rC3PTq"
   },
   "outputs": [],
   "source": [
    "fig,ax = plt.subplots(figsize = (20,10))\n",
    "plt.axis('equal')\n",
    "ax.contourf(X,Y,Z,origincmap = cm.viridis)"
   ]
  },
  {
   "cell_type": "code",
   "execution_count": null,
   "metadata": {
    "id": "BeROZuZg5AGI"
   },
   "outputs": [],
   "source": [
    "mu = [0,0]\n",
    "s=[[1,0.8],[0.8,1]]\n",
    "\n"
   ]
  },
  {
   "cell_type": "code",
   "execution_count": null,
   "metadata": {
    "id": "PtsFIKBFNcr3"
   },
   "outputs": [],
   "source": []
  },
  {
   "cell_type": "code",
   "execution_count": null,
   "metadata": {
    "id": "W3WdQu2nNcjI"
   },
   "outputs": [],
   "source": []
  },
  {
   "cell_type": "markdown",
   "metadata": {
    "id": "oH39WLtKB2Tj"
   },
   "source": [
    "#Kowariancja\n",
    "Kowariancją zmiennych losowych $X$ i $Y$ nazywamy liczbę $\\text{Cov}(X, Y)$ określoną wzorem\n",
    "\\begin{equation*}\n",
    "    \\text{Cov}(X, Y) = \\mathbb{E}[(X - \\mathbb{E}X)(Y-\\mathbb{E}Y) ].\n",
    "\\end{equation*}\n",
    "\n",
    "Kowariancja może być traktowana jako pewna miara zgodności dwóch zmiennych losowych, będąc średnią wartością iloczynu odchyleń obu zmiennych od ich wartości oczekiwanych. \n",
    "\n",
    "Bezpośrednio z definicji wynika, że \n",
    "\\begin{equation*}\n",
    "    \\text{Cov}(X, Y) = \\mathbb{E}(XY) - (\\mathbb{E}X)(\\mathbb{E}Y).\n",
    "\\end{equation*}\n",
    "\n",
    "Gdy zmienna losowa $(X, Y)$ jest typu dyskretnego, to\n",
    "    \\begin{equation*}\n",
    "        \\mathbb{E}(XY) = \\sum_i\\sum_k x_iy_kP(X=x_i, Y=y_k).\n",
    "    \\end{equation*}\n",
    "Gdy zmienna losowa $(X, Y)$ jest typu ciągłego, to\n",
    "    \\begin{equation*}\n",
    "        \\mathbb{E}(XY) = \\int_{-\\infty}^{+\\infty}\\int_{-\\infty}^{+\\infty} xyf(x,y)dxdy.\n",
    "    \\end{equation*}\n",
    "\n",
    "Własności:\n",
    "    \n",
    "\n",
    "*   Jeżeli $\\text{Cov}(X, Y)=0$, to zmienne losowe $X$ i $Y$ nazywamy eskorelowanymi. Wynika stąd, że zmienne losowe niezależne są jednocześnie nieskorelowane, ale zmienne losowe nieskorelowane mogą być zależne.\n",
    "*   $\\text{Var}(X\\pm Y) = \\text{Var}(X) + \\text{Var}(Y) \\pm 2\\text{Cov}(X, Y)$.\n",
    "*   $\\text{Cov}(aX+b, cY+d) = ac\\text{Cov}(X, Y)$.\n"
   ]
  },
  {
   "cell_type": "markdown",
   "metadata": {
    "id": "LroKOX5UEU-1"
   },
   "source": [
    "#Współczynnik korelacji\n",
    "Współczynnikiem korelacji zmiennych losowych $X$ i $Y$ nazywamy liczbę\n",
    "\\begin{equation*}\n",
    "    \\rho(X, Y) = \\frac{\\text{Cov}(X, Y)}{\\sqrt{\\text{Var}(X)}\\sqrt{\\text{Var}(Y)}}\n",
    "\\end{equation*}\n",
    "Własności:\n",
    "\n",
    "*    $|\\rho(X, Y)|\\leq 1$.\n",
    "*    Jeżeli zmienne losowe $X$ i $Y$ są niezależne, to $\\rho(X, Y)=0$.\n",
    "*   Dla dowolnych liczb rzeczywistych $a, b, c, d$ zachodzi\n",
    "    \\begin{equation*}\n",
    "        |\\rho(aX+b, cY+d)|=|\\rho(X, Y)|.\n",
    "    \\end{equation*}\n",
    "*    Zmienne losowe $X$ i $Y$ są zależne liniowo wtedy i tylko wtedy, gdy $|\\rho(X, Y)|=1$"
   ]
  },
  {
   "cell_type": "markdown",
   "metadata": {
    "id": "DtJ-0RE7v72a"
   },
   "source": [
    "#Korelacja Pearsona\n",
    "Chcemy przybliżać $\\rho(X, Y)$ za pomocą próby. Empirycznym odpowiednikiem korelacji jest korelacja Pearsona dana wzorem:\n",
    "\\begin{equation*} \n",
    "\\hat{\\rho}(X_1,...,X_n,Y_1,..,Y_n) = \\frac{\\sum_{i=1}^n(X_i-\\bar{X})(Y_i-\\bar{Y})}{\\sqrt{\\sum_{i=1}^n(X_i-\\bar{X})^2}\\sqrt{\\sum_{i=1}^n(Y_i-\\bar{Y})^2}}\n",
    "\\end{equation*}"
   ]
  },
  {
   "cell_type": "markdown",
   "metadata": {
    "id": "aWT8Ljt3DezZ"
   },
   "source": [
    "#Macierz Kowariancji\n",
    "\n",
    "Niech $(X_1, X_2, \\ldots, X_n)$ będzie wektorem losowym (o składowych całkowalnych z kwadratem), wtedy \\textbf{macierz kowariancji} jest określona następująco:\n",
    "\\begin{equation*}\n",
    "    \\sum = \n",
    "\\begin{bmatrix}\n",
    "\\sigma^2_1 & \\sigma_{12} & \\ldots & \\sigma_{1n}\\\\\n",
    "\\sigma_{21} & \\sigma^2_2 & \\ldots & \\sigma_{2n}\\\\\n",
    "\\vdots & \\ldots & \\ddots & \\vdots \\\\\n",
    "\\sigma_{n1} & \\sigma_{n2} & \\ldots & \\sigma^2_n\n",
    "\\end{bmatrix}\n",
    "\\end{equation*}\n",
    "gdzie:\n",
    "*    $\\sigma_i^2$ jest wariancją zmiennej losowej $X_i$;\n",
    "*    $\\sigma_{ij}=\\text{Cov}(X_i, X_j)$ jest kowariancją między zmiennymi losowym $X_i$ oraz $X_j$."
   ]
  },
  {
   "cell_type": "markdown",
   "metadata": {
    "id": "5fKQYbaDDujf"
   },
   "source": [
    "#Wielowymiarowy rozkład normalny\n",
    "Wektor losowy $(X_1,\\ldots, X_n)$ ma rozkład $N$-wymiarowy rozkład normalny z macierzą kowariancji $\\sum$ oraz wektorem średnich $\\mu$, jeżeli jej gęstość $f$ wyraża się wzorem\n",
    "\\begin{equation*}\n",
    "    f(x_1, \\ldots, x_n) = \\frac{1}{\\sqrt{(2\\pi)^n|\\sum|}} \\exp\\Bigg\\{-\\frac{1}{2}(x-\\mu)^T\\Sigma^{-1}(x-\\mu) \\Bigg\\}.\n",
    "\\end{equation*}\n"
   ]
  },
  {
   "cell_type": "markdown",
   "metadata": {
    "id": "00KU1iKiROJK"
   },
   "source": [
    "# Zadanie 3 - Korelacja zmiennych losowych\n",
    "Wygeneruj $3$-wymiarowy wektor losowy z rozkładu normalnego, tak aby 1 i 2 współrzędne były ze sobą skorelowane, natomiast 1 i 3 oraz 2 i 3 są zmiennymi parami niezależnymi. \n",
    "\n",
    "1. Narysuj zależność pomiędzy parami zmiennych (np. możesz użyć funcji `pairplot`)\n",
    "2. Oblicz współczynnik korelacji Pearsona dla wygenerowanych par zmiennych i narysuj `heatmape`.\n",
    "3. Powtórz punkty 1 i 2 dla wektora $5$-wymiarowego z rozkładu normalnego, tak aby 1, 3 i 5 współrzędne były ze sobą skorelowane a pozostałe niezależne."
   ]
  },
  {
   "cell_type": "markdown",
   "metadata": {
    "id": "5IX0-z3Jo0M2"
   },
   "source": [
    "\\begin{equation*}\n",
    "    \\sum = \n",
    "\\begin{bmatrix}\n",
    "\\sigma^2_1 & \\sigma_{12}  & \\sigma_{13}\\\\\n",
    "\\sigma_{21} & \\sigma^2_2  & \\sigma_{23}\\\\\n",
    "\\sigma_{31} & \\sigma_{32}  & \\sigma^2_3\n",
    "\\end{bmatrix}\n",
    "\\end{equation*}"
   ]
  },
  {
   "cell_type": "code",
   "execution_count": null,
   "metadata": {
    "id": "iwokUep24gvK"
   },
   "outputs": [],
   "source": []
  },
  {
   "cell_type": "code",
   "execution_count": null,
   "metadata": {
    "id": "VsvzuGwLNvaK"
   },
   "outputs": [],
   "source": []
  },
  {
   "cell_type": "code",
   "execution_count": null,
   "metadata": {
    "id": "ntgF-6Tv4m36"
   },
   "outputs": [],
   "source": [
    "#heatmapa\n",
    "plt.figure(figsize=(10,8),dpi = 60)\n",
    "ax = sns.heatmap(cor,xticklabels=cor.columns,yticklabels=cor.columns,cmap = 'Greens',center = 0,annot = True)\n",
    "plt.show()\n",
    "#można brać też wartości bezwzględne - wówczas im ciemniejszy kolor \n",
    "#tym bardziej od siebie zależne zmienne\n",
    "plt.figure(figsize=(10,8),dpi = 60)\n",
    "ax = sns.heatmap(np.abs(cor),xticklabels=cor.columns,yticklabels=cor.columns,cmap = 'Greens',center = 0,annot = True)\n",
    "plt.show()"
   ]
  },
  {
   "cell_type": "markdown",
   "metadata": {
    "id": "-_RqzmX-ROJM"
   },
   "source": [
    "# Zadanie 4 - Centralne twierdzenie graniczne\n",
    "\n",
    "1. Szacuje się, że w średnia wartość ilorazu inteligencji wynosi 100 z odchyleniem standardowym 15. Jakie jest prawdopodobieństwo, że wśród 30 losowo wybranych osób, ich średni iloraz inteligencji przekroczy 105?\n",
    "\n",
    "2. Szacuje się, że 60% dorosłych Polaków posiada własny samochód. Jakie jest prawdopodobieństwo, że wśród 1000 osób będzie od 500 do 700 posiadaczy własnego auta?\n",
    "\n",
    "3. Co dwudziesta młoda osoba w Polsce jest na diecie wegańskiej. Wyznacz prawdopodobieństwo, że wśród 100 młodych Polaków, od 5 do 10 osób będzie na diecie wegańskiej?\n",
    "\n",
    "4. Szacuje się, że rozkład wieku kobiety w chwili urodzenia pierwszego dziecka jest normalny ze średnią 27 lat i odchyleniu standardowym 4 lata. Jakie jest prawdopodobieństwo, że wśród 100 losowo wybranych kobiet, ich średnia wieku, kiedy urodziły pierwsze dziecko przekroczy 30 lat?\n",
    "\n",
    "5. Przeprowadzone badania pokazały, że co trzeci dorosły mężczyzna dojeżdża do pracy własnym pojazdem. Jakie jest prawdopodobieństwo, że wśród 300 losowo wybranych mężczyzn co najmniej 80, ale nie więcej niż 120, dojeżdża do pracy własnym pojazdem?\n",
    "\n",
    "6. Przyjmuje się, że 1\\% populacji choruje na schizofrenię. Oblicz prawdopodobieństwo, że wśród losowo wybranych\n",
    "1000 osób będzie więcej niż 12 cierpiących na to zaburzenie."
   ]
  },
  {
   "cell_type": "markdown",
   "metadata": {
    "id": "PvCQdY-xRBJP"
   },
   "source": [
    "1. Mamy rozkład (niekoniecznie normalny) o średniej $\\mu = 100$ i odchyleniem standardowym $\\sigma = 15$. Chcemy, żeby średnia była większa od $105$, zatem chcemy aby suma: $S_n>105*30 = 3150$. Zatem korzystając z CTG:\n",
    "\\begin{equation*}\n",
    "\\mathbb{P}(S_n>3150) = 1-\\mathbb{P}(S_n\\leqslant 3150)\\\\\n",
    " = 1-\\mathbb{P}\\left(\\frac{S_n-n\\mu}{\\sqrt{n}\\sigma}\\leqslant \\frac{3150-n\\mu}{\\sqrt{n}\\sigma}\\right) \\\\\n",
    " = 1-\\mathbb{P}\\left(\\frac{S_n-30*100}{\\sqrt{30}*15}\\leqslant \\frac{3150-30*100}{\\sqrt{30}*15}\\right)\\\\\n",
    " = 1-\\mathbb{P}\\left(\\frac{S_n-3000}{\\sqrt{30}*15}\\leqslant \\frac{10}{\\sqrt{30}}\\right)\\\\\n",
    "  \\approx 1-𝚽\\left(\\frac{10}{\\sqrt{30}}\\right) \\approx 0.03\n",
    "\\end{equation*}"
   ]
  },
  {
   "cell_type": "code",
   "execution_count": null,
   "metadata": {
    "id": "X8GRFXGVrFre"
   },
   "outputs": [],
   "source": []
  },
  {
   "cell_type": "markdown",
   "metadata": {
    "id": "sPC7UCZZXsI_"
   },
   "source": [
    "2. Mamy rozkład Benoulliego o prawdopodobieństwie $p = 0.6$. Chcemy, żeby suma osób posiadających samochody była od $500$ do $700$, zatem chcemy aby suma: $500\\leqslant S_n\\leqslant 700$. Zatem korzystając z CTG:\n",
    "\\begin{equation*}\n",
    "\\mathbb{P}(500\\leqslant S_n\\leqslant 700) =\n",
    " \\mathbb{P}\\left(\\frac{500-np}{\\sqrt{np(1-p)}}\\leqslant\\frac{S_n-np}{\\sqrt{np(1-p)}}\\leqslant \\frac{700-np}{\\sqrt{np(1-p)}}\\right) \\\\\n",
    "=  \\mathbb{P}\\left(\\frac{500-1000*0.6}{\\sqrt{1000*0.6*0.4}}\\leqslant\\frac{S_n-1000*0.6}{\\sqrt{1000*0.6*0.4}}\\leqslant \\frac{700-1000*0.6}{\\sqrt{1000*0.6*0.4}}\\right) \\\\\n",
    "=  \\mathbb{P}\\left(\\frac{-100}{\\sqrt{240}}\\leqslant\\frac{S_n-600}{\\sqrt{240}}\\leqslant \\frac{100}{\\sqrt{240}}\\right)\n",
    "  \\approx 𝚽\\left(\\frac{100}{\\sqrt{240}}\\right)-𝚽\\left(\\frac{-100}{\\sqrt{240}}\\right) \\approx 0.99\n",
    "\\end{equation*}"
   ]
  },
  {
   "cell_type": "code",
   "execution_count": null,
   "metadata": {
    "id": "7D94Wz1rrIGe"
   },
   "outputs": [],
   "source": []
  },
  {
   "cell_type": "markdown",
   "metadata": {
    "id": "1Rb23BvNcS9u"
   },
   "source": [
    "3. Mamy rozkład Benoulliego o prawdopodobieństwie $p = 0.05$. Chcemy, żeby suma osób na diecie wegańskiej była od $5$ do $10$, zatem chcemy aby suma: $5\\leqslant S_n\\leqslant 10$. Zatem korzystając z CTG:\n",
    "\\begin{equation*}\n",
    "\\mathbb{P}(5\\leqslant S_n\\leqslant 10) =\n",
    " \\mathbb{P}\\left(\\frac{5-np}{\\sqrt{np(1-p)}}\\leqslant\\frac{S_n-np}{\\sqrt{np(1-p)}}\\leqslant \\frac{10-np}{\\sqrt{np(1-p)}}\\right) \\\\\n",
    "=  \\mathbb{P}\\left(\\frac{5-100*0.05}{\\sqrt{100*0.05*0.95}}\\leqslant\\frac{S_n-100*0.05}{\\sqrt{100*0.05*0.95}}\\leqslant \\frac{10-100*0.05}{\\sqrt{100*0.05*0.95}}\\right) \\\\\n",
    "=  \\mathbb{P}\\left(0\\leqslant\\frac{S_n-5}{\\sqrt{4.75}}\\leqslant \\frac{5}{\\sqrt{4.75}}\\right)\n",
    "  \\approx 𝚽\\left(\\frac{5}{\\sqrt{4.75}}\\right)-𝚽\\left(0\\right) \\approx 0.49\n",
    "\\end{equation*}"
   ]
  },
  {
   "cell_type": "code",
   "execution_count": null,
   "metadata": {
    "id": "jrClEMQRrJf-"
   },
   "outputs": [],
   "source": []
  },
  {
   "cell_type": "markdown",
   "metadata": {
    "id": "D4aSYHW2gN7v"
   },
   "source": [
    "4. Mamy rozkład normalny o średniej $\\mu = 27$ i odchyleniem standardowym $\\sigma = 4$. Chcemy, żeby średnia była większa od $30$, zatem chcemy aby suma: $S_n>100*30 = 3000$. Zatem korzystając z CTG:\n",
    "\\begin{equation*}\n",
    "\\mathbb{P}(S_n>3000) = 1-\\mathbb{P}(S_n\\leqslant 3000)\\\\\n",
    " = 1-\\mathbb{P}\\left(\\frac{S_n-n\\mu}{\\sqrt{n}\\sigma}\\leqslant \\frac{3000-n\\mu}{\\sqrt{n}\\sigma}\\right) \\\\\n",
    " = 1-\\mathbb{P}\\left(\\frac{S_n-2700}{\\sqrt{100}*4}\\leqslant \\frac{3000-2700}{\\sqrt{100}*4}\\right)\\\\\n",
    " = 1-\\mathbb{P}\\left(\\frac{S_n-2700}{\\sqrt{100}*4}\\leqslant \\frac{300}{40}\\right)\\\\\n",
    "  \\approx 1-𝚽\\left(\\frac{30}{4}\\right) \\approx 0\n",
    "\\end{equation*}"
   ]
  },
  {
   "cell_type": "code",
   "execution_count": null,
   "metadata": {
    "id": "s92aLd3mrKxK"
   },
   "outputs": [],
   "source": []
  },
  {
   "cell_type": "markdown",
   "metadata": {
    "id": "XGZESqGUqMn9"
   },
   "source": [
    "5. Mamy rozkład Benoulliego o prawdopodobieństwie $p = \\frac{1}{3}$. Chcemy, żeby suma osób dojeżdżających swoim pojazdem do pracy była od $80$ do $120$, zatem chcemy aby suma: $80\\leqslant S_n\\leqslant 120$. Zatem korzystając z CTG:\n",
    "\\begin{equation*}\n",
    "\\mathbb{P}(80\\leqslant S_n\\leqslant 120) =\n",
    " \\mathbb{P}\\left(\\frac{80-np}{\\sqrt{np(1-p)}}\\leqslant\\frac{S_n-np}{\\sqrt{np(1-p)}}\\leqslant \\frac{120-np}{\\sqrt{np(1-p)}}\\right) \\\\\n",
    "=  \\mathbb{P}\\left(\\frac{80-300*\\frac{1}{3}}{\\sqrt{300*\\frac{1}{3}*\\frac{2}{3}}}\\leqslant\\frac{S_n-300*\\frac{1}{3}}{\\sqrt{300*\\frac{1}{3}*\\frac{2}{3}}}\\leqslant \\frac{120-300*\\frac{1}{3}}{\\sqrt{300*\\frac{1}{3}*\\frac{2}{3}}}\\right) \\\\\n",
    "=  \\mathbb{P}\\left(\\frac{-20}{\\sqrt{\\frac{200}{3}}}\\leqslant\\frac{S_n-100}{\\sqrt{\\frac{200}{3}}}\\leqslant \\frac{20}{\\sqrt{\\frac{200}{3}}}\\right)\n",
    "  \\approx 𝚽\\left(\\frac{2}{\\sqrt{\\frac{2}{3}}}\\right)-𝚽\\left(\\frac{-2}{\\sqrt{\\frac{2}{3}}}\\right) \\approx 0.98\n",
    "\\end{equation*}"
   ]
  },
  {
   "cell_type": "code",
   "execution_count": null,
   "metadata": {
    "id": "YrXatiOVrL7C"
   },
   "outputs": [],
   "source": []
  },
  {
   "cell_type": "markdown",
   "metadata": {
    "id": "781PQ475teqn"
   },
   "source": [
    "6. Mamy rozkład Benoulliego o prawdopodobieństwie $p = 0.01$. Chcemy, obliczyć prawdopodobieństwo zdarzenia, że suma osób chorujących na schizofrenię jest większa od $12$, zatem chcemy aby suma: $12< S_n$. Zatem korzystając z CTG:\n",
    "\\begin{equation*}\n",
    "\\mathbb{P}(12< S_n) = 1-\\mathbb{P}(S_n\\leqslant 12)\\\\\n",
    " =1-\\mathbb{P}\\left(\\frac{S_n-np}{\\sqrt{np(1-p)}}\\leqslant \\frac{12-np}{\\sqrt{np(1-p)}}\\right) \\\\\n",
    "=  1-\\mathbb{P}\\left(\\frac{S_n-1000*0.01}{\\sqrt{1000*0.01*0.99}}\\leqslant \\frac{12-1000*0.01}{\\sqrt{1000*0.01*0.99}}\\right) \\\\\n",
    "=  1-\\mathbb{P}\\left(\\frac{S_n-1}{\\sqrt{0.999}}\\leqslant \\frac{2}{\\sqrt{9.9}}\\right)\\\\\n",
    "  \\approx 1- 𝚽\\left(\\frac{2}{\\sqrt{9.9}}\\right) \\approx 0.26\n",
    "\\end{equation*}"
   ]
  },
  {
   "cell_type": "code",
   "execution_count": null,
   "metadata": {
    "id": "n96dp_F_rM-H"
   },
   "outputs": [],
   "source": []
  }
 ],
 "metadata": {
  "colab": {
   "provenance": []
  },
  "hide_input": false,
  "kernelspec": {
   "display_name": "Python 3 (ipykernel)",
   "language": "python",
   "name": "python3"
  },
  "language_info": {
   "codemirror_mode": {
    "name": "ipython",
    "version": 3
   },
   "file_extension": ".py",
   "mimetype": "text/x-python",
   "name": "python",
   "nbconvert_exporter": "python",
   "pygments_lexer": "ipython3",
   "version": "3.10.6"
  },
  "toc": {
   "base_numbering": 1,
   "nav_menu": {},
   "number_sections": true,
   "sideBar": true,
   "skip_h1_title": true,
   "title_cell": "Table of Contents",
   "title_sidebar": "Contents",
   "toc_cell": false,
   "toc_position": {},
   "toc_section_display": true,
   "toc_window_display": false
  },
  "varInspector": {
   "cols": {
    "lenName": 16,
    "lenType": 16,
    "lenVar": 40
   },
   "kernels_config": {
    "python": {
     "delete_cmd_postfix": "",
     "delete_cmd_prefix": "del ",
     "library": "var_list.py",
     "varRefreshCmd": "print(var_dic_list())"
    },
    "r": {
     "delete_cmd_postfix": ") ",
     "delete_cmd_prefix": "rm(",
     "library": "var_list.r",
     "varRefreshCmd": "cat(var_dic_list()) "
    }
   },
   "types_to_exclude": [
    "module",
    "function",
    "builtin_function_or_method",
    "instance",
    "_Feature"
   ],
   "window_display": false
  }
 },
 "nbformat": 4,
 "nbformat_minor": 1
}

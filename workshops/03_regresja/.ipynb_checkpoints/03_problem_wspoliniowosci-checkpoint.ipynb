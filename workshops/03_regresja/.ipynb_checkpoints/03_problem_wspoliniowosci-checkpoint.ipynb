{
 "cells": [
  {
   "cell_type": "code",
   "execution_count": null,
   "metadata": {
    "id": "9AQrOdajQbU_"
   },
   "outputs": [],
   "source": [
    "import numpy as np\n",
    "import pandas as pd\n",
    "\n",
    "import statsmodels.api as sm\n",
    "import statsmodels.formula.api as smf\n",
    "\n",
    "from scipy import stats\n",
    "from patsy import dmatrices\n",
    "\n",
    "import matplotlib.pyplot as plt\n",
    "import seaborn as sns"
   ]
  },
  {
   "cell_type": "markdown",
   "metadata": {
    "id": "Rh2so0xcQbVB"
   },
   "source": [
    "# Problem współliniowości"
   ]
  },
  {
   "cell_type": "markdown",
   "metadata": {
    "id": "AsR3vrUUQbVD"
   },
   "source": [
    "### Diagnostyka\n",
    "\n",
    "1. **Macierz korelacji predyktorów** - $D_X = (\\rho_{ij})$;\n",
    "\n",
    "2. **Uwarunkowanie macierzy** $\\frac{\\lambda_{\\text{max}}(D_X)}{\\lambda_{\\text{min}}(D_X)}$ - duże $\\implies$ istnieje para predyktorów zależnych liniowo;\n",
    "\n",
    "3. **VIF** (ang. *variance inflation factor*) - współczynnik podbicia wariancji\n",
    "\n",
    "    Dla $1\\leq i \\leq p-1$: $$R^2_i = \\frac{\\text{RSS}}{\\text{TSS}}$$ dla modelu $x_i \\sim x_{-i}$, gdzie $x_{-i}$ oznacza wszystkie zmienne objaśniające z  pominięciem $i$-tej.\n",
    "\n",
    "    Wówczas\n",
    "    $$\n",
    "    \\text{VIF}_i = \\frac{1}{1-R_i^2}\n",
    "    $$\n",
    "\n",
    "    **Interpretacja:** Duża wartość dla pewnego $i$ wskazuje na potencjalną liniową zależność $i$-tej zmiennej objaśniającej od pozostałych zmiennych. \n",
    "\n",
    "    **Reguła kciuka:** Jeśli $\\text{VIF}_i\\geq 10$, to $i$-tą zmienną uznajemy w przybliżeniu liniowo zależną od pozostałych."
   ]
  },
  {
   "cell_type": "markdown",
   "metadata": {
    "id": "ldihMp89QbVE"
   },
   "source": [
    "# Zadanie 1\n",
    "Dla danych `Carseats` sprawdź, czy występuje w nich problem współliniowości przy użyciu powyższych metod. Jeśli tak, odrzuć ze zbioru zmienne zależne liniowo i dopasuj model regresji liniowej bez nich. Porównaj wyniki."
   ]
  },
  {
   "cell_type": "code",
   "execution_count": null,
   "metadata": {
    "id": "DYuM4Xz0QbVE"
   },
   "outputs": [],
   "source": [
    "carseats = sm.datasets.get_rdataset(dataname=\"Carseats\", package=\"ISLR\", cache=True)"
   ]
  },
  {
   "cell_type": "code",
   "execution_count": null,
   "metadata": {
    "id": "IR2QrlsmiPK3"
   },
   "outputs": [],
   "source": [
    "carseats.data"
   ]
  },
  {
   "cell_type": "code",
   "execution_count": null,
   "metadata": {
    "id": "Wm720hsXiMsT"
   },
   "outputs": [],
   "source": [
    "Xvar = carseats.data.loc[:,~carseats.data.columns.isin(['Sales'])]\n",
    "features = Xvar.columns\n",
    "correlation_matrix = Xvar.corr()\n",
    "print(correlation_matrix)"
   ]
  },
  {
   "cell_type": "code",
   "execution_count": null,
   "metadata": {
    "id": "h24NVjZviJ0H"
   },
   "outputs": [],
   "source": [
    "##zrobimy heatmapę od wartości bezwzględnych 0 - brak koralcji,  1-mocna korelacja\n",
    "import matplotlib as mpl\n",
    "heatmap = plt.pcolor(np.abs(correlation_matrix), cmap=mpl.cm.coolwarm, alpha=0.8)\n",
    "\n",
    "heatmap.axes.set_frame_on(False)\n",
    "heatmap.axes.set_yticks(np.arange(correlation_matrix.shape[0]) + 0.5, minor=False)\n",
    "heatmap.axes.set_xticks(np.arange(correlation_matrix.shape[1]) + 0.5, minor=False)\n",
    "heatmap.axes.set_xticklabels(features, minor=False)\n",
    "plt.xticks(rotation=90)\n",
    "heatmap.axes.set_yticklabels(features, minor=False)\n",
    "plt.tick_params(axis='both', which='both', bottom='off', \n",
    "                    top='off', left='off', right='off')\n",
    "plt.colorbar()\n",
    "plt.show()"
   ]
  },
  {
   "cell_type": "code",
   "execution_count": null,
   "metadata": {
    "id": "JZ7sBRADiHL7"
   },
   "outputs": [],
   "source": [
    "#Vify\n",
    "from statsmodels.stats.outliers_influence import variance_inflation_factor\n",
    "columns = list(carseats.data.columns)\n",
    "columns.remove('Sales')\n",
    "features = \"+\".join(columns)\n",
    "y, X = dmatrices('Sales ~ ' + features+\"-1\", data=carseats.data, return_type='dataframe')\n",
    "\n",
    "vif = pd.DataFrame()\n",
    "vif[\"VIF Factor\"] = [variance_inflation_factor(X.values, i) for i in range(X.shape[1])]\n",
    "vif[\"features\"] = X.columns\n",
    "vif"
   ]
  },
  {
   "cell_type": "markdown",
   "metadata": {
    "id": "w4lwRB6vQbVI"
   },
   "source": [
    "# Zadanie 2\n",
    "Wczytaj dane `kc_house_data.csv` ([This dataset contains house sale prices for King County, which includes Seattle. It includes homes sold between May 2014 and May 2015](https://www.kaggle.com/harlfoxem/housesalesprediction/data)).\n",
    "\n",
    "Dopasuj model `price ~ bathrooms + sqft_living + sqft_lot + sqft_above + sqft_basement + lat + long`, uwzględnij współliniowość predyktorów."
   ]
  },
  {
   "cell_type": "code",
   "execution_count": null,
   "metadata": {
    "id": "CtGE_AychsoL"
   },
   "outputs": [],
   "source": [
    "house = pd.read_csv('kc_house_data.csv')\n",
    "house.head()"
   ]
  },
  {
   "cell_type": "code",
   "execution_count": null,
   "metadata": {
    "id": "ZjED21XCmXD0"
   },
   "outputs": [],
   "source": [
    "columns = np.array(['bathrooms', 'sqft_living', 'sqft_lot',\n",
    "                    'sqft_above', 'sqft_basement', 'lat', 'long'])\n",
    "lm = smf.ols('price~bathrooms+sqft_living+sqft_lot+sqft_above+sqft_basement+lat+long',data = house).fit()"
   ]
  },
  {
   "cell_type": "code",
   "execution_count": null,
   "metadata": {
    "id": "2D6IZPiihvG2"
   },
   "outputs": [],
   "source": [
    "lm.summary()"
   ]
  },
  {
   "cell_type": "code",
   "execution_count": null,
   "metadata": {
    "id": "mKjuwPhRhx1S"
   },
   "outputs": [],
   "source": [
    "sns.heatmap(abs(house.corr()),cmap=mpl.cm.coolwarm, alpha=0.8)"
   ]
  },
  {
   "cell_type": "code",
   "execution_count": null,
   "metadata": {
    "id": "wjATXpgch1JC"
   },
   "outputs": [],
   "source": [
    "# #Vify\n",
    "from statsmodels.stats.outliers_influence import variance_inflation_factor\n",
    "vif = pd.DataFrame()\n",
    "vif[\"VIF Factor\"] =[variance_inflation_factor(house[columns].values,i) for i in range(len(columns))]\n",
    "vif[\"features\"] = columns\n",
    "vif"
   ]
  },
  {
   "cell_type": "code",
   "execution_count": null,
   "metadata": {
    "id": "f94q6sKHSHiu"
   },
   "outputs": [],
   "source": []
  },
  {
   "cell_type": "code",
   "execution_count": null,
   "metadata": {
    "id": "L2bZTBzFSED6"
   },
   "outputs": [],
   "source": []
  },
  {
   "cell_type": "code",
   "execution_count": null,
   "metadata": {
    "id": "_RiN_0iFSD7-"
   },
   "outputs": [],
   "source": []
  },
  {
   "cell_type": "code",
   "execution_count": null,
   "metadata": {
    "id": "43I8YHJMSDyi"
   },
   "outputs": [],
   "source": []
  },
  {
   "cell_type": "markdown",
   "metadata": {
    "id": "jh1bhUQJQbVK"
   },
   "source": [
    "# Zadanie 3\n",
    "Wczytaj zbiór `Hald.csv`. Znajdź najlepszy model regresji liniowej uwzględniając współliniowość predyktorów.\n",
    "\n",
    "Opis zbioru:\n",
    "\n",
    "    Heat evolved during setting of 13 cement mixtures of four basic ingredients. Each ingredient percentage appears to be rounded down to a full integer. The sum of the four mixture percentages varies from a maximum of 99% to a minimum of 95%. If all four regressor X-variables always summed to 100%, the centered X-matrix would then be of rank only 3. Thus, the regression of heat on four X-percentages is ill-conditioned, with an approximate rank deficiency of MCAL = 1. The first column is the response and the remaining four columns are the predictors."
   ]
  },
  {
   "cell_type": "code",
   "execution_count": null,
   "metadata": {
    "id": "nvgN63LUQlL_"
   },
   "outputs": [],
   "source": [
    "hald = pd.read_csv(\"Hald.csv\")\n",
    "hald.head()"
   ]
  },
  {
   "cell_type": "markdown",
   "metadata": {
    "id": "MFrrx4Z_QbVM"
   },
   "source": [
    "# Obserwacje odstające"
   ]
  },
  {
   "cell_type": "markdown",
   "metadata": {
    "id": "NOcJ0JWHQbVM"
   },
   "source": [
    "### Diagnostyka\n",
    "\n",
    "Obserwacja odstająca (ang.outlier) jest obserwacją, która nie spełnia równania regresji czyli nie należy do modelu regresji. Obserwacje odstające mogą znacząco wpływać na postać prostej regresji.\n",
    "\n",
    "**Rezyduum** $e_i$ przyjmuje dla $i$-tej obserwacji wartość różnicy:\n",
    "$$\n",
    "e_i = y_i - \\hat{y}_i.\n",
    "$$\n",
    "\n",
    "**Błąd standardowy** takiego rezyduum $e_i$ jest równy:\n",
    "$$\n",
    "\\text{SE}(e_i) = S\\cdot\\sqrt{1-h_i},\n",
    "$$\n",
    "gdzie \n",
    "- $S = \\sigma$ oznacza przęciętne odchylenie wartości rzeczywistych od wartości przewidywanych,\n",
    "- $h_i$ - wartość wpływu $i$-tej obserwacji, która wyraża się wzorem\n",
    "$$\n",
    "h_i = \\frac{1}{n} + \\frac{(x_i - \\overline{x})^2}{\\sum_{i=1}^n(x_i - \\overline{x})^2}\n",
    "$$\n",
    "\n",
    "Obserwacje odstajacę dzielimy na \n",
    "    - wpływowe - obserwacja jest wpływowa jesli jej usuniecie z modelu ma duży wpływ na dopasowanie modelu/prognoże na podstawie modelu;\n",
    "    - niewpływowe - obserwacja jest niewpływowa jesli jej usuniecie z modelu nie ma wpływu na dopasowanie modelu/prognoże na podstawie modelu;\n",
    "  "
   ]
  },
  {
   "cell_type": "markdown",
   "metadata": {
    "id": "sNnQ7otuQbVN"
   },
   "source": [
    "  \n",
    "### Detekcja obserwacji odstających:\n",
    "\n",
    "1. **Wykres studentyzowanych rezyduów**\n",
    "\n",
    "Dla małych prób, wartości zmiennej objaśniającej nie są w miarę równomiernie rozłożone i niektóre błędy $\\text{SE}(e_i)$ mogą znacznie odbierać od błędu $S$. Wówczas dobrze jest analizować rezydua przy użyciu tzw. **rezyduów studentyzowanych**.\n",
    "\n",
    "$$r_i =\\frac{e_i}{\\text{SE}(e_i)}$$\n",
    "\n",
    "To pozwoli wykrywać obserwacje faktycznie odstające, pomijając te, które przy analizie rezyduów $e_i$ sugerowały, że są odstające mimo, że takimi nie były. Dla rezyduów studentyzowanych zakłada się, że przy poziomie ufności równym 0.95 uznaje się je za normalne (zachowujące własność rozkładu normalnego), gdy należą do przedziału $[−2,+2]$.\n",
    "\n",
    "Wykres studentyzowanych rezyduów względem ich indeksu identyfikuje duże wartości, które przypuszczalnie odpowiadają obserwacjom odstającym. Metodata nie sprawdzi się w sytuacji, gdy mamy w analizowanym zbiorze obserwację wpływową o małej wartości $e_i$. Wówczas bowiem nie określimy jej jako odstającej mimo, że taka w istocie jest."
   ]
  },
  {
   "cell_type": "markdown",
   "metadata": {
    "id": "fBDUcQ59QbVP"
   },
   "source": [
    "2. **Wpływowość**\n",
    "\n",
    "Wpływ $i$-tej obserwacji $h_i$ określamy wzorem\n",
    "$$\n",
    "h_i = \\frac{1}{n} + \\frac{(x_i - \\overline{x})^2}{\\sum_{i=1}^n(x_i - \\overline{x})^2},\n",
    "$$ \n",
    "który określa odstępstwo $x_i$ od $\\overline{x}$.\n",
    "\n",
    "Dla modelu o $p$ parametrach (gdzie $p$ to łączna liczba zmiennych objaśniających i objaśnianych), obserwację uznajemy za wpływową jeśli \n",
    "$$\n",
    "h_i \\geq \\frac{2p}{n}.\n",
    "$$"
   ]
  },
  {
   "cell_type": "markdown",
   "metadata": {
    "id": "FWh3TKXPQbVP"
   },
   "source": [
    "3. **Odległość Cooka**\n",
    "\n",
    "Jest to miara stopnia zmiany współczynników regresji, gdyby dany przypadek pominąć w obliczeniach współczynników:\n",
    "$$\n",
    "D_i = \\frac{\\sum_{j=1}^n(\\hat{Y}_j - \\hat{Y}_{j(i)})^2}{pS^2},\n",
    "$$\n",
    "gdzie $\\hat{Y}_j$ - prognoza na podstawie pełnych danych, $\\hat{Y}_{j(i)}$ - prognoza bez $i$-tej obserwacji.\n",
    "\n",
    "**Interpretacja**: Duża wartość $D_i$ wskazuje na znaczy wpływ usunięcia $i$-tej obserwacji, czyli $i$-ta obserwacja jest obserwacją wpływową.\n",
    "\n",
    "Wszystkie wartości dla danej odległości powinny być tego samego rzędu. Jeśli tak nie jest, to prawdopodobnie dany przypadek ma istotnie duży wpływ na obciążenie równania regresji.\n",
    "\n",
    "**Reguła kciuka**: $D_i > \\frac{4}{(n − p − 1)}$"
   ]
  },
  {
   "cell_type": "markdown",
   "metadata": {
    "id": "9xiJa-NJQbVQ"
   },
   "source": [
    "# Zadanie 4\n",
    "Przeanalizuj obserwacje odstające w modelu `model` dla danych `Carseats`. Zidentyfikuj obserwacje im odpowiadające, usuń je ze zbioru i zbuduj model ponownie. Porównaj dopasowanie modeli. \n",
    "Analogicznie postępuj dla modelu `model2`."
   ]
  },
  {
   "cell_type": "code",
   "execution_count": null,
   "metadata": {
    "id": "HBNkxZ-6c8Bc"
   },
   "outputs": [],
   "source": [
    "carseats = sm.datasets.get_rdataset(dataname=\"Carseats\", package=\"ISLR\", cache=True)"
   ]
  },
  {
   "cell_type": "code",
   "execution_count": null,
   "metadata": {
    "id": "3M4PeuSOLkxm"
   },
   "outputs": [],
   "source": [
    "carseats_df = carseats.data"
   ]
  },
  {
   "cell_type": "code",
   "execution_count": null,
   "metadata": {
    "id": "TOYI9s1XhdBe"
   },
   "outputs": [],
   "source": [
    "columns = list(carseats_df.columns)\n",
    "columns.remove('Sales')\n",
    "features = \"+\".join(columns)\n",
    "print(features)\n",
    "model = smf.ols('Sales~'+features,data = carseats_df)\n",
    "fitted = model.fit()\n",
    "fitted.summary()"
   ]
  },
  {
   "cell_type": "code",
   "execution_count": null,
   "metadata": {
    "id": "aCDEcIzchaaP"
   },
   "outputs": [],
   "source": [
    "h = fitted.get_influence()\n",
    "np.where(np.abs(h.resid_studentized)>2)"
   ]
  },
  {
   "cell_type": "code",
   "execution_count": null,
   "metadata": {
    "id": "8gjAFqzBhXkv"
   },
   "outputs": [],
   "source": [
    "##wartości odstające\n",
    "x = np.arange(1, h.resid_studentized.size + 1)\n",
    "plt.scatter(x=x, y=h.resid_studentized)\n",
    "plt.hlines(xmin=1, xmax=h.resid_studentized.size + 1, y=-2, color=\"r\")\n",
    "plt.hlines(xmin=1, xmax=h.resid_studentized.size + 1, y=0, color=\"r\")\n",
    "plt.hlines(xmin=1, xmax=h.resid_studentized.size + 1, y=2, color=\"r\")\n",
    "##te poza pasem kwalifikujemy jako do usunięcia"
   ]
  },
  {
   "cell_type": "code",
   "execution_count": null,
   "metadata": {
    "id": "ydt6DA9xhUur"
   },
   "outputs": [],
   "source": [
    "##wartości wpływowe h_i\n",
    "h.hat_matrix_diag\n",
    "threshold = 2*h.exog.shape[1]/h.exog.shape[0]\n",
    "\n",
    "x = np.arange(1, h.hat_matrix_diag.size + 1)\n",
    "plt.scatter(x=x, y=h.hat_matrix_diag)\n",
    "plt.hlines(xmin=1, xmax=h.hat_matrix_diag.size + 1, y=threshold, color=\"r\")\n",
    "##są dwie obs wpływowe"
   ]
  },
  {
   "cell_type": "code",
   "execution_count": null,
   "metadata": {
    "id": "VqnjsCc_hRvX"
   },
   "outputs": [],
   "source": [
    "##obserwacje wpływowe odległości cooka (inna metoda detekcji wpływowości)\n",
    "threshold = 4/(h.exog.shape[0]-h.exog.shape[1]-1)\n",
    "h.cooks_distance\n",
    "x = np.arange(1, h.cooks_distance[0].size + 1)\n",
    "plt.scatter(x=x, y=h.cooks_distance[0])\n",
    "plt.hlines(xmin=1, xmax = x[-1], y = threshold, color='r')"
   ]
  }
 ],
 "metadata": {
  "colab": {
   "provenance": []
  },
  "hide_input": false,
  "kernelspec": {
   "display_name": "Python 3 (ipykernel)",
   "language": "python",
   "name": "python3"
  },
  "language_info": {
   "codemirror_mode": {
    "name": "ipython",
    "version": 3
   },
   "file_extension": ".py",
   "mimetype": "text/x-python",
   "name": "python",
   "nbconvert_exporter": "python",
   "pygments_lexer": "ipython3",
   "version": "3.10.6"
  },
  "toc": {
   "base_numbering": 1,
   "nav_menu": {},
   "number_sections": true,
   "sideBar": true,
   "skip_h1_title": true,
   "title_cell": "Table of Contents",
   "title_sidebar": "Contents",
   "toc_cell": false,
   "toc_position": {},
   "toc_section_display": true,
   "toc_window_display": false
  },
  "varInspector": {
   "cols": {
    "lenName": 16,
    "lenType": 16,
    "lenVar": 40
   },
   "kernels_config": {
    "python": {
     "delete_cmd_postfix": "",
     "delete_cmd_prefix": "del ",
     "library": "var_list.py",
     "varRefreshCmd": "print(var_dic_list())"
    },
    "r": {
     "delete_cmd_postfix": ") ",
     "delete_cmd_prefix": "rm(",
     "library": "var_list.r",
     "varRefreshCmd": "cat(var_dic_list()) "
    }
   },
   "types_to_exclude": [
    "module",
    "function",
    "builtin_function_or_method",
    "instance",
    "_Feature"
   ],
   "window_display": false
  }
 },
 "nbformat": 4,
 "nbformat_minor": 1
}

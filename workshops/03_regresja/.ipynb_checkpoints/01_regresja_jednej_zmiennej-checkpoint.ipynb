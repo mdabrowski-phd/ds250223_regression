{
 "cells": [
  {
   "cell_type": "markdown",
   "metadata": {
    "id": "zNxdSHh8WEJ-"
   },
   "source": [
    "# Model regresji prostej\n",
    "\n",
    "$$Y = \\beta_0 + \\beta_1 X + \\epsilon,$$\n",
    "gdzie $\\epsilon \\sim \\mathcal{N}(0, \\sigma)$."
   ]
  },
  {
   "cell_type": "markdown",
   "metadata": {
    "id": "80XwTpk_WEKF"
   },
   "source": [
    "**Nomenklatura:**\n",
    "\n",
    "$Y$ - zmienna zależna, zmienna odpowiedzi, zmienna objaśniana\n",
    "\n",
    "$X$ - zmienna niezależna, predyktor, atrybut\n",
    "\n",
    "$\\beta_0, \\beta_1$ - współczynniki regregresji\n",
    "\n",
    "$\\epsilon$ - błąd losowy"
   ]
  },
  {
   "cell_type": "markdown",
   "metadata": {
    "id": "EWSfupDzWEKG"
   },
   "source": [
    "**Cel:** \n",
    "\n",
    "Przy użyciu par  $(x_1, y_1), (x_2, y_2), \\ldots (x_n, y_n)$ odpowiadającym pomiarom, odpowiednio, \n",
    "zmiennej niezależnej $X$ i zmiennej zależnej $Y$, wyznaczyć współczynniki \n",
    "$b_0, b_1$ tak, aby \n",
    "$$y_i \\approx b_0 + b_1 x_i$$"
   ]
  },
  {
   "cell_type": "markdown",
   "metadata": {
    "id": "v0-_axwFWEKG"
   },
   "source": [
    "**Suma błędów  kwadratów:**\n",
    "    \n",
    "$$RSS = e_1^2 + e_2^2 + \\ldots + e_n^2 = (y_1 - \\hat{y_1})^2 + (y_2 - \\hat{y_2})^2 + \\ldots + (y_n - \\hat{y_n})^2$$"
   ]
  },
  {
   "cell_type": "markdown",
   "metadata": {
    "id": "m8DU7B2LWEKH"
   },
   "source": [
    "**Funkcja kryterialna:**\n",
    "    \n",
    "$$(b_0, b_1) = \\arg\\!\\min_{(b_0, b_1)} \\sum_{i=1}^n (y_i - \\hat{y_i})^2 = \\arg\\!\\min_{(b_0, b_1)} \\sum_{i=1}^n (y_i - (b_0 + b_1 x_i))^2$$"
   ]
  },
  {
   "cell_type": "markdown",
   "metadata": {
    "id": "nMAWKnlMWEKH"
   },
   "source": [
    "$$b_0 = \\frac{\\sum_{i=1}^{n}(x_i - \\overline{x})(y_i - \\overline{y})}{\\sum_{i=1}^n(x_i - \\overline{x})^2}$$\n",
    "\n",
    "$$b_1 = \\overline{y} - b_1\\overline{x}$$"
   ]
  },
  {
   "cell_type": "code",
   "execution_count": null,
   "metadata": {
    "id": "4u_N-raIWEKI"
   },
   "outputs": [],
   "source": [
    "import numpy as np\n",
    "import pandas as pd\n",
    "import seaborn as sns\n",
    "\n",
    "import statsmodels.api as sm\n",
    "import statsmodels.formula.api as smf\n",
    "\n",
    "from scipy import stats\n",
    "from patsy import dmatrices\n",
    "from statsmodels.stats.stattools import durbin_watson\n",
    "\n",
    "import matplotlib.pyplot as plt"
   ]
  },
  {
   "cell_type": "markdown",
   "metadata": {
    "id": "cFVGVRlFWEKM"
   },
   "source": [
    "## Pakiet [`statsmodels`](https://www.statsmodels.org/stable/genindex.html)"
   ]
  },
  {
   "cell_type": "code",
   "execution_count": null,
   "metadata": {
    "id": "RXql0MAk68Yu"
   },
   "outputs": [],
   "source": [
    "# help(sm.datasets)"
   ]
  },
  {
   "cell_type": "code",
   "execution_count": null,
   "metadata": {
    "id": "dKaW240JWEKO"
   },
   "outputs": [],
   "source": [
    "#pobieranie plików z statsmodels\n",
    "cancer = sm.datasets.cancer.load_pandas()"
   ]
  },
  {
   "cell_type": "code",
   "execution_count": null,
   "metadata": {
    "id": "ly6gBx2J7Auv"
   },
   "outputs": [],
   "source": [
    "print(sm.datasets.cancer.DESCRSHORT)\n",
    "print(sm.datasets.cancer.DESCRLONG)\n",
    "print(sm.datasets.cancer.NOTE)"
   ]
  },
  {
   "cell_type": "code",
   "execution_count": null,
   "metadata": {
    "id": "onhOdC227DfN"
   },
   "outputs": [],
   "source": [
    "cancer.data.head()"
   ]
  },
  {
   "cell_type": "code",
   "execution_count": null,
   "metadata": {
    "id": "29rzSO11K0h_"
   },
   "outputs": [],
   "source": [
    "# Pobieranie zbiorow danych z R\n",
    "carseats = sm.datasets.get_rdataset(dataname=\"Carseats\", package=\"ISLR\", cache=True)"
   ]
  },
  {
   "cell_type": "code",
   "execution_count": null,
   "metadata": {
    "id": "ho9lxynl7ISy"
   },
   "outputs": [],
   "source": [
    "#opis\n",
    "print(carseats.__doc__)"
   ]
  },
  {
   "cell_type": "markdown",
   "metadata": {
    "id": "3BUFfPfPWEKK"
   },
   "source": [
    "# Zadanie 1\n",
    "\n",
    "Wczytaj zbiór `Carseats`, który zawierają dane o sprzedaży fotelików samochodowych pewnej firmy w 400 różnych lokalizacjach:\n",
    "\n",
    "• sprzedaż jednostek (w tysiącach) w danej lokalizacji (`Sales`),\n",
    "\n",
    "• cena sprzedaży konkurenta w danej lokalizacji (`CompPrice`),\n",
    "\n",
    "• poziom dochodów społeczności wdanej lokalizacji w tys. dolarów (`Income`),\n",
    "\n",
    "• wielkość populacji w danym regionie (`Population`),\n",
    "\n",
    "• lokalny budżet reklamowy dla firmy w danej lokalizacji (`Advertising`),\n",
    "\n",
    "• cena sprzedaży w danej lokalizacji (`Price`),\n",
    "\n",
    "• na ile korzystne jest miejsce na półkach sklepu dla fotelików w danym regionie?\n",
    "(`Shelveloc`),\n",
    "\n",
    "• średni wiek ludności lokalnej (`Age`),\n",
    "\n",
    "• poziom wykształcenia w każdej lokalizacji (`Education`),\n",
    "\n",
    "• czy położenie sklepu jest w lokalizacji miejskiej? (`Urban`)\n",
    "\n",
    "• czy sklep znajduje się w USA? (`US`)"
   ]
  },
  {
   "cell_type": "markdown",
   "metadata": {
    "id": "xBvDcm3nWEKL"
   },
   "source": [
    "1. Interesuje nas zależność wielkości sprzedaży fotelików samochodowych (w tys. jednostek) od ich ceny sprzedaży (zmienne `Sales` i `Price`). Określ zmienną zależną i niezależną, a następnie:\n",
    "* Narysuj wykres rozproszenia tych zmiennych. \n",
    "* Czy zmienne te są zależne? \n",
    "* Oblicz dla nich współczynnik korelacji Pearsona. \n",
    "       \n",
    "2. Wyznacz funkcję regresji wielkości sprzedaży fotelików względem ich ceny. Narysuj ją na wykresie rozproszenia.\n",
    "\n",
    "3. Zweryfikuj dopasowanie modelu:\n",
    "       a) Czy istnieje związek pomiędzy zmienną zależną a niezależną?\n",
    "       b) Czy wyraz wolny jest istotny w modelu?\n",
    "       c) Oblicz i zinterpretuj wartość współczynnika determinacji R2.\n",
    "       d) Sprawdź, czy spełnione jest założenie o rozkładzie normalnym reszt.\n",
    "       \n",
    "4. Powtórz punkty 1-3 dla zależności wielkości sprzedaży fotelików samochodowych (w tys. jednostek) od ich ceny sprzedaży u konkurenta w danej lokalizacji (zmienne `Sales` i `CompPrice`)."
   ]
  },
  {
   "cell_type": "code",
   "execution_count": null,
   "metadata": {
    "id": "TmlZxzi4j4C8"
   },
   "outputs": [],
   "source": [
    "carseats_df = carseats.data\n",
    "carseats_df"
   ]
  },
  {
   "cell_type": "code",
   "execution_count": null,
   "metadata": {
    "id": "XWuxcjQsOtl-"
   },
   "outputs": [],
   "source": []
  },
  {
   "cell_type": "code",
   "execution_count": null,
   "metadata": {
    "id": "CHitxwLt7ZOa"
   },
   "outputs": [],
   "source": [
    "#metoda1\n",
    "model = smf.ols('Sales~Price',data = carseats_df)\n",
    "fitted_model = model.fit()\n",
    "fitted_model.summary()"
   ]
  },
  {
   "cell_type": "code",
   "execution_count": null,
   "metadata": {
    "id": "f2p-jb6h7e4O"
   },
   "outputs": [],
   "source": [
    "#metoda2\n",
    "carseats_df2 = sm.add_constant(carseats.data,prepend = True,has_constant='add')\n",
    "carseats_df2 \n",
    "X,Y = carseats_df2[['const','Price']],carseats_df2['Sales']\n",
    "model2 = sm.OLS(endog = Y,exog = X)\n",
    "fitted_model2 = model2.fit()\n",
    "fitted_model2.summary()"
   ]
  },
  {
   "cell_type": "code",
   "execution_count": null,
   "metadata": {
    "id": "3Ua62-kE7gve"
   },
   "outputs": [],
   "source": [
    "#metoda3\n",
    "Y,X = dmatrices('Sales~Price',data = carseats_df,return_type = 'dataframe')\n",
    "print(Y)\n",
    "print(X)\n",
    "model3 = sm.OLS(endog = Y,exog = X)\n",
    "fitted_model3 = model3.fit()\n",
    "fitted_model3.summary()"
   ]
  },
  {
   "cell_type": "code",
   "execution_count": null,
   "metadata": {
    "id": "hd5ug6ad7kuu"
   },
   "outputs": [],
   "source": [
    "#Jak wyciągać poszczególne informacje z summary?\n",
    "print(\"Liczba obserwacji w zbiorze treningowym (No. Observations): {}\".format(model3.nobs))\n",
    "print(\"\\n\")\n",
    "\n",
    "print(\"Liczba stopni swobody (Df Residuals): {}\".format(model3.df_resid))\n",
    "print(\"Liczba stopni swobody w modelu (Df Model): {}\".format(model3.df_model))\n",
    "print(\"\\n\")\n",
    "\n",
    "print(\"Współczynnik determinacji R2 (R-squared): {}\".format(fitted_model3.rsquared))\n",
    "print(\"Modyfikowany współczynnik determinacji R2 (Adj. R-squared): {}\".format(fitted_model3.rsquared_adj))\n",
    "print(\"\\n\")\n",
    "\n",
    "print(\"Wartość statystyki testowej testu F (F-statistic): {}\".format(fitted_model3.fvalue))\n",
    "print(\"P-wartość testu F (Prob (F-statistic)): {}\".format(fitted_model3.f_pvalue))\n",
    "print(\"\\n\")\n",
    "\n",
    "print(\"Wartość funkcji wiarogodności (Log-Likelihood): {}\".format(fitted_model3.llf))\n",
    "print(\"AIC: {}\".format(fitted_model3.aic))\n",
    "print(\"BIC: {}\".format(fitted_model3.bic))\n",
    "print(\"\\n\")\n",
    "\n",
    "normaltest = stats.normaltest(fitted_model3.resid)\n",
    "print(\"Wartość statystyki testowej testu normalności D'Angostino (Omnibus): {}\". format(normaltest.statistic))\n",
    "print(\"P-wartość testu D'Angostino (Prob(Omnibus)): {}\".format(normaltest.pvalue))\n",
    "print(\"\\n\")\n",
    "\n",
    "print(\"Skośność (Skew): {}\".format(stats.skew(fitted_model3.resid)))\n",
    "print(\"Kurtoza (Kurtosis): {}\".format(stats.kurtosis(fitted_model3.resid, fisher = False, bias = True)))\n",
    "print(\"\\n\")\n",
    "\n",
    "normaltest2 = stats.jarque_bera(fitted_model3.resid)\n",
    "print(\"Wartość statystyki Durbina-Watsona: {}\".format(durbin_watson(fitted_model3.resid)))\n",
    "print(\"Wartość statystyki Jarque-Bera: {}\".format(normaltest2[0]))\n",
    "print(\"P-wartość testu Jarque-Bera: {}\".format(normaltest2[1]))\n",
    "print(\"Wskaźnik uwarunkowania (Cond. No): {}\".format(fitted_model3.condition_number))\n",
    "print(\"\\n\")\n",
    "\n",
    "print(\"Wartości dopasowanych wartości parametrów regresji:\")\n",
    "print(fitted_model3.params)\n",
    "print(\"\\n\")\n",
    "\n",
    "print(\"Odchylenie standardowe dla dopasowanych estymatorów parametrów regresji:\")\n",
    "print(fitted_model3.HC0_se)\n",
    "print(\"\\n\")\n",
    "\n",
    "print(\"Wartość statystki testu t-Studenta\")\n",
    "print(fitted_model3.tvalues)\n",
    "print(\"\\n\")\n",
    "\n",
    "print(\"P-wartości testu t-Studenta\")\n",
    "print(fitted_model3.pvalues)\n",
    "print(\"\\n\")\n",
    "\n",
    "print(\"Przedział ufności dla współczynnika regresji dla wyrazu wolnego:\")\n",
    "print(fitted_model3.conf_int_el(0))\n",
    "print(\"Przedział ufności dla współczynnika regresji dla zmiennej TV:\")\n",
    "print(fitted_model3.conf_int_el(1))"
   ]
  },
  {
   "cell_type": "code",
   "execution_count": null,
   "metadata": {
    "id": "hCJZGL_pO9NW"
   },
   "outputs": [],
   "source": []
  },
  {
   "cell_type": "markdown",
   "metadata": {
    "id": "x1V-_XBVWEKb"
   },
   "source": [
    "# Przekształcanie zmiennej objaśniającej"
   ]
  },
  {
   "cell_type": "markdown",
   "metadata": {
    "id": "JgWF6PE1WEKc"
   },
   "source": [
    "# Zadanie 2\n",
    "Wczytaj dane `pollution.csv` (opis danych: https://www.rdocumentation.org/packages/SMPracticals/versions/1.4-3/topics/pollution). Dopasuj model regresji liniowej postaci: `mort~nox`. Czy model jest dobrze dopasowany do danych? Jeżeli nie, dlaczego?"
   ]
  },
  {
   "cell_type": "code",
   "execution_count": null,
   "metadata": {
    "id": "gtvWfRM8XlYB"
   },
   "outputs": [],
   "source": [
    "# #https://www.rdocumentation.org/packages/SMPracticals/versions/1.4-3/topics/pollution\n",
    "pollution = pd.read_csv(\"pollution.csv\")"
   ]
  },
  {
   "cell_type": "code",
   "execution_count": null,
   "metadata": {
    "id": "bBLb3etoPMJE"
   },
   "outputs": [],
   "source": []
  },
  {
   "cell_type": "markdown",
   "metadata": {
    "id": "frVr7ocXWEKd"
   },
   "source": [
    "### Metoda Boxa-Coxa\n",
    "\n",
    "Metoda Boxa-Coxa jest popularnym rozwiązaniem stosowanym do przekształcenia zmiennej. Ważnym założeniem metody jest dodatniość wszystkich wartość.\n",
    "Metoda przekształca zmienną $z>0 \\to t_{\\lambda}(z)$, gdzie \n",
    "$$\n",
    "    t_{\\lambda}(z)=\\left.\n",
    "    \\begin{cases}\n",
    "    \\frac{z^{\\lambda}-1}{\\lambda} \\quad &\\text{dla} \\quad \\lambda\\neq 0\\\\\n",
    "    \\log(z) \\quad &\\text{dla} \\quad \\lambda= 0.\n",
    "    \\end{cases}\\right.\n",
    "$$\n",
    "\n",
    "Wybór $\\lambda$ odbywa się na podstawie metody największej wiarogodności. Funkcja wiarogodności zakłada normalność błędów i ma następującą postać:\n",
    "$$\n",
    "L(\\lambda)=-\\frac{n}{2}\\log\\Big(\\frac{\\text{RRS}_{\\lambda}}{n}\\Big) + (\\lambda-1)\\sum\\log y_i,\n",
    "$$\n",
    "gdzie $\\text{RRS}_{\\lambda}$, to $\\text{RRS}$ dla odpowiedzi $t_{\\lambda}(z)$."
   ]
  },
  {
   "cell_type": "markdown",
   "metadata": {
    "id": "qf4kfWuYWEKe"
   },
   "source": [
    "## Zadanie 2.1\n",
    "Znajdź najlepszy parametr $\\lambda$ dla przekształcenia zmiennej niezależnej `nox`, przekształć zmienną zgodnie z uzyskaną wartością i dopasuj model prostej regresji liniowej."
   ]
  },
  {
   "cell_type": "code",
   "execution_count": null,
   "metadata": {
    "id": "oTP_4AhL87hi"
   },
   "outputs": [],
   "source": [
    "nox_boxcox = stats.boxcox(pollution['nox'])\n",
    "nox_boxcox"
   ]
  },
  {
   "cell_type": "code",
   "execution_count": null,
   "metadata": {
    "id": "IIUILPs189-K"
   },
   "outputs": [],
   "source": [
    "X = sm.add_constant(nox_boxcox[0],prepend = True,has_constant = 'add')\n",
    "Y = pollution['mort']\n",
    "m_boxcox = sm.OLS(endog = Y,exog = X).fit()\n",
    "m_boxcox.summary()"
   ]
  },
  {
   "cell_type": "code",
   "execution_count": null,
   "metadata": {
    "id": "2-xpocA-9CMO"
   },
   "outputs": [],
   "source": [
    "sns.scatterplot(x=nox_boxcox[0],y=y)\n",
    "plt.plot(nox_boxcox[0], m_boxcox.params[1]*nox_boxcox[0]+m_boxcox.params[0],c='red')\n",
    "\n",
    "plt.show()"
   ]
  },
  {
   "cell_type": "markdown",
   "metadata": {
    "id": "4_W1RLQ0WEKf"
   },
   "source": [
    "Co w przypadku, gdy zmienna losowa, która chcielibyśmy przekształcić byłaby niedodatnia?"
   ]
  },
  {
   "cell_type": "markdown",
   "metadata": {
    "id": "4ZKou2S4WEKf"
   },
   "source": [
    "### Metoda Yeo-Johnsona\n",
    "\n",
    "$$\n",
    "    t_{\\lambda}(z)=\\left.\n",
    "    \\begin{cases}\n",
    "    \\frac{(y+1)^{\\lambda} -1}{\\lambda} \\quad &\\text{dla} \\quad \\lambda\\neq 0, y\\geq 0,\\\\\n",
    "    \\log(y+1) \\quad &\\text{dla} \\quad \\lambda= 0, y\\geq0,\\\\\n",
    "    -\\frac{(-y+1)^{2-\\lambda}-1}{2-\\lambda} \\quad &\\text{dla} \\quad \\lambda\\neq 2, y<0,\\\\\n",
    "    -\\log(-y+1) \\quad &\\text{dla} \\quad \\lambda= 2, y<0.\n",
    "    \\end{cases}\\right.\n",
    "$$"
   ]
  },
  {
   "cell_type": "code",
   "execution_count": null,
   "metadata": {
    "id": "5FX4-DjoWEKg"
   },
   "outputs": [],
   "source": [
    "# ?stats.yeojohnson"
   ]
  },
  {
   "cell_type": "markdown",
   "metadata": {
    "id": "4hiPX1rxWEKg"
   },
   "source": [
    "# Zmienne kategoryczne"
   ]
  },
  {
   "cell_type": "markdown",
   "metadata": {
    "id": "GCj79j2bWEKg"
   },
   "source": [
    "# Zadanie 3\n",
    "Wczytaj dane `Salaries` z pakieru `carData` i dopasuj model `salary ~ sex`. Zwróć uwagę na kodowanie zmiennej `sex`. "
   ]
  },
  {
   "cell_type": "code",
   "execution_count": null,
   "metadata": {
    "id": "B_BDklUF9LlK"
   },
   "outputs": [],
   "source": [
    "# # http://www.sthda.com/english/articles/40-regression-analysis/163-regression-with-categorical-variables-dummy-coding-essentials-in-r/\n",
    "salaries = sm.datasets.get_rdataset(dataname=\"Salaries\", package=\"carData\")\n",
    "salaries.data.head()"
   ]
  },
  {
   "cell_type": "code",
   "execution_count": null,
   "metadata": {
    "id": "VZ2bE2w_9NeK"
   },
   "outputs": [],
   "source": [
    "y,X = dmatrices('salary~sex',data = salaries.data,return_type = 'dataframe')\n",
    "X.head()"
   ]
  },
  {
   "cell_type": "code",
   "execution_count": null,
   "metadata": {
    "id": "sIQ71bKp9UTe"
   },
   "outputs": [],
   "source": [
    "sm.OLS(y,X).fit().summary()"
   ]
  },
  {
   "cell_type": "markdown",
   "metadata": {
    "id": "vvEw9TWMF5gB"
   },
   "source": [
    "**Ważne:**\n",
    "\n",
    "Gdy w danych występują zmienne kategoryczne, jak np. w tym przypadku zmienna `sex`, postępujemy z nią następująco\n",
    "\n",
    "1. tworzymy, nową zmienną (ang. *dummy variable*), która\n",
    "\n",
    "    **1**, gdy osoba jest mężczyzną,\n",
    "    \n",
    "    **0**, gdy osoba jest kobietą,\n",
    "    \n",
    "    \n",
    "2. zmienna `sex` jest traktowana w równaniu regresji jako:\n",
    "\n",
    "  $b_0 + b_1$ gdy osoba jest mężczyzną,\n",
    "\n",
    "  $b_0$ gdy osoba jest kobietą."
   ]
  },
  {
   "cell_type": "markdown",
   "metadata": {
    "id": "txnc0DB0GY3J"
   },
   "source": [
    "teraz zmieniamy poziom referencyjny aby był nim Male wówczas zmienna sex jest traktowana w równaniu regresji jako:\\\n",
    "$c_0$ gdy osoba jest mężczyzną,\\\n",
    "$c_0+ c_1$ gdy osoba jest kobietą.\\\n",
    "Zatem $c_0 = b_0+b_1$ i $c_1 = b_0-c_0 = -b_1$"
   ]
  },
  {
   "cell_type": "code",
   "execution_count": null,
   "metadata": {
    "id": "NxPynqIE9WoC"
   },
   "outputs": [],
   "source": [
    "y,X = dmatrices('salary~C(sex,Treatment(\"Male\"))',data = salaries.data,return_type = 'dataframe')\n",
    "X.head()"
   ]
  },
  {
   "cell_type": "code",
   "execution_count": null,
   "metadata": {
    "id": "xW2G1kKs9YFO"
   },
   "outputs": [],
   "source": [
    "sm.OLS(y,X).fit().summary()"
   ]
  },
  {
   "cell_type": "markdown",
   "metadata": {
    "id": "WAHUy5z7WEKh"
   },
   "source": [
    "## Zadanie 3.1 \n",
    "Sprawdź jak została zakodowana zmienna `ShelveLoc` w zbiorze danych `Carseats`. Zmień poziom wartości dla tej zmiennej, sprawdź różnice w modelu."
   ]
  },
  {
   "cell_type": "code",
   "execution_count": null,
   "metadata": {
    "id": "CGBzNGABM__F"
   },
   "outputs": [],
   "source": [
    "np.unique(carseats_df.ShelveLoc) #3 poziomy\n",
    "\n",
    "y,X = dmatrices('Sales~ShelveLoc',data = carseats_df,return_type = 'dataframe')\n",
    "X.head()"
   ]
  },
  {
   "cell_type": "markdown",
   "metadata": {
    "id": "Xaba2_WHWEKi"
   },
   "source": [
    "# Zadanie 4\n",
    "Napisz funkcję, która dla wybranej zmiennej niezależnej dopasuje model prostej liniowej postaci: `Sales ~ X`, gdzie `X` to wybrana zmienna. Następnie, korzystając z napisanej funkcji dopasuj model do każdej zmiennej niezależnej w zbiorze `Carseats`."
   ]
  },
  {
   "cell_type": "code",
   "execution_count": null,
   "metadata": {
    "id": "p2xiqGhbYRpp"
   },
   "outputs": [],
   "source": [
    "def XY_generator(col):\n",
    "    return(dmatrices('Sales ~ {}'.format(col), data=carseats.data, return_type='dataframe'))\n",
    "\n",
    "plt.figure(figsize=(20, 40))\n",
    "\n",
    "columns = carseats_df.columns[carseats_df.columns != 'Sales']\n",
    "\n",
    "for i, col in enumerate(columns):\n",
    "    #dopasowujemy dla zmiennej zależnej Sales  jedną kolumnę z danych (w każdym obrocie inną)\n",
    "    Y, X = XY_generator(col)\n",
    "\n",
    "    plt.subplot(len(columns) // 2 + 1, 2, i+1)\n",
    "    #rysujemy wykres rozproszenia dla każdej pary zmienna niezależna vs zmienna zależna\n",
    "    plt.scatter(carseats_df[col], Y, marker='o')\n",
    "    \n",
    "    #dopasowujemy model jednej zmiennej\n",
    "    model = sm.OLS(endog=Y, exog=X)\n",
    "    fitted_model = model.fit()\n",
    "    plt.plot(carseats_df[col], fitted_model.fittedvalues, color='red')\n",
    "    \n",
    "    plt.xlabel(col)\n",
    "    plt.ylabel('Sales')\n",
    "    #dopisujemy charakterystyki danych modeli R^2 im większe tym lepiej, AIC i BIC im mniej tym lepiej\n",
    "    plt.title(\"R2={}, AIC={}, BIC={}\".format(np.round(fitted_model.rsquared, 2), \n",
    "                                           np.round(fitted_model.aic, 2),\n",
    "                                           np.round(fitted_model.bic, 2)))"
   ]
  }
 ],
 "metadata": {
  "colab": {
   "collapsed_sections": [
    "frVr7ocXWEKd"
   ],
   "provenance": []
  },
  "hide_input": false,
  "kernelspec": {
   "display_name": "Python 3 (ipykernel)",
   "language": "python",
   "name": "python3"
  },
  "language_info": {
   "codemirror_mode": {
    "name": "ipython",
    "version": 3
   },
   "file_extension": ".py",
   "mimetype": "text/x-python",
   "name": "python",
   "nbconvert_exporter": "python",
   "pygments_lexer": "ipython3",
   "version": "3.10.6"
  },
  "toc": {
   "base_numbering": 1,
   "nav_menu": {},
   "number_sections": true,
   "sideBar": true,
   "skip_h1_title": true,
   "title_cell": "Table of Contents",
   "title_sidebar": "Contents",
   "toc_cell": false,
   "toc_position": {},
   "toc_section_display": true,
   "toc_window_display": false
  },
  "varInspector": {
   "cols": {
    "lenName": 16,
    "lenType": 16,
    "lenVar": 40
   },
   "kernels_config": {
    "python": {
     "delete_cmd_postfix": "",
     "delete_cmd_prefix": "del ",
     "library": "var_list.py",
     "varRefreshCmd": "print(var_dic_list())"
    },
    "r": {
     "delete_cmd_postfix": ") ",
     "delete_cmd_prefix": "rm(",
     "library": "var_list.r",
     "varRefreshCmd": "cat(var_dic_list()) "
    }
   },
   "types_to_exclude": [
    "module",
    "function",
    "builtin_function_or_method",
    "instance",
    "_Feature"
   ],
   "window_display": false
  }
 },
 "nbformat": 4,
 "nbformat_minor": 1
}

{
 "cells": [
  {
   "cell_type": "markdown",
   "metadata": {
    "id": "dkGWE0QwTbMo"
   },
   "source": [
    "# Regresja wielomianowa"
   ]
  },
  {
   "cell_type": "code",
   "execution_count": null,
   "metadata": {
    "id": "8ceK6xmVTbMw"
   },
   "outputs": [],
   "source": [
    "import numpy as np\n",
    "import pandas as pd\n",
    "\n",
    "import statsmodels.api as sm\n",
    "import statsmodels.formula.api as smf\n",
    "\n",
    "from scipy import stats\n",
    "from patsy import dmatrices\n",
    "\n",
    "import matplotlib.pyplot as plt"
   ]
  },
  {
   "cell_type": "markdown",
   "metadata": {
    "id": "iH5HHybhTbM0"
   },
   "source": [
    "# Zadanie 1\n",
    "Wygeneruj $n$ par punktów (x, y) takich, że\n",
    "$$\n",
    "y = x - 2x^2 + 0.5x^3 + e,\n",
    "$$\n",
    "gdzie $e\\sim\\mathcal{N}(\\mu, \\sigma)$. \n",
    "A następnie dopasuj model\n",
    "\n",
    "a) regresji liniowej: $y=\\beta_0 + \\beta_1\\cdot x$\n",
    "\n",
    "b) regresji wielomianowej stopnia 2: $y=\\beta_0 + \\beta_1\\cdot x + \\beta_2\\cdot x^2$,\n",
    "\n",
    "c) regresji wielomianowej stopnia 3: $y=\\beta_0 + \\beta_1\\cdot x + \\beta_2\\cdot x^2 + \\beta_3\\cdot x^3$,\n",
    "\n",
    "d) regresji wielomianowej stopnia 20: $y=\\beta_0 + \\beta_1\\cdot x + \\beta_2\\cdot x^2 + \\ldots + \\beta_{20}\\cdot x^{20}$,"
   ]
  },
  {
   "cell_type": "markdown",
   "metadata": {
    "id": "4IwZHYWSTbM1"
   },
   "source": [
    "**Wskazówka**: `smf.ols('y ~ x + I(x**k)', data_frame)` lub `PolynomialFeatures` z `sklearn.preprocessing`"
   ]
  },
  {
   "cell_type": "code",
   "execution_count": null,
   "metadata": {
    "id": "wD45BKxp_Egw"
   },
   "outputs": [],
   "source": [
    "n = 100\n",
    "x = stats.uniform.rvs(size = n,loc = -3, scale = 6)\n",
    "eps = stats.norm.rvs(size = n, loc = 0,scale = 2)\n",
    "y = x-2*(x**2)+0.5*(x**3)+eps"
   ]
  },
  {
   "cell_type": "code",
   "execution_count": null,
   "metadata": {
    "id": "tfhZj6ugkQ8n"
   },
   "outputs": [],
   "source": [
    "plt.scatter(x,y)"
   ]
  },
  {
   "cell_type": "code",
   "execution_count": null,
   "metadata": {
    "id": "jHKnFcKHkIYb"
   },
   "outputs": [],
   "source": [
    "X = sm.add_constant(x,prepend = True,has_constant = 'add')\n",
    "model1 = sm. OLS(endog=y,exog = X).fit()\n",
    "model1.summary()"
   ]
  },
  {
   "cell_type": "code",
   "execution_count": null,
   "metadata": {
    "id": "pdbtz3nRkFp0"
   },
   "outputs": [],
   "source": [
    "plt.scatter(x,y)\n",
    "plt.plot(x,x*model1.params[1]+model1.params[0],color = 'red',label = 'degree=1')"
   ]
  },
  {
   "cell_type": "code",
   "execution_count": null,
   "metadata": {
    "id": "fhaWJ1SYBedC"
   },
   "outputs": [],
   "source": [
    "from sklearn.preprocessing import PolynomialFeatures"
   ]
  },
  {
   "cell_type": "code",
   "execution_count": null,
   "metadata": {
    "id": "85E_kV6_kAer"
   },
   "outputs": [],
   "source": [
    "pol2 = PolynomialFeatures(degree = 2)\n",
    "x2 = pol2.fit_transform(x.reshape(-1,1))\n",
    "model2 = sm.OLS(endog=y,exog = x2).fit()\n",
    "model2.summary()"
   ]
  },
  {
   "cell_type": "code",
   "execution_count": null,
   "metadata": {
    "id": "N66yDu6Bj9Tj"
   },
   "outputs": [],
   "source": [
    "plt.scatter(x,y)\n",
    "import operator\n",
    "sort_axis = operator.itemgetter(0)\n",
    "sorted_zip = sorted(zip(x, model2.fittedvalues), key=sort_axis)\n",
    "x_range, y_poly_pred = zip(*sorted_zip)\n",
    "plt.plot(x_range,y_poly_pred,color = 'green',label = 'degree=2')"
   ]
  },
  {
   "cell_type": "code",
   "execution_count": null,
   "metadata": {
    "id": "RiX8Zvvvj3H0"
   },
   "outputs": [],
   "source": []
  },
  {
   "cell_type": "markdown",
   "metadata": {
    "id": "L425peEgTbND"
   },
   "source": [
    "### The Bias vs Variance trade-off\n",
    "\n",
    "**Bias** (obciążenie) - odnosi się do błędu wynikającego z uproszczonych założeń modelu dotyczących dopasowania danych. Wysokie obciążenie oznacza, że model nie jest w stanie uchwycić wzorców w danych, co powoduje niedopasowanie/niedouczenie (ang. *under-fitting*).\n",
    "\n",
    "**Variance** - odnosi się do błędu spowodowanego złożonym modelem próbującym dopasować dane. Duża wariancja oznacza, że model przechodzi przez większość punktów danych i powoduje nadmierne dopasowanie do danych (ang. *over-fitting)."
   ]
  },
  {
   "cell_type": "code",
   "execution_count": null,
   "metadata": {
    "id": "wjmDV4-pluI0"
   },
   "outputs": [],
   "source": [
    "fig, ax = plt.subplots(1, 3, figsize=(20, 7))\n",
    "\n",
    "ax[0].scatter(x, y)\n",
    "ax[0].plot(x, model1.fittedvalues, '--', color='red', label=\"degree=1\")\n",
    "ax[0].set_xlabel(\"Underfit\\nHigh bias\\nLow Variance\")\n",
    "\n",
    "sorted_zip = sorted(zip(x, model3.fittedvalues), key=sort_axis)\n",
    "x_range, y_poly_pred = zip(*sorted_zip)\n",
    "ax[1].scatter(x, y)\n",
    "ax[1].plot(x_range, y_poly_pred, '--', color='magenta', label=\"degree=3\")\n",
    "ax[1].set_xlabel(\"Correct Fit\\nLow bias\\nLow Variance\")\n",
    "\n",
    "sorted_zip = sorted(zip(x, model20.fittedvalues), key=sort_axis)\n",
    "x_range, y_poly_pred = zip(*sorted_zip)\n",
    "ax[2].scatter(x, y)\n",
    "ax[2].plot(x_range, y_poly_pred, '--', color='orange', label=\"degree=20\")\n",
    "ax[2].set_xlabel(\"Overfit\\nLow bias\\nHigh Variance\")"
   ]
  },
  {
   "cell_type": "markdown",
   "metadata": {
    "id": "jGCIYqUITbNF"
   },
   "source": [
    "# Zadanie 2\n",
    "Wczytaj dane `amazon_salaries.csv` opisujące wysokość rocznych zarobków (`Salary`) w zależności od zajmowanego stanowiska (`Level`). \n",
    "\n",
    "Dopasuj model regresji liniowej oraz model regresji wielomianowej, znajdź najlepszy stopień wielomianu."
   ]
  },
  {
   "cell_type": "code",
   "execution_count": null,
   "metadata": {
    "id": "CXUiVUOKOO83"
   },
   "outputs": [],
   "source": [
    "amazon_salary = pd.read_csv(\"amazon_salaries.csv\")"
   ]
  },
  {
   "cell_type": "code",
   "execution_count": null,
   "metadata": {
    "id": "s7wLTt3qSHKG"
   },
   "outputs": [],
   "source": [
    "x = amazon_salary.Level\n",
    "y = amazon_salary.Salary\n",
    "\n",
    "plt.scatter(x, y)"
   ]
  },
  {
   "cell_type": "code",
   "execution_count": null,
   "metadata": {
    "id": "7EqQ9s9GxPcz"
   },
   "outputs": [],
   "source": [
    "x=np.array(x)\n",
    "pol1 = PolynomialFeatures(degree = 1)\n",
    "x1 = pol1.fit_transform(x.reshape(-1,1))\n",
    "model1 = sm. OLS(endog=y,exog = x1).fit()\n",
    "model1.summary()\n",
    "\n",
    "plt.scatter(x,y)\n",
    "import operator\n",
    "sort_axis = operator.itemgetter(0)\n",
    "sorted_zip = sorted(zip(x, model1.fittedvalues), key=sort_axis)\n",
    "x_range, y_poly_pred = zip(*sorted_zip)\n",
    "plt.plot(x_range,y_poly_pred,color = 'orange',label = 'degree=1')"
   ]
  },
  {
   "cell_type": "code",
   "execution_count": null,
   "metadata": {
    "id": "xwZ7olFtS2hE"
   },
   "outputs": [],
   "source": []
  },
  {
   "cell_type": "code",
   "execution_count": null,
   "metadata": {
    "id": "tulArlBLS2Zq"
   },
   "outputs": [],
   "source": []
  },
  {
   "cell_type": "code",
   "execution_count": null,
   "metadata": {
    "id": "0S4XTuTCS2RW"
   },
   "outputs": [],
   "source": []
  }
 ],
 "metadata": {
  "colab": {
   "provenance": []
  },
  "hide_input": false,
  "kernelspec": {
   "display_name": "Python 3 (ipykernel)",
   "language": "python",
   "name": "python3"
  },
  "language_info": {
   "codemirror_mode": {
    "name": "ipython",
    "version": 3
   },
   "file_extension": ".py",
   "mimetype": "text/x-python",
   "name": "python",
   "nbconvert_exporter": "python",
   "pygments_lexer": "ipython3",
   "version": "3.10.6"
  },
  "toc": {
   "base_numbering": 1,
   "nav_menu": {},
   "number_sections": true,
   "sideBar": true,
   "skip_h1_title": true,
   "title_cell": "Table of Contents",
   "title_sidebar": "Contents",
   "toc_cell": false,
   "toc_position": {},
   "toc_section_display": true,
   "toc_window_display": false
  },
  "varInspector": {
   "cols": {
    "lenName": 16,
    "lenType": 16,
    "lenVar": 40
   },
   "kernels_config": {
    "python": {
     "delete_cmd_postfix": "",
     "delete_cmd_prefix": "del ",
     "library": "var_list.py",
     "varRefreshCmd": "print(var_dic_list())"
    },
    "r": {
     "delete_cmd_postfix": ") ",
     "delete_cmd_prefix": "rm(",
     "library": "var_list.r",
     "varRefreshCmd": "cat(var_dic_list()) "
    }
   },
   "types_to_exclude": [
    "module",
    "function",
    "builtin_function_or_method",
    "instance",
    "_Feature"
   ],
   "window_display": false
  }
 },
 "nbformat": 4,
 "nbformat_minor": 1
}

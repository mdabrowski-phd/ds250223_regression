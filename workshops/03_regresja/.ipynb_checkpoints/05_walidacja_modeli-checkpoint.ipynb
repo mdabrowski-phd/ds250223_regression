{
 "cells": [
  {
   "cell_type": "markdown",
   "metadata": {
    "id": "IYozQrxAU73A"
   },
   "source": [
    "# Model regresji liniowej w scikit-learn"
   ]
  },
  {
   "cell_type": "markdown",
   "metadata": {
    "id": "liSIT6ZmU73I"
   },
   "source": [
    "https://scikit-learn.org/stable/modules/generated/sklearn.linear_model.LinearRegression.html"
   ]
  },
  {
   "cell_type": "code",
   "execution_count": null,
   "metadata": {
    "id": "m19aKKycU73J"
   },
   "outputs": [],
   "source": [
    "import numpy as np\n",
    "import pandas as pd\n",
    "import matplotlib.pyplot as plt\n",
    "\n",
    "import statsmodels.api as sm\n",
    "import statsmodels.formula.api as smf\n",
    "\n",
    "from scipy import stats\n",
    "\n",
    "from sklearn.linear_model import LinearRegression\n",
    "from sklearn.preprocessing import PolynomialFeatures\n",
    "from sklearn.pipeline import make_pipeline\n",
    "from sklearn.pipeline import Pipeline"
   ]
  },
  {
   "cell_type": "markdown",
   "metadata": {
    "id": "cei21gvsU73K"
   },
   "source": [
    "# Zadanie 1\n",
    "Wczytaj zbiór `Carseats`, który zawierają dane o sprzedaży fotelików samochodowych pewnej firmy w 400 różnych lokalizacjach:\n",
    "\n",
    "a) dopasuj model regresji liniowej `Sales~Price`;\n",
    "\n",
    "b) dopasuj model regresji liniowej `Sales~Price + Advertising`;\n",
    "\n",
    "c) dopasuj model regresji liniowej `Sales~.`;\n",
    "\n",
    "d) dopasuj model regresji wielomianowej stopnia 2 dla zmiennej `Price`;\n",
    "\n",
    "e) dopasuj model regresji wielomianowej stopnia 3 dla zmiennej `Price`;"
   ]
  },
  {
   "cell_type": "code",
   "execution_count": null,
   "metadata": {
    "id": "410uQb8Smr04"
   },
   "outputs": [],
   "source": [
    "carseats = sm.datasets.get_rdataset(dataname=\"Carseats\", package=\"ISLR\", cache=True)\n",
    "print(carseats.data)"
   ]
  },
  {
   "cell_type": "code",
   "execution_count": null,
   "metadata": {
    "id": "BKd0Fb7OmuAA"
   },
   "outputs": [],
   "source": [
    "np.array(carseats.data.Price).reshape(-1,1)"
   ]
  },
  {
   "cell_type": "code",
   "execution_count": null,
   "metadata": {
    "id": "5zSz2r4_mwPo"
   },
   "outputs": [],
   "source": [
    "lm1 = LinearRegression(fit_intercept=True)\n",
    "X = np.array(carseats.data.Price).reshape(-1,1)\n",
    "lm1.fit(X=X,y=carseats.data.Sales)\n",
    "print(lm1.coef_)\n",
    "print(lm1.intercept_)"
   ]
  },
  {
   "cell_type": "code",
   "execution_count": null,
   "metadata": {
    "id": "jGecB-s1myGc"
   },
   "outputs": [],
   "source": [
    "lm1.score(X,carseats.data.Sales) #R2"
   ]
  },
  {
   "cell_type": "code",
   "execution_count": null,
   "metadata": {
    "id": "73kBbSFbm0rR"
   },
   "outputs": [],
   "source": [
    "lm1.predict(X)"
   ]
  },
  {
   "cell_type": "code",
   "execution_count": null,
   "metadata": {
    "id": "bbunBxYIm25U"
   },
   "outputs": [],
   "source": [
    "X2 = np.array(carseats.data)[:,np.array([3,5])]\n",
    "X2"
   ]
  },
  {
   "cell_type": "code",
   "execution_count": null,
   "metadata": {
    "id": "umPER5NYm7JA"
   },
   "outputs": [],
   "source": [
    "lm2 = LinearRegression(fit_intercept=True)\n",
    "lm2.fit(X=X2,y=carseats.data.Sales)\n",
    "print(lm2.coef_)\n",
    "print(lm2.intercept_)"
   ]
  },
  {
   "cell_type": "code",
   "execution_count": null,
   "metadata": {
    "id": "0Mm3xDG-m_7g"
   },
   "outputs": [],
   "source": [
    "X3 = carseats.data\n",
    "X3 = pd.get_dummies(X3,drop_first = True)\n",
    "X3"
   ]
  },
  {
   "cell_type": "code",
   "execution_count": null,
   "metadata": {
    "id": "yulTuXxdnF9o"
   },
   "outputs": [],
   "source": [
    "X3 = np.array(X3)[:,1:]\n",
    "lm3 = LinearRegression(fit_intercept=True)\n",
    "lm3.fit(X=X3,y=carseats.data.Sales)\n",
    "print(lm3.coef_)\n",
    "print(lm3.intercept_)"
   ]
  },
  {
   "cell_type": "code",
   "execution_count": null,
   "metadata": {
    "id": "PLO3ZIfknMa3"
   },
   "outputs": [],
   "source": [
    "price = np.array(carseats.data.Price).reshape(-1,1)\n",
    "\n",
    "poly2 = PolynomialFeatures(degree = 2,include_bias=False)\n",
    "price2 = poly2.fit_transform(price)\n",
    "#print(price2)\n",
    "lm4 = LinearRegression(fit_intercept=True)\n",
    "lm4.fit(X=price2,y=carseats.data.Sales)\n",
    "print(lm4.coef_)\n",
    "print(lm4.intercept_)\n",
    "lm4.score(price2,carseats.data.Sales)"
   ]
  },
  {
   "cell_type": "markdown",
   "metadata": {
    "id": "_xklkLtuU73W"
   },
   "source": [
    "### make_pipelines \n",
    "\n",
    "https://scikit-learn.org/stable/modules/generated/sklearn.pipeline.make_pipeline.html?highlight=make_pipeline#sklearn.pipeline.make_pipeline"
   ]
  },
  {
   "cell_type": "code",
   "execution_count": null,
   "metadata": {
    "id": "ujUQfWQ9mXk0"
   },
   "outputs": [],
   "source": [
    "pipeline1 = make_pipeline(PolynomialFeatures(degree = 2,include_bias=False),LinearRegression(fit_intercept=True))\n",
    "lm4 = pipeline1.fit(X = price,y = carseats.data.Sales)\n",
    "print('Coef=',lm4[1].coef_)\n",
    "print('Intercept=',lm4[1].intercept_)\n",
    "print('Score=', lm4.score(price,carseats.data.Sales))"
   ]
  },
  {
   "cell_type": "markdown",
   "metadata": {
    "id": "hCFxBllJU73a"
   },
   "source": [
    "# Wybór i ocena najlepszego modelu regresji"
   ]
  },
  {
   "cell_type": "markdown",
   "metadata": {
    "id": "KebJxjkTU73a"
   },
   "source": [
    "Podczas budowy modelu, którego celem jest przewidywanie pewnych wartości na podstawie zbioru danych uczących poważnym problemem jest ocena jakości uczenia i zdolności poprawnego przewidywania.\n",
    "\n",
    "**Częstym błędem osób początkujących w zakresie analizy danych jest przeprowadzanie testów na tym samym zbiorze na którym system był uczony**. Takie rozwiązanie nie jest poprawnym miernikiem jakości nauczonego modelu i prowadzi do wyników które są przeszacowane, czyli nadmiernie optymistyczne.\n",
    "\n",
    "Zwykle głównym celem budowy modeli predykcyjnych jest późniejsze wykorzystanie przewidywań modelu na danych niedostępnych podczas procesu uczenia więc opracowano szereg metod pozwalających na znacznie bardziej uczciwy pomiar dokładności."
   ]
  },
  {
   "cell_type": "markdown",
   "metadata": {
    "id": "VM-oeSvOU73a"
   },
   "source": [
    "### Podział zbioru na część:\n",
    "- treningową,\n",
    "- testową.\n",
    "\n",
    "Idea oceny modelu lub doboru odpowiednich parametrów modelu sprowadza się wówczas do nauczenia modelu na części uczącej oraz przetestowania go na części testowej, która nie była wykorzystywana w procesie uczenia modelu. Dzięki wydzieleniu dwóch niezależnych podzbiorów, wektory części testowej zawierają informację o faktycznym wyniku jaki powinien zostać osiągnięty, natomiast nauczony (na części uczącej zbioru) model dostarcza wyników przewidywań."
   ]
  },
  {
   "cell_type": "markdown",
   "metadata": {
    "id": "MZh9mahGU73a"
   },
   "source": [
    "lub \n",
    "\n",
    "- treningową,\n",
    "- walidacyjną,\n",
    "- testową."
   ]
  },
  {
   "cell_type": "markdown",
   "metadata": {
    "id": "7NHdJ2IHU73b"
   },
   "source": [
    "Nierzadko, z wydzielenia próby walidacyjnej oraz testowej trzeba zrezygnować i wszystkie dane uznać za elementy próby uczącej. Jak wówczas porównywać różne modele?\n",
    "\n",
    "Trzeba się odwołać do wielokrotnego wykorzystania elementów próby uczącej, tak przy tym zorganizowanego, by wprowadzane tym sposobem obciążenie otrzymywanych oszacowań było możliwie małe."
   ]
  },
  {
   "cell_type": "markdown",
   "metadata": {
    "id": "T3oCZWXFU73b"
   },
   "source": [
    "## Kroswalidacja - sprawdzanie krzyżowe\n",
    "\n",
    "1. Próba ucząca zostaje podzielona na $K$ możliwie równych części.\n",
    "\n",
    "2. Z próby uczącej tworzy się $K$ różnych pseudoprób, powstających przez usuwanie z próby oryginalnej jednej z jej $K$ części. Każda pseudopróba składa się $K-1$ części próby uczącej.\n",
    "\n",
    "3. Dany model jest budowany $K$-krotnie, za każdym razem na podstawie innej pseudopróby.\n",
    "\n",
    "4. Otrzymujemy $K$ wersji tego samego modelu.\n",
    "\n",
    "5. Każda $k$-ta wersja modelu jest oceniana na tej części oryginalnej próby uczącej, która nie weszła do $k$-tej pseudopróby. Tym sposobem, oceny danej wersji modelu dokonujemy na obserwacjach, które nie brały udziałuw jego konstrukcji.\n",
    "\n",
    "6. Oszacowanie błędu kroswalidacji wyznaczamy jako średnią z błędów każdej wersji modelu."
   ]
  },
  {
   "cell_type": "markdown",
   "metadata": {
    "id": "4KBopaNKU73b"
   },
   "source": [
    "## Pomiary błędów\n",
    "\n",
    "### Błąd średniokwadratowy (ang. *Mean squared error*)\n",
    "$$\n",
    "\\text{MSE} = \\frac{1}{n}\\sum_{i=1}^n(y_i - \\hat{y}_i)^2.\n",
    "$$\n",
    "\n",
    "### Mediana błędu bezwzględnego (ang. *Median absolute error*)\n",
    "$$\n",
    "\\text{MAE}= \\text{Med}(|y_i - \\hat{y}_i|).\n",
    "$$"
   ]
  },
  {
   "cell_type": "markdown",
   "metadata": {
    "id": "la2MhJhDU73b"
   },
   "source": [
    "## Zadanie 2\n",
    "Wczytaj zbiór `Carseats`, a następnie\n",
    "\n",
    "1. Podziel zbiór na część treningową i testową w stosunku 7:3.\n",
    "\n",
    "2. Naucz dowolny model na części treningowej: \n",
    "    - wyznacz błąd dopasowania wykorzystującz MSE i MAE;\n",
    "    - wyznacz te same błędy wykorzystując metodę kroswalidacji.\n",
    "\n",
    "3. Sprawdź jakość predykcji. Na podstawie nauczonego modelu na części treningowej, dokonaj predykcji wartość `Sales` dla wartości ze zbioru testowego. Porównaj jakość dopasowania z jakością predykcji."
   ]
  },
  {
   "cell_type": "code",
   "execution_count": null,
   "metadata": {
    "id": "wosG_NdyU73c"
   },
   "outputs": [],
   "source": [
    "from sklearn.model_selection import cross_val_score, train_test_split"
   ]
  },
  {
   "cell_type": "code",
   "execution_count": null,
   "metadata": {
    "id": "HNsxlR-KP64g"
   },
   "outputs": [],
   "source": [
    "carseats = sm.datasets.get_rdataset(dataname=\"Carseats\", package=\"ISLR\", cache=True)"
   ]
  },
  {
   "cell_type": "code",
   "execution_count": null,
   "metadata": {
    "id": "LKzDCKxDnx5V"
   },
   "outputs": [],
   "source": [
    "# Podział zbioru na część treningową i na część testową\n",
    "y = carseats.data.Sales\n",
    "X = carseats.data.iloc[:,1:]\n",
    "X = pd.get_dummies(X,drop_first=True)\n",
    "print(X.head())\n",
    "#randomstate bo podział losowy\n",
    "X_train, X_test, y_train, y_test = train_test_split(X, y, test_size=0.3, random_state=123)"
   ]
  },
  {
   "cell_type": "code",
   "execution_count": null,
   "metadata": {
    "id": "ayjfo6ZqoG24"
   },
   "outputs": [],
   "source": [
    "lm = LinearRegression()\n",
    "lm.fit(X=X_train,y=y_train)"
   ]
  },
  {
   "cell_type": "code",
   "execution_count": null,
   "metadata": {
    "id": "w7taIQ4HU73d"
   },
   "outputs": [],
   "source": [
    "import sklearn.metrics as metrics"
   ]
  },
  {
   "cell_type": "code",
   "execution_count": null,
   "metadata": {
    "id": "sNZiZpNqn7ws"
   },
   "outputs": [],
   "source": [
    "print(lm.score(X_train,y_train))\n",
    "print(metrics.mean_squared_error(y_train, lm.predict(X_train)))\n",
    "print(metrics.mean_absolute_error(y_train, lm.predict(X_train)))\n",
    "print(metrics.median_absolute_error(y_train, lm.predict(X_train)))"
   ]
  },
  {
   "cell_type": "code",
   "execution_count": null,
   "metadata": {
    "id": "Wwa7z5eBDPcK"
   },
   "outputs": [],
   "source": [
    "lm = LinearRegression()\n",
    "cross_val_score(lm,X, y, cv = 3)"
   ]
  },
  {
   "cell_type": "code",
   "execution_count": null,
   "metadata": {
    "id": "QcsWouFzn9pc"
   },
   "outputs": [],
   "source": [
    "lm = LinearRegression()\n",
    "print(cross_val_score(lm,X, y, cv = 3).mean())\n",
    "print(-cross_val_score(lm,X, y, cv = 3,scoring = 'neg_mean_squared_error').mean())\n",
    "print(-cross_val_score(lm,X, y, cv = 3,scoring = 'neg_median_absolute_error').mean())"
   ]
  },
  {
   "cell_type": "code",
   "execution_count": null,
   "metadata": {
    "id": "PCBhu1MaoCi4"
   },
   "outputs": [],
   "source": [
    "lm = LinearRegression()\n",
    "lm.fit(X=X_train,y=y_train)\n",
    "print(metrics.mean_squared_error(y_test, lm.predict(X_test)))\n",
    "print(metrics.mean_absolute_error(y_test, lm.predict(X_test)))\n",
    "print(metrics.median_absolute_error(y_test, lm.predict(X_test)))"
   ]
  },
  {
   "cell_type": "markdown",
   "metadata": {
    "id": "z77hR6oJU73g"
   },
   "source": [
    "# *Zadanie 3\n",
    "Napisz własną funkcję do kroswalidacji (użyj `from sklearn.model_selection import KFold`)."
   ]
  },
  {
   "cell_type": "code",
   "execution_count": null,
   "metadata": {
    "id": "jVk1s8XrU73g"
   },
   "outputs": [],
   "source": [
    "from sklearn.model_selection import KFold \n",
    "#KFold dokonuje podziału na n_splits części\n",
    "#W każdym obrocie pętli pod test_index są indeksy innej części, a reszta części, które pozostają, służy do uczenia"
   ]
  },
  {
   "cell_type": "code",
   "execution_count": null,
   "metadata": {
    "id": "_CwpZhKuS7Hm"
   },
   "outputs": [],
   "source": [
    "def cv_fun(model, X, y, cv, score_fun):\n",
    "    \n",
    "    kf = KFold(n_splits=cv)\n",
    "    scores = []\n",
    "    \n",
    "    for train_index, test_index in kf.split(X):\n",
    "        \n",
    "        X_train, X_test = X.iloc[train_index], X.iloc[test_index]\n",
    "        y_train, y_test = y.iloc[train_index], y.iloc[test_index]\n",
    "        model.fit(X=X_train, y=y_train)\n",
    "        y_pred = model.predict(X_test)\n",
    "        scores.append(score_fun(y_test, y_pred))\n",
    "    \n",
    "    return np.array(scores)"
   ]
  },
  {
   "cell_type": "code",
   "execution_count": null,
   "metadata": {
    "id": "eWj5ZNHdU1Iw"
   },
   "outputs": [],
   "source": [
    "cv_fun(lm, X, y, 10, metrics.mean_squared_error).mean()"
   ]
  },
  {
   "cell_type": "code",
   "execution_count": null,
   "metadata": {
    "id": "XuL3bOt6U26k"
   },
   "outputs": [],
   "source": [
    "cv_fun(lm, X, y, 10, metrics.median_absolute_error).mean()"
   ]
  },
  {
   "cell_type": "markdown",
   "metadata": {
    "id": "gvZSGkljU73i"
   },
   "source": [
    "# Zadanie 4\n",
    "Dla zbióru `Carseats`,\n",
    "\n",
    "1. Podziel zbiór na część treningową i testową;\n",
    "\n",
    "2. Dopasuj model regresji:\n",
    "\n",
    "a) liniowej `Sales~Price`;\n",
    "\n",
    "b) liniowej `Sales~Price + Advertising`;\n",
    "\n",
    "c) liniowej `Sales~.`;\n",
    "\n",
    "d) wielomianowej stopnia 2 dla zmiennej `Price`;\n",
    "\n",
    "e) wielomianowej stopnia 3 dla zmiennej `Price`;\n",
    "\n",
    "3. Wybierz najlepszy model na podstawie miar jakości otrzymanych przy użyciu kroswalidacji 10-krotnej.\n",
    "\n",
    "4. Dla najlepszego modelu dokonaj predykcji na zbiorze testowy. Wyznacz jakość predykcji."
   ]
  },
  {
   "cell_type": "code",
   "execution_count": null,
   "metadata": {
    "id": "ya-RhW0GU73i"
   },
   "outputs": [],
   "source": [
    "#zmienne zależne i niezależne i one-hot-encoding\n",
    "y = carseats.data['Sales']\n",
    "X = carseats.data.drop('Sales', axis=1)\n",
    "X = pd.get_dummies(X)"
   ]
  },
  {
   "cell_type": "code",
   "execution_count": null,
   "metadata": {
    "id": "g7gM5dAoVnMo"
   },
   "outputs": [],
   "source": [
    "#1\n",
    "X_train, X_test, y_train, y_test = train_test_split(X, y, test_size=0.3, random_state=123)"
   ]
  },
  {
   "cell_type": "code",
   "execution_count": null,
   "metadata": {
    "id": "yhsAiPJvV7pi"
   },
   "outputs": [],
   "source": [
    "#2 Funkcja do tworzenia regresji wielomianowej (w szególności stopnia 1 - więczwykłej regresji liniowej) \n",
    "#a także do liczenia scoreów metodą kroswalidacji\n",
    "\n",
    "def fit_model(X_train, y_train, degree=1):\n",
    "    \n",
    "    model = make_pipeline(\n",
    "        PolynomialFeatures(degree=degree,include_bias=False),\n",
    "        LinearRegression()\n",
    "    )\n",
    "    \n",
    "    cv_r2 = cross_val_score(model, X_train, y_train, scoring='r2', cv=10).mean()\n",
    "    cv_mse = -cross_val_score(model, X_train, y_train, scoring='neg_mean_squared_error', cv=10).mean()\n",
    "    cv_mae = -cross_val_score(model, X_train, y_train, scoring='neg_median_absolute_error', cv=10).mean()\n",
    "    \n",
    "    return {'cv_r2': cv_r2, 'cv_mse': cv_mse, 'cv_mae': cv_mae}"
   ]
  },
  {
   "cell_type": "code",
   "execution_count": null,
   "metadata": {
    "id": "3VvZ4HWtVFOb"
   },
   "outputs": [],
   "source": [
    "# 3. Wybierz najlepszy model na podstawie miar jakości otrzymanych przy użyciu kroswalidacji 10-krotnej.\n",
    "\n",
    "results = pd.DataFrame(index=['cv_r2', 'cv_mse', 'cv_mae'])\n",
    "results['lm(Sales~Price)'] = fit_model(X_train=np.array(X_train['Price']).reshape(-1, 1), y_train=y_train).values()\n",
    "results['lm(Sales~Price+Advertising)'] = fit_model(X_train=X_train[['Price', 'Advertising']], y_train=y_train).values()\n",
    "results['lm(Sales~.)'] = fit_model(X_train=X_train, y_train=y_train).values()\n",
    "results['poly2(Sales~Price)'] = fit_model(X_train=np.array(X_train['Price']).reshape(-1, 1), y_train=y_train, degree=2).values()\n",
    "results['poly3(Sales~Price)'] = fit_model(X_train=np.array(X_train['Price']).reshape(-1, 1), y_train=y_train, degree=3).values()\n",
    "results\n",
    "\n",
    "# Najlepsze wyniki na zbiorze treningowym otrzymał model: lm(Sales~.)"
   ]
  },
  {
   "cell_type": "code",
   "execution_count": null,
   "metadata": {
    "id": "C50poBbNVJcX"
   },
   "outputs": [],
   "source": [
    "model = LinearRegression().fit(X_train, y_train)\n",
    "y_pred = model.predict(X_test)"
   ]
  },
  {
   "cell_type": "code",
   "execution_count": null,
   "metadata": {
    "id": "LbFI_sbKXUZn"
   },
   "outputs": [],
   "source": [
    "#4 na testowym jakość predykcji\n",
    "print(\"Test MSE: {}\".format(metrics.mean_squared_error(y_pred=y_pred, y_true=y_test)))\n",
    "print(\"Test MAE: {}\".format(metrics.mean_absolute_error(y_pred=y_pred, y_true=y_test)))"
   ]
  }
 ],
 "metadata": {
  "colab": {
   "collapsed_sections": [
    "4KBopaNKU73b"
   ],
   "provenance": []
  },
  "hide_input": false,
  "kernelspec": {
   "display_name": "Python 3 (ipykernel)",
   "language": "python",
   "name": "python3"
  },
  "language_info": {
   "codemirror_mode": {
    "name": "ipython",
    "version": 3
   },
   "file_extension": ".py",
   "mimetype": "text/x-python",
   "name": "python",
   "nbconvert_exporter": "python",
   "pygments_lexer": "ipython3",
   "version": "3.10.6"
  },
  "toc": {
   "base_numbering": 1,
   "nav_menu": {},
   "number_sections": true,
   "sideBar": true,
   "skip_h1_title": true,
   "title_cell": "Table of Contents",
   "title_sidebar": "Contents",
   "toc_cell": false,
   "toc_position": {},
   "toc_section_display": true,
   "toc_window_display": false
  },
  "varInspector": {
   "cols": {
    "lenName": 16,
    "lenType": 16,
    "lenVar": 40
   },
   "kernels_config": {
    "python": {
     "delete_cmd_postfix": "",
     "delete_cmd_prefix": "del ",
     "library": "var_list.py",
     "varRefreshCmd": "print(var_dic_list())"
    },
    "r": {
     "delete_cmd_postfix": ") ",
     "delete_cmd_prefix": "rm(",
     "library": "var_list.r",
     "varRefreshCmd": "cat(var_dic_list()) "
    }
   },
   "types_to_exclude": [
    "module",
    "function",
    "builtin_function_or_method",
    "instance",
    "_Feature"
   ],
   "window_display": false
  }
 },
 "nbformat": 4,
 "nbformat_minor": 1
}

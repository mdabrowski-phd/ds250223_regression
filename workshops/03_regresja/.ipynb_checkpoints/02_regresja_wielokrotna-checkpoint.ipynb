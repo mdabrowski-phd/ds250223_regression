{
 "cells": [
  {
   "cell_type": "markdown",
   "metadata": {
    "id": "CIsbeAniMTz1"
   },
   "source": [
    "# Regresja wielokrotna \n",
    "\n",
    "- regresja wielokrotna\n",
    "- jakość dopasowania"
   ]
  },
  {
   "cell_type": "code",
   "execution_count": null,
   "metadata": {
    "id": "CzSHGRiUMTz9"
   },
   "outputs": [],
   "source": [
    "import numpy as np\n",
    "import pandas as pd\n",
    "\n",
    "import statsmodels.api as sm\n",
    "import statsmodels.formula.api as smf\n",
    "\n",
    "from scipy import stats\n",
    "from patsy import dmatrices\n",
    "from statsmodels.stats.stattools import durbin_watson\n",
    "\n",
    "import matplotlib.pyplot as plt"
   ]
  },
  {
   "cell_type": "code",
   "execution_count": null,
   "metadata": {
    "id": "Q9zP76CgMT0A",
    "scrolled": true
   },
   "outputs": [],
   "source": [
    "carseats = sm.datasets.get_rdataset(dataname=\"Carseats\", package=\"ISLR\", cache=True)"
   ]
  },
  {
   "cell_type": "code",
   "execution_count": null,
   "metadata": {
    "id": "mcGcqMAqMT0B"
   },
   "outputs": [],
   "source": [
    "carseats_df = carseats.data"
   ]
  },
  {
   "cell_type": "markdown",
   "metadata": {
    "id": "P9UI_Ip2MT0B"
   },
   "source": [
    "## Zadanie 1\n",
    "\n",
    "1. Wyznacz liniową funkcję regresji opisującą zależność sprzedaży (`Sales`) od wysokości budżetu na reklamę (`Advertising`) i ceny (`Price`).\n",
    "\n",
    "\n",
    "2. Zweryfikuj dopasowanie modelu `Sales ~ Advertising + Price`:\n",
    "    \n",
    "    a) Czy istnieje związek między zmienną zależną a przynajmniej jedną ze zmiennych niezależnych? Jeśli tak, to z którą (z którymi)?\n",
    "       \n",
    "    b) Czy wyraz wolny jest istotny w modelu?\n",
    "       \n",
    "    c) Oblicz i zinterpretuj wartość współczynnika determinacji $R^2$.\n",
    "    \n",
    "       \n",
    "3. Wyznacz model liniowy najlepiej opisujący zależność sprzedaży fotelików samochodowych od pozostałych dostępnych zmiennych:\n",
    "    \n",
    "  a) Czy istnieje związek pomiędzy zmienną zależną a którąkolwiek ze zmiennych niezależnych?\n",
    "       \n",
    "  b) Dla których zmiennych niezależnych $X_j$, $j=1,\\ldots,10$ można odrzucić hipotezę zerową  $H_0: \\beta_j = 0$?\n",
    "       \n",
    "  c) Biorąc pod uwagę odpowiedź na poprzednie pytanie, wyznacz mniejszy model w oparciu tylko o zmienne, które faktycznie mają istotny wpływ na wielkość sprzedaży.\n",
    "       \n",
    "  d) Porównaj dopasowanie obu modeli (większego i mniejszego).\n",
    "       \n",
    "       \n",
    "4. Podaj przewidywaną wartość sprzedaży dla przypadku:  \n",
    "`pd.DataFrame({\n",
    "    'Sales': np.NaN, \n",
    "    'CompPrice': [125.0], \n",
    "    'Income': [70.0], \n",
    "    'Advertising': [5.0], \n",
    "    'Population': [270.0], \n",
    "    'Price': [120.0],\n",
    "    'ShelveLoc': ['Medium'], \n",
    "    'Age': [54.0], \n",
    "    'Education': [15.0], \n",
    "    'Urban': ['Yes'], \n",
    "    'US': ['Yes']\n",
    "})`\n",
    "\n",
    "5. Oceń jakość dopasowania."
   ]
  },
  {
   "cell_type": "code",
   "execution_count": null,
   "metadata": {
    "id": "6VdSXbyBgXfX"
   },
   "outputs": [],
   "source": [
    "model = smf.ols('Sales~Price+Advertising',data = carseats_df).fit()\n",
    "print(model.summary())\n",
    "\n",
    "print(\"Wartość statystyki testowej testu F (F-statistic): {}\".format(model.fvalue))\n",
    "print(\"P-wartość testu F (Prob (F-statistic)): {}\".format(model.f_pvalue))\n",
    "print(\"\\n\")\n",
    "\n",
    "\n",
    "print(\"Wartość statystki testu t-Studenta\")\n",
    "print(model.tvalues)\n",
    "print(\"\\n\")\n",
    "\n",
    "print(\"P-wartości testu t-Studenta\")\n",
    "print(model.pvalues)\n",
    "print(\"\\n\")\n",
    "\n",
    "\n",
    "print(\"Współczynnik determinacji R2 (R-squared): {}\".format(model.rsquared))"
   ]
  },
  {
   "cell_type": "code",
   "execution_count": null,
   "metadata": {
    "id": "ncdcgna5gStP"
   },
   "outputs": [],
   "source": [
    "columns = list(carseats_df.columns)\n",
    "columns.remove('Sales')\n",
    "features = \"+\".join(columns)\n",
    "print(features)\n",
    "model = smf.ols('Sales~'+features,data = carseats_df)\n",
    "fitted = model.fit()\n",
    "fitted.summary()"
   ]
  },
  {
   "cell_type": "code",
   "execution_count": null,
   "metadata": {
    "id": "aAGlJ1a4gOY8"
   },
   "outputs": [],
   "source": [
    "print(\"Wartość statystyki testowej testu F (F-statistic): {}\".format(fitted.fvalue))\n",
    "print(\"P-wartość testu F (Prob (F-statistic)): {}\".format(fitted.f_pvalue))\n",
    "print(\"\\n\")\n",
    "\n",
    "print(\"Wartość statystki testu t-Studenta\")\n",
    "print(fitted.tvalues)\n",
    "print(\"\\n\")\n",
    "\n",
    "print(\"P-wartości testu t-Studenta\")\n",
    "print(fitted.pvalues)"
   ]
  },
  {
   "cell_type": "code",
   "execution_count": null,
   "metadata": {
    "id": "-kaD6MhigLHz"
   },
   "outputs": [],
   "source": [
    "np.array(model.exog_names)[fitted.pvalues<0.05]"
   ]
  },
  {
   "cell_type": "code",
   "execution_count": null,
   "metadata": {
    "id": "zNYlfzaxgIhb"
   },
   "outputs": [],
   "source": [
    "fitted_red = smf.ols('Sales~ShelveLoc+CompPrice+Income+Advertising+Price+Age',data = carseats_df).fit()\n",
    "fitted_red.summary()"
   ]
  },
  {
   "cell_type": "code",
   "execution_count": null,
   "metadata": {
    "id": "JzpbRR_ugEqg"
   },
   "outputs": [],
   "source": [
    "print(\"Współczynnik determinacji R2 (R-squared): {}\".format(fitted.rsquared))\n",
    "print(\"Współczynnik determinacji R2 (R-squared): {}\".format(fitted_red.rsquared))"
   ]
  },
  {
   "cell_type": "code",
   "execution_count": null,
   "metadata": {
    "id": "kNlPJBEogCfz"
   },
   "outputs": [],
   "source": [
    "#predykcja\n",
    "new_obs = pd.DataFrame({ 'Sales': np.NaN, 'CompPrice': [125.0], 'Income': [70.0],\n",
    "              'Advertising': [5.0], 'Population': [270.0], 'Price': [120.0], 'ShelveLoc': ['Medium'], 'Age': [54.0],\n",
    "              'Education': [15.0], 'Urban': ['Yes'], 'US': ['Yes'] })\n",
    "\n",
    "fitted_red.predict(new_obs)"
   ]
  },
  {
   "cell_type": "markdown",
   "metadata": {
    "id": "12JTiRcbMT0I"
   },
   "source": [
    "# Graficzna ewaluacja modeli regresji: \n",
    "- wykres wartości przewidywanych względem prawdziwych\n",
    "- wykres residuów względem wartości dopasowanych"
   ]
  },
  {
   "cell_type": "markdown",
   "metadata": {
    "id": "2AMAUtr_MT0I"
   },
   "source": [
    "### Wykres wartości przewidywanych względem prawdziwych\n",
    "\n",
    "$(y_i, \\hat{y}_i)$\n",
    "\n",
    "wykres wartości przewidywanych względem prawdziwych.\n",
    "\n",
    "Przy idealnym dopasowaniu, punkty powinny się układać na prostej y=x."
   ]
  },
  {
   "cell_type": "code",
   "execution_count": null,
   "metadata": {
    "id": "5PMg78J1dqQj"
   },
   "outputs": [],
   "source": [
    "Ylin = np.linspace(carseats_df['Sales'].min(),carseats_df['Sales'].max(),100)\n",
    "plt.scatter(carseats.data['Sales'],fitted_red.fittedvalues)\n",
    "plt.plot(Ylin,Ylin,color = 'red')\n",
    "plt.show()"
   ]
  },
  {
   "cell_type": "markdown",
   "metadata": {
    "id": "_Ge4LAD5MT0J"
   },
   "source": [
    "## Wykres rezyduów:\n",
    "\n",
    "1. $(i,e_i)$,\n",
    "\n",
    "2. $(\\hat{y}_i,e_i)$.\n",
    "\n",
    "Oba wykresy powinny układać się wokół zera, bo błędy modelu mają średnią 0. Wspólna wariancja powinna się wyrażać tym, że żadna podgrupa punktów nie łapie większego odchylenia od prostej $y=0$"
   ]
  },
  {
   "cell_type": "code",
   "execution_count": null,
   "metadata": {
    "id": "juFX0YJydtBu"
   },
   "outputs": [],
   "source": [
    "#1. (i,e_i)\n",
    "xrang = np.arange(1,len(fitted_red.resid)+1)\n",
    "plt.scatter(xrang,fitted_red.resid)\n",
    "plt.plot(xrang,np.repeat(0,len(xrang)),color = 'red')"
   ]
  },
  {
   "cell_type": "code",
   "execution_count": null,
   "metadata": {
    "id": "ZI_l-VwZdvgr"
   },
   "outputs": [],
   "source": [
    "#2. (\\hat{y}_i,e_i)\n",
    "xrang = np.arange(fitted_red.fittedvalues.min(),fitted_red.fittedvalues.max(),0.1)\n",
    "plt.scatter(fitted_red.fittedvalues,fitted_red.resid)\n",
    "plt.plot(xrang,np.repeat(0,len(xrang)),color = 'red')"
   ]
  },
  {
   "cell_type": "markdown",
   "metadata": {
    "id": "w3FmZ2GSMT0K"
   },
   "source": [
    "### Wykres kwantylowy dla reszt \n",
    "\n",
    "Do badania normalności błędów\n",
    "\n",
    "(reszty teoretyczne vs. reszty empiryczne)\n",
    "\n",
    "Wykres powinnien układać sie na prostej $y=x$."
   ]
  },
  {
   "cell_type": "code",
   "execution_count": null,
   "metadata": {
    "id": "pGXtjyZwdz6T"
   },
   "outputs": [],
   "source": [
    "import scipy as sp\n",
    "fig,ax = plt.subplots(figsize=(6,2.5))\n",
    "sp.stats.probplot(fitted_red.resid,plot = ax,dist = 'norm',fit = True)\n",
    "plt.show()"
   ]
  },
  {
   "cell_type": "markdown",
   "metadata": {
    "id": "rF9tU37AMT0L"
   },
   "source": [
    "# Zadanie 2 \n",
    "\n",
    "1. Wczytać dane `realest.csv`, które zawierają informacje na temat domów na przedmieściach Chicago: cena domu (`Price`), liczba sypialni (`Bedroom`), powierzchnia w stopach kwadratowych (`Space`), liczba pokoi (`Room`), szerokość frontu działki w stopach (`Lot`), roczny podatek od nieruchomości (`Tax`), liczba łazienek (`Bathroom`), liczba miejsc parkingowych w garażu (`Garage`) i stan domu (`Condition`, 0-dobry, 1-wymaga remontu).\n",
    "       \n",
    "2. Wyznacz model liniowy najlepiej opisujący zależność ceny domu od pozostałych zmiennych w zbiorze:\n",
    "    \n",
    "  a) Czy istnieje związek pomiędzy zmienną zależną a którąkolwiek ze zmiennych niezależnych?\n",
    "       \n",
    "  b) Dla których zmiennych niezależnych $X_j$, $j=1,\\ldots,10$ można odrzucić hipotezę zerową  $H_0: \\beta_j = 0$?\n",
    "       \n",
    "  c) Biorąc pod uwagę odpowiedź na poprzednie pytanie, wyznacz mniejszy model w oparciu tylko o zmienne, które faktycznie mają istotny wpływ na wielkość sprzedaży.\n",
    "       \n",
    "  d) Porównaj dopasowanie obu modeli (większego i mniejszego).\n",
    "  \n",
    "3. Jaki wpływ na cenę ma zwiększenie liczby sypialni o 1, \n",
    " kiedy wartości wszystkich pozostałych zmiennych objaśniających są ustalone? \n",
    " Znaleźć uzasadnienie tego pozornie błędnego wyniku. Porównać ten wynik  z wynikiem otrzymanym dla modelu linowegoopisującego zależność ceny domu jedynie od liczby sypialni.  \n",
    "\n",
    "4. Podaj przewidywaną wartość sprzedaży dla przypadku:  \n",
    "`pd.DataFrame({\n",
    "    'Price': np.NaN, \n",
    "    'Bedroom': [3.0], \n",
    "    'Space': [1100], \n",
    "    'Room': [6.0], \n",
    "    'Lot': [32.0], \n",
    "    'Tax': [911.0],\n",
    "    'Bathroom': [1.5], \n",
    "    'Garage': [1.0], \n",
    "    'Condition': [0.0]\n",
    "})`\n",
    "\n",
    "5. Oceń jakość dopasowania."
   ]
  },
  {
   "cell_type": "code",
   "execution_count": null,
   "metadata": {
    "id": "ieXuofr4fDs6"
   },
   "outputs": [],
   "source": [
    "#1\n",
    "realest = pd.read_csv('realest.csv')\n",
    "print(realest)"
   ]
  },
  {
   "cell_type": "code",
   "execution_count": null,
   "metadata": {
    "id": "tFiKRbnHfB_-"
   },
   "outputs": [],
   "source": [
    "#są Na wyrzućmy je\n",
    "realest = realest.dropna(axis =0)\n",
    "print(realest)"
   ]
  },
  {
   "cell_type": "code",
   "execution_count": null,
   "metadata": {
    "id": "04Das73oeM4u"
   },
   "outputs": [],
   "source": [
    "# model ze wszsystkimi zmiennymi\n",
    "columns = list(realest.columns)\n",
    "columns.remove('Price')\n",
    "features = \"+\".join(list(columns))\n",
    "\n",
    "model = smf.ols('Price~'+features,data=realest)\n",
    "fitted = model.fit()\n",
    "fitted.summary()"
   ]
  },
  {
   "cell_type": "code",
   "execution_count": null,
   "metadata": {
    "id": "B_iuPKwaQUiH"
   },
   "outputs": [],
   "source": []
  },
  {
   "cell_type": "code",
   "execution_count": null,
   "metadata": {
    "id": "wt6UflvPfa-6"
   },
   "outputs": [],
   "source": [
    "#3\n",
    "#model tylko ze zmienną Bedroom\n",
    "fitted_red2 = smf.ols('Price~Bedroom',data=realest).fit()\n",
    "fitted_red2.summary()"
   ]
  }
 ],
 "metadata": {
  "colab": {
   "provenance": []
  },
  "hide_input": false,
  "kernelspec": {
   "display_name": "Python 3 (ipykernel)",
   "language": "python",
   "name": "python3"
  },
  "language_info": {
   "codemirror_mode": {
    "name": "ipython",
    "version": 3
   },
   "file_extension": ".py",
   "mimetype": "text/x-python",
   "name": "python",
   "nbconvert_exporter": "python",
   "pygments_lexer": "ipython3",
   "version": "3.10.6"
  },
  "toc": {
   "base_numbering": 1,
   "nav_menu": {},
   "number_sections": true,
   "sideBar": true,
   "skip_h1_title": true,
   "title_cell": "Table of Contents",
   "title_sidebar": "Contents",
   "toc_cell": false,
   "toc_position": {},
   "toc_section_display": true,
   "toc_window_display": false
  },
  "varInspector": {
   "cols": {
    "lenName": 16,
    "lenType": 16,
    "lenVar": 40
   },
   "kernels_config": {
    "python": {
     "delete_cmd_postfix": "",
     "delete_cmd_prefix": "del ",
     "library": "var_list.py",
     "varRefreshCmd": "print(var_dic_list())"
    },
    "r": {
     "delete_cmd_postfix": ") ",
     "delete_cmd_prefix": "rm(",
     "library": "var_list.r",
     "varRefreshCmd": "cat(var_dic_list()) "
    }
   },
   "types_to_exclude": [
    "module",
    "function",
    "builtin_function_or_method",
    "instance",
    "_Feature"
   ],
   "window_display": false
  }
 },
 "nbformat": 4,
 "nbformat_minor": 1
}

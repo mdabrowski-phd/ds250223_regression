{
 "cells": [
  {
   "cell_type": "markdown",
   "metadata": {
    "id": "zNxdSHh8WEJ-"
   },
   "source": [
    "# Model regresji prostej\n",
    "\n",
    "$$Y = \\beta_0 + \\beta_1 X + \\epsilon,$$\n",
    "gdzie $\\epsilon \\sim \\mathcal{N}(0, \\sigma)$."
   ]
  },
  {
   "cell_type": "markdown",
   "metadata": {
    "id": "80XwTpk_WEKF"
   },
   "source": [
    "**Nomenklatura:**\n",
    "\n",
    "$Y$ - zmienna zależna, zmienna odpowiedzi, zmienna objaśniana\n",
    "\n",
    "$X$ - zmienna niezależna, predyktor, atrybut\n",
    "\n",
    "$\\beta_0, \\beta_1$ - współczynniki regregresji\n",
    "\n",
    "$\\epsilon$ - błąd losowy"
   ]
  },
  {
   "cell_type": "markdown",
   "metadata": {
    "id": "EWSfupDzWEKG"
   },
   "source": [
    "**Cel:** \n",
    "\n",
    "Przy użyciu par  $(x_1, y_1), (x_2, y_2), \\ldots (x_n, y_n)$ odpowiadającym pomiarom, odpowiednio, \n",
    "zmiennej niezależnej $X$ i zmiennej zależnej $Y$, wyznaczyć współczynniki \n",
    "$b_0, b_1$ tak, aby \n",
    "$$y_i \\approx b_0 + b_1 x_i$$"
   ]
  },
  {
   "cell_type": "markdown",
   "metadata": {
    "id": "v0-_axwFWEKG"
   },
   "source": [
    "**Suma błędów  kwadratów:**\n",
    "    \n",
    "$$RSS = e_1^2 + e_2^2 + \\ldots + e_n^2 = (y_1 - \\hat{y_1})^2 + (y_2 - \\hat{y_2})^2 + \\ldots + (y_n - \\hat{y_n})^2$$"
   ]
  },
  {
   "cell_type": "markdown",
   "metadata": {
    "id": "m8DU7B2LWEKH"
   },
   "source": [
    "**Funkcja kryterialna:**\n",
    "    \n",
    "$$(b_0, b_1) = \\arg\\!\\min_{(b_0, b_1)} \\sum_{i=1}^n (y_i - \\hat{y_i})^2 = \\arg\\!\\min_{(b_0, b_1)} \\sum_{i=1}^n (y_i - (b_0 + b_1 x_i))^2$$"
   ]
  },
  {
   "cell_type": "markdown",
   "metadata": {
    "id": "nMAWKnlMWEKH"
   },
   "source": [
    "$$b_0 = \\frac{\\sum_{i=1}^{n}(x_i - \\overline{x})(y_i - \\overline{y})}{\\sum_{i=1}^n(x_i - \\overline{x})^2}$$\n",
    "\n",
    "$$b_1 = \\overline{y} - b_1\\overline{x}$$"
   ]
  },
  {
   "cell_type": "code",
   "execution_count": 1,
   "metadata": {
    "ExecuteTime": {
     "end_time": "2023-05-21T07:20:33.549039Z",
     "start_time": "2023-05-21T07:20:30.522706Z"
    },
    "id": "4u_N-raIWEKI"
   },
   "outputs": [],
   "source": [
    "import numpy as np\n",
    "import pandas as pd\n",
    "import seaborn as sns\n",
    "\n",
    "import statsmodels.api as sm\n",
    "import statsmodels.formula.api as smf\n",
    "\n",
    "from scipy import stats\n",
    "from patsy import dmatrices\n",
    "from statsmodels.stats.stattools import durbin_watson\n",
    "\n",
    "import matplotlib.pyplot as plt"
   ]
  },
  {
   "cell_type": "markdown",
   "metadata": {
    "id": "cFVGVRlFWEKM"
   },
   "source": [
    "## Pakiet [`statsmodels`](https://www.statsmodels.org/stable/genindex.html)"
   ]
  },
  {
   "cell_type": "code",
   "execution_count": null,
   "metadata": {
    "id": "RXql0MAk68Yu"
   },
   "outputs": [],
   "source": [
    "# help(sm.datasets)"
   ]
  },
  {
   "cell_type": "code",
   "execution_count": 2,
   "metadata": {
    "ExecuteTime": {
     "end_time": "2023-05-21T07:21:16.542279Z",
     "start_time": "2023-05-21T07:21:16.516972Z"
    },
    "id": "dKaW240JWEKO"
   },
   "outputs": [],
   "source": [
    "#pobieranie plików ze statsmodels\n",
    "cancer = sm.datasets.cancer.load_pandas()"
   ]
  },
  {
   "cell_type": "code",
   "execution_count": 3,
   "metadata": {
    "ExecuteTime": {
     "end_time": "2023-05-21T07:21:25.308680Z",
     "start_time": "2023-05-21T07:21:25.302026Z"
    },
    "id": "ly6gBx2J7Auv"
   },
   "outputs": [
    {
     "name": "stdout",
     "output_type": "stream",
     "text": [
      "Breast Cancer and county population\n",
      "The number of breast cancer observances in various counties\n",
      "::\n",
      "\n",
      "    Number of observations: 301\n",
      "    Number of variables: 2\n",
      "    Variable name definitions:\n",
      "\n",
      "        cancer - The number of breast cancer observances\n",
      "        population - The population of the county\n",
      "\n",
      "\n"
     ]
    }
   ],
   "source": [
    "print(sm.datasets.cancer.DESCRSHORT)\n",
    "print(sm.datasets.cancer.DESCRLONG)\n",
    "print(sm.datasets.cancer.NOTE)"
   ]
  },
  {
   "cell_type": "code",
   "execution_count": 4,
   "metadata": {
    "ExecuteTime": {
     "end_time": "2023-05-21T07:21:42.206546Z",
     "start_time": "2023-05-21T07:21:42.189713Z"
    },
    "id": "onhOdC227DfN"
   },
   "outputs": [
    {
     "data": {
      "text/html": [
       "<div>\n",
       "<style scoped>\n",
       "    .dataframe tbody tr th:only-of-type {\n",
       "        vertical-align: middle;\n",
       "    }\n",
       "\n",
       "    .dataframe tbody tr th {\n",
       "        vertical-align: top;\n",
       "    }\n",
       "\n",
       "    .dataframe thead th {\n",
       "        text-align: right;\n",
       "    }\n",
       "</style>\n",
       "<table border=\"1\" class=\"dataframe\">\n",
       "  <thead>\n",
       "    <tr style=\"text-align: right;\">\n",
       "      <th></th>\n",
       "      <th>cancer</th>\n",
       "      <th>population</th>\n",
       "    </tr>\n",
       "  </thead>\n",
       "  <tbody>\n",
       "    <tr>\n",
       "      <th>0</th>\n",
       "      <td>1.0</td>\n",
       "      <td>445.0</td>\n",
       "    </tr>\n",
       "    <tr>\n",
       "      <th>1</th>\n",
       "      <td>0.0</td>\n",
       "      <td>559.0</td>\n",
       "    </tr>\n",
       "    <tr>\n",
       "      <th>2</th>\n",
       "      <td>3.0</td>\n",
       "      <td>677.0</td>\n",
       "    </tr>\n",
       "    <tr>\n",
       "      <th>3</th>\n",
       "      <td>4.0</td>\n",
       "      <td>681.0</td>\n",
       "    </tr>\n",
       "    <tr>\n",
       "      <th>4</th>\n",
       "      <td>3.0</td>\n",
       "      <td>746.0</td>\n",
       "    </tr>\n",
       "  </tbody>\n",
       "</table>\n",
       "</div>"
      ],
      "text/plain": [
       "   cancer  population\n",
       "0     1.0       445.0\n",
       "1     0.0       559.0\n",
       "2     3.0       677.0\n",
       "3     4.0       681.0\n",
       "4     3.0       746.0"
      ]
     },
     "execution_count": 4,
     "metadata": {},
     "output_type": "execute_result"
    }
   ],
   "source": [
    "cancer.data.head()"
   ]
  },
  {
   "cell_type": "code",
   "execution_count": 5,
   "metadata": {
    "ExecuteTime": {
     "end_time": "2023-05-21T07:22:01.796560Z",
     "start_time": "2023-05-21T07:22:00.005390Z"
    },
    "id": "29rzSO11K0h_"
   },
   "outputs": [],
   "source": [
    "# Pobieranie zbiorow danych z R\n",
    "carseats = sm.datasets.get_rdataset(dataname=\"Carseats\", package=\"ISLR\", cache=True)"
   ]
  },
  {
   "cell_type": "code",
   "execution_count": 6,
   "metadata": {
    "ExecuteTime": {
     "end_time": "2023-05-21T07:22:07.232412Z",
     "start_time": "2023-05-21T07:22:07.226917Z"
    },
    "id": "ho9lxynl7ISy"
   },
   "outputs": [
    {
     "name": "stdout",
     "output_type": "stream",
     "text": [
      ".. container::\n",
      "\n",
      "   ======== ===============\n",
      "   Carseats R Documentation\n",
      "   ======== ===============\n",
      "\n",
      "   .. rubric:: Sales of Child Car Seats\n",
      "      :name: sales-of-child-car-seats\n",
      "\n",
      "   .. rubric:: Description\n",
      "      :name: description\n",
      "\n",
      "   A simulated data set containing sales of child car seats at 400\n",
      "   different stores.\n",
      "\n",
      "   .. rubric:: Usage\n",
      "      :name: usage\n",
      "\n",
      "   ::\n",
      "\n",
      "      Carseats\n",
      "\n",
      "   .. rubric:: Format\n",
      "      :name: format\n",
      "\n",
      "   A data frame with 400 observations on the following 11 variables.\n",
      "\n",
      "   ``Sales``\n",
      "      Unit sales (in thousands) at each location\n",
      "\n",
      "   ``CompPrice``\n",
      "      Price charged by competitor at each location\n",
      "\n",
      "   ``Income``\n",
      "      Community income level (in thousands of dollars)\n",
      "\n",
      "   ``Advertising``\n",
      "      Local advertising budget for company at each location (in\n",
      "      thousands of dollars)\n",
      "\n",
      "   ``Population``\n",
      "      Population size in region (in thousands)\n",
      "\n",
      "   ``Price``\n",
      "      Price company charges for car seats at each site\n",
      "\n",
      "   ``ShelveLoc``\n",
      "      A factor with levels ``Bad``, ``Good`` and ``Medium`` indicating\n",
      "      the quality of the shelving location for the car seats at each\n",
      "      site\n",
      "\n",
      "   ``Age``\n",
      "      Average age of the local population\n",
      "\n",
      "   ``Education``\n",
      "      Education level at each location\n",
      "\n",
      "   ``Urban``\n",
      "      A factor with levels ``No`` and ``Yes`` to indicate whether the\n",
      "      store is in an urban or rural location\n",
      "\n",
      "   ``US``\n",
      "      A factor with levels ``No`` and ``Yes`` to indicate whether the\n",
      "      store is in the US or not\n",
      "\n",
      "   .. rubric:: Source\n",
      "      :name: source\n",
      "\n",
      "   Simulated data\n",
      "\n",
      "   .. rubric:: References\n",
      "      :name: references\n",
      "\n",
      "   James, G., Witten, D., Hastie, T., and Tibshirani, R. (2013) *An\n",
      "   Introduction to Statistical Learning with applications in R*,\n",
      "   https://www.statlearning.com, Springer-Verlag, New York\n",
      "\n",
      "   .. rubric:: Examples\n",
      "      :name: examples\n",
      "\n",
      "   ::\n",
      "\n",
      "      summary(Carseats)\n",
      "      lm.fit=lm(Sales~Advertising+Price,data=Carseats)\n",
      "\n"
     ]
    }
   ],
   "source": [
    "#opis\n",
    "print(carseats.__doc__)"
   ]
  },
  {
   "cell_type": "markdown",
   "metadata": {
    "id": "3BUFfPfPWEKK"
   },
   "source": [
    "# Zadanie 1\n",
    "\n",
    "Wczytaj zbiór `Carseats`, który zawierają dane o sprzedaży fotelików samochodowych pewnej firmy w 400 różnych lokalizacjach:\n",
    "\n",
    "• sprzedaż jednostek (w tysiącach) w danej lokalizacji (`Sales`),\n",
    "\n",
    "• cena sprzedaży konkurenta w danej lokalizacji (`CompPrice`),\n",
    "\n",
    "• poziom dochodów społeczności w danej lokalizacji w tys. dolarów (`Income`),\n",
    "\n",
    "• wielkość populacji w danym regionie (`Population`),\n",
    "\n",
    "• lokalny budżet reklamowy dla firmy w danej lokalizacji (`Advertising`),\n",
    "\n",
    "• cena sprzedaży w danej lokalizacji (`Price`),\n",
    "\n",
    "• na ile korzystne jest miejsce na półkach sklepu dla fotelików w danym regionie?\n",
    "(`Shelveloc`),\n",
    "\n",
    "• średni wiek ludności lokalnej (`Age`),\n",
    "\n",
    "• poziom wykształcenia w każdej lokalizacji (`Education`),\n",
    "\n",
    "• czy położenie sklepu jest w lokalizacji miejskiej? (`Urban`)\n",
    "\n",
    "• czy sklep znajduje się w USA? (`US`)"
   ]
  },
  {
   "cell_type": "markdown",
   "metadata": {
    "id": "xBvDcm3nWEKL"
   },
   "source": [
    "1. Interesuje nas zależność wielkości sprzedaży fotelików samochodowych (w tys. jednostek) od ich ceny sprzedaży (zmienne `Sales` i `Price`). Określ zmienną zależną i niezależną, a następnie:\n",
    "* Narysuj wykres rozproszenia tych zmiennych. \n",
    "* Czy zmienne te są zależne? \n",
    "* Oblicz dla nich współczynnik korelacji Pearsona. \n",
    "       \n",
    "2. Wyznacz funkcję regresji wielkości sprzedaży fotelików względem ich ceny. Narysuj ją na wykresie rozproszenia.\n",
    "\n",
    "3. Zweryfikuj dopasowanie modelu:\n",
    "       a) Czy istnieje związek pomiędzy zmienną zależną a niezależną?\n",
    "       b) Czy wyraz wolny jest istotny w modelu?\n",
    "       c) Oblicz i zinterpretuj wartość współczynnika determinacji R2.\n",
    "       d) Sprawdź, czy spełnione jest założenie o rozkładzie normalnym reszt.\n",
    "       \n",
    "4. Powtórz punkty 1-3 dla zależności wielkości sprzedaży fotelików samochodowych (w tys. jednostek) od ich ceny sprzedaży u konkurenta w danej lokalizacji (zmienne `Sales` i `CompPrice`)."
   ]
  },
  {
   "cell_type": "code",
   "execution_count": 7,
   "metadata": {
    "ExecuteTime": {
     "end_time": "2023-05-21T07:25:30.837146Z",
     "start_time": "2023-05-21T07:25:30.816331Z"
    },
    "id": "TmlZxzi4j4C8"
   },
   "outputs": [
    {
     "data": {
      "text/html": [
       "<div>\n",
       "<style scoped>\n",
       "    .dataframe tbody tr th:only-of-type {\n",
       "        vertical-align: middle;\n",
       "    }\n",
       "\n",
       "    .dataframe tbody tr th {\n",
       "        vertical-align: top;\n",
       "    }\n",
       "\n",
       "    .dataframe thead th {\n",
       "        text-align: right;\n",
       "    }\n",
       "</style>\n",
       "<table border=\"1\" class=\"dataframe\">\n",
       "  <thead>\n",
       "    <tr style=\"text-align: right;\">\n",
       "      <th></th>\n",
       "      <th>Sales</th>\n",
       "      <th>CompPrice</th>\n",
       "      <th>Income</th>\n",
       "      <th>Advertising</th>\n",
       "      <th>Population</th>\n",
       "      <th>Price</th>\n",
       "      <th>ShelveLoc</th>\n",
       "      <th>Age</th>\n",
       "      <th>Education</th>\n",
       "      <th>Urban</th>\n",
       "      <th>US</th>\n",
       "    </tr>\n",
       "  </thead>\n",
       "  <tbody>\n",
       "    <tr>\n",
       "      <th>0</th>\n",
       "      <td>9.50</td>\n",
       "      <td>138</td>\n",
       "      <td>73</td>\n",
       "      <td>11</td>\n",
       "      <td>276</td>\n",
       "      <td>120</td>\n",
       "      <td>Bad</td>\n",
       "      <td>42</td>\n",
       "      <td>17</td>\n",
       "      <td>Yes</td>\n",
       "      <td>Yes</td>\n",
       "    </tr>\n",
       "    <tr>\n",
       "      <th>1</th>\n",
       "      <td>11.22</td>\n",
       "      <td>111</td>\n",
       "      <td>48</td>\n",
       "      <td>16</td>\n",
       "      <td>260</td>\n",
       "      <td>83</td>\n",
       "      <td>Good</td>\n",
       "      <td>65</td>\n",
       "      <td>10</td>\n",
       "      <td>Yes</td>\n",
       "      <td>Yes</td>\n",
       "    </tr>\n",
       "    <tr>\n",
       "      <th>2</th>\n",
       "      <td>10.06</td>\n",
       "      <td>113</td>\n",
       "      <td>35</td>\n",
       "      <td>10</td>\n",
       "      <td>269</td>\n",
       "      <td>80</td>\n",
       "      <td>Medium</td>\n",
       "      <td>59</td>\n",
       "      <td>12</td>\n",
       "      <td>Yes</td>\n",
       "      <td>Yes</td>\n",
       "    </tr>\n",
       "    <tr>\n",
       "      <th>3</th>\n",
       "      <td>7.40</td>\n",
       "      <td>117</td>\n",
       "      <td>100</td>\n",
       "      <td>4</td>\n",
       "      <td>466</td>\n",
       "      <td>97</td>\n",
       "      <td>Medium</td>\n",
       "      <td>55</td>\n",
       "      <td>14</td>\n",
       "      <td>Yes</td>\n",
       "      <td>Yes</td>\n",
       "    </tr>\n",
       "    <tr>\n",
       "      <th>4</th>\n",
       "      <td>4.15</td>\n",
       "      <td>141</td>\n",
       "      <td>64</td>\n",
       "      <td>3</td>\n",
       "      <td>340</td>\n",
       "      <td>128</td>\n",
       "      <td>Bad</td>\n",
       "      <td>38</td>\n",
       "      <td>13</td>\n",
       "      <td>Yes</td>\n",
       "      <td>No</td>\n",
       "    </tr>\n",
       "    <tr>\n",
       "      <th>...</th>\n",
       "      <td>...</td>\n",
       "      <td>...</td>\n",
       "      <td>...</td>\n",
       "      <td>...</td>\n",
       "      <td>...</td>\n",
       "      <td>...</td>\n",
       "      <td>...</td>\n",
       "      <td>...</td>\n",
       "      <td>...</td>\n",
       "      <td>...</td>\n",
       "      <td>...</td>\n",
       "    </tr>\n",
       "    <tr>\n",
       "      <th>395</th>\n",
       "      <td>12.57</td>\n",
       "      <td>138</td>\n",
       "      <td>108</td>\n",
       "      <td>17</td>\n",
       "      <td>203</td>\n",
       "      <td>128</td>\n",
       "      <td>Good</td>\n",
       "      <td>33</td>\n",
       "      <td>14</td>\n",
       "      <td>Yes</td>\n",
       "      <td>Yes</td>\n",
       "    </tr>\n",
       "    <tr>\n",
       "      <th>396</th>\n",
       "      <td>6.14</td>\n",
       "      <td>139</td>\n",
       "      <td>23</td>\n",
       "      <td>3</td>\n",
       "      <td>37</td>\n",
       "      <td>120</td>\n",
       "      <td>Medium</td>\n",
       "      <td>55</td>\n",
       "      <td>11</td>\n",
       "      <td>No</td>\n",
       "      <td>Yes</td>\n",
       "    </tr>\n",
       "    <tr>\n",
       "      <th>397</th>\n",
       "      <td>7.41</td>\n",
       "      <td>162</td>\n",
       "      <td>26</td>\n",
       "      <td>12</td>\n",
       "      <td>368</td>\n",
       "      <td>159</td>\n",
       "      <td>Medium</td>\n",
       "      <td>40</td>\n",
       "      <td>18</td>\n",
       "      <td>Yes</td>\n",
       "      <td>Yes</td>\n",
       "    </tr>\n",
       "    <tr>\n",
       "      <th>398</th>\n",
       "      <td>5.94</td>\n",
       "      <td>100</td>\n",
       "      <td>79</td>\n",
       "      <td>7</td>\n",
       "      <td>284</td>\n",
       "      <td>95</td>\n",
       "      <td>Bad</td>\n",
       "      <td>50</td>\n",
       "      <td>12</td>\n",
       "      <td>Yes</td>\n",
       "      <td>Yes</td>\n",
       "    </tr>\n",
       "    <tr>\n",
       "      <th>399</th>\n",
       "      <td>9.71</td>\n",
       "      <td>134</td>\n",
       "      <td>37</td>\n",
       "      <td>0</td>\n",
       "      <td>27</td>\n",
       "      <td>120</td>\n",
       "      <td>Good</td>\n",
       "      <td>49</td>\n",
       "      <td>16</td>\n",
       "      <td>Yes</td>\n",
       "      <td>Yes</td>\n",
       "    </tr>\n",
       "  </tbody>\n",
       "</table>\n",
       "<p>400 rows × 11 columns</p>\n",
       "</div>"
      ],
      "text/plain": [
       "     Sales  CompPrice  Income  Advertising  Population  Price ShelveLoc  Age  \\\n",
       "0     9.50        138      73           11         276    120       Bad   42   \n",
       "1    11.22        111      48           16         260     83      Good   65   \n",
       "2    10.06        113      35           10         269     80    Medium   59   \n",
       "3     7.40        117     100            4         466     97    Medium   55   \n",
       "4     4.15        141      64            3         340    128       Bad   38   \n",
       "..     ...        ...     ...          ...         ...    ...       ...  ...   \n",
       "395  12.57        138     108           17         203    128      Good   33   \n",
       "396   6.14        139      23            3          37    120    Medium   55   \n",
       "397   7.41        162      26           12         368    159    Medium   40   \n",
       "398   5.94        100      79            7         284     95       Bad   50   \n",
       "399   9.71        134      37            0          27    120      Good   49   \n",
       "\n",
       "     Education Urban   US  \n",
       "0           17   Yes  Yes  \n",
       "1           10   Yes  Yes  \n",
       "2           12   Yes  Yes  \n",
       "3           14   Yes  Yes  \n",
       "4           13   Yes   No  \n",
       "..         ...   ...  ...  \n",
       "395         14   Yes  Yes  \n",
       "396         11    No  Yes  \n",
       "397         18   Yes  Yes  \n",
       "398         12   Yes  Yes  \n",
       "399         16   Yes  Yes  \n",
       "\n",
       "[400 rows x 11 columns]"
      ]
     },
     "execution_count": 7,
     "metadata": {},
     "output_type": "execute_result"
    }
   ],
   "source": [
    "carseats_df = carseats.data\n",
    "carseats_df"
   ]
  },
  {
   "cell_type": "code",
   "execution_count": 19,
   "metadata": {
    "ExecuteTime": {
     "end_time": "2023-05-21T07:32:57.619126Z",
     "start_time": "2023-05-21T07:32:57.467435Z"
    },
    "id": "XWuxcjQsOtl-"
   },
   "outputs": [
    {
     "data": {
      "text/plain": [
       "-0.44495072784657264"
      ]
     },
     "execution_count": 19,
     "metadata": {},
     "output_type": "execute_result"
    },
    {
     "data": {
      "image/png": "[encoded data removed]",
      "text/plain": [
       "<Figure size 432x288 with 1 Axes>"
      ]
     },
     "metadata": {
      "needs_background": "light"
     },
     "output_type": "display_data"
    }
   ],
   "source": [
    "plt.scatter(carseats_df.Price, carseats_df.Sales)\n",
    "\n",
    "carseats_df.Price.corr(carseats_df.Sales)\n",
    "# np.corrcoef(carseats_df.Price, carseats_df.Sales)"
   ]
  },
  {
   "cell_type": "code",
   "execution_count": 20,
   "metadata": {
    "ExecuteTime": {
     "end_time": "2023-05-21T07:37:28.020856Z",
     "start_time": "2023-05-21T07:37:27.983794Z"
    },
    "id": "CHitxwLt7ZOa"
   },
   "outputs": [
    {
     "data": {
      "text/html": [
       "<table class=\"simpletable\">\n",
       "<caption>OLS Regression Results</caption>\n",
       "<tr>\n",
       "  <th>Dep. Variable:</th>          <td>Sales</td>      <th>  R-squared:         </th> <td>   0.198</td>\n",
       "</tr>\n",
       "<tr>\n",
       "  <th>Model:</th>                   <td>OLS</td>       <th>  Adj. R-squared:    </th> <td>   0.196</td>\n",
       "</tr>\n",
       "<tr>\n",
       "  <th>Method:</th>             <td>Least Squares</td>  <th>  F-statistic:       </th> <td>   98.25</td>\n",
       "</tr>\n",
       "<tr>\n",
       "  <th>Date:</th>             <td>Sun, 21 May 2023</td> <th>  Prob (F-statistic):</th> <td>7.62e-21</td>\n",
       "</tr>\n",
       "<tr>\n",
       "  <th>Time:</th>                 <td>09:37:27</td>     <th>  Log-Likelihood:    </th> <td> -938.23</td>\n",
       "</tr>\n",
       "<tr>\n",
       "  <th>No. Observations:</th>      <td>   400</td>      <th>  AIC:               </th> <td>   1880.</td>\n",
       "</tr>\n",
       "<tr>\n",
       "  <th>Df Residuals:</th>          <td>   398</td>      <th>  BIC:               </th> <td>   1888.</td>\n",
       "</tr>\n",
       "<tr>\n",
       "  <th>Df Model:</th>              <td>     1</td>      <th>                     </th>     <td> </td>   \n",
       "</tr>\n",
       "<tr>\n",
       "  <th>Covariance Type:</th>      <td>nonrobust</td>    <th>                     </th>     <td> </td>   \n",
       "</tr>\n",
       "</table>\n",
       "<table class=\"simpletable\">\n",
       "<tr>\n",
       "      <td></td>         <th>coef</th>     <th>std err</th>      <th>t</th>      <th>P>|t|</th>  <th>[0.025</th>    <th>0.975]</th>  \n",
       "</tr>\n",
       "<tr>\n",
       "  <th>Intercept</th> <td>   13.6419</td> <td>    0.633</td> <td>   21.558</td> <td> 0.000</td> <td>   12.398</td> <td>   14.886</td>\n",
       "</tr>\n",
       "<tr>\n",
       "  <th>Price</th>     <td>   -0.0531</td> <td>    0.005</td> <td>   -9.912</td> <td> 0.000</td> <td>   -0.064</td> <td>   -0.043</td>\n",
       "</tr>\n",
       "</table>\n",
       "<table class=\"simpletable\">\n",
       "<tr>\n",
       "  <th>Omnibus:</th>       <td> 2.537</td> <th>  Durbin-Watson:     </th> <td>   1.892</td>\n",
       "</tr>\n",
       "<tr>\n",
       "  <th>Prob(Omnibus):</th> <td> 0.281</td> <th>  Jarque-Bera (JB):  </th> <td>   2.611</td>\n",
       "</tr>\n",
       "<tr>\n",
       "  <th>Skew:</th>          <td> 0.175</td> <th>  Prob(JB):          </th> <td>   0.271</td>\n",
       "</tr>\n",
       "<tr>\n",
       "  <th>Kurtosis:</th>      <td> 2.816</td> <th>  Cond. No.          </th> <td>    591.</td>\n",
       "</tr>\n",
       "</table><br/><br/>Notes:<br/>[1] Standard Errors assume that the covariance matrix of the errors is correctly specified."
      ],
      "text/plain": [
       "<class 'statsmodels.iolib.summary.Summary'>\n",
       "\"\"\"\n",
       "                            OLS Regression Results                            \n",
       "==============================================================================\n",
       "Dep. Variable:                  Sales   R-squared:                       0.198\n",
       "Model:                            OLS   Adj. R-squared:                  0.196\n",
       "Method:                 Least Squares   F-statistic:                     98.25\n",
       "Date:                Sun, 21 May 2023   Prob (F-statistic):           7.62e-21\n",
       "Time:                        09:37:27   Log-Likelihood:                -938.23\n",
       "No. Observations:                 400   AIC:                             1880.\n",
       "Df Residuals:                     398   BIC:                             1888.\n",
       "Df Model:                           1                                         \n",
       "Covariance Type:            nonrobust                                         \n",
       "==============================================================================\n",
       "                 coef    std err          t      P>|t|      [0.025      0.975]\n",
       "------------------------------------------------------------------------------\n",
       "Intercept     13.6419      0.633     21.558      0.000      12.398      14.886\n",
       "Price         -0.0531      0.005     -9.912      0.000      -0.064      -0.043\n",
       "==============================================================================\n",
       "Omnibus:                        2.537   Durbin-Watson:                   1.892\n",
       "Prob(Omnibus):                  0.281   Jarque-Bera (JB):                2.611\n",
       "Skew:                           0.175   Prob(JB):                        0.271\n",
       "Kurtosis:                       2.816   Cond. No.                         591.\n",
       "==============================================================================\n",
       "\n",
       "Notes:\n",
       "[1] Standard Errors assume that the covariance matrix of the errors is correctly specified.\n",
       "\"\"\""
      ]
     },
     "execution_count": 20,
     "metadata": {},
     "output_type": "execute_result"
    }
   ],
   "source": [
    "# metoda1 (statsmodels.formula.api)\n",
    "\n",
    "model = smf.ols('Sales~Price', data=carseats_df)\n",
    "fitted_model = model.fit()\n",
    "fitted_model.summary()"
   ]
  },
  {
   "cell_type": "code",
   "execution_count": 21,
   "metadata": {
    "ExecuteTime": {
     "end_time": "2023-05-21T07:39:17.327642Z",
     "start_time": "2023-05-21T07:39:17.298737Z"
    },
    "id": "f2p-jb6h7e4O"
   },
   "outputs": [
    {
     "data": {
      "text/html": [
       "<table class=\"simpletable\">\n",
       "<caption>OLS Regression Results</caption>\n",
       "<tr>\n",
       "  <th>Dep. Variable:</th>          <td>Sales</td>      <th>  R-squared:         </th> <td>   0.198</td>\n",
       "</tr>\n",
       "<tr>\n",
       "  <th>Model:</th>                   <td>OLS</td>       <th>  Adj. R-squared:    </th> <td>   0.196</td>\n",
       "</tr>\n",
       "<tr>\n",
       "  <th>Method:</th>             <td>Least Squares</td>  <th>  F-statistic:       </th> <td>   98.25</td>\n",
       "</tr>\n",
       "<tr>\n",
       "  <th>Date:</th>             <td>Sun, 21 May 2023</td> <th>  Prob (F-statistic):</th> <td>7.62e-21</td>\n",
       "</tr>\n",
       "<tr>\n",
       "  <th>Time:</th>                 <td>09:39:17</td>     <th>  Log-Likelihood:    </th> <td> -938.23</td>\n",
       "</tr>\n",
       "<tr>\n",
       "  <th>No. Observations:</th>      <td>   400</td>      <th>  AIC:               </th> <td>   1880.</td>\n",
       "</tr>\n",
       "<tr>\n",
       "  <th>Df Residuals:</th>          <td>   398</td>      <th>  BIC:               </th> <td>   1888.</td>\n",
       "</tr>\n",
       "<tr>\n",
       "  <th>Df Model:</th>              <td>     1</td>      <th>                     </th>     <td> </td>   \n",
       "</tr>\n",
       "<tr>\n",
       "  <th>Covariance Type:</th>      <td>nonrobust</td>    <th>                     </th>     <td> </td>   \n",
       "</tr>\n",
       "</table>\n",
       "<table class=\"simpletable\">\n",
       "<tr>\n",
       "    <td></td>       <th>coef</th>     <th>std err</th>      <th>t</th>      <th>P>|t|</th>  <th>[0.025</th>    <th>0.975]</th>  \n",
       "</tr>\n",
       "<tr>\n",
       "  <th>const</th> <td>   13.6419</td> <td>    0.633</td> <td>   21.558</td> <td> 0.000</td> <td>   12.398</td> <td>   14.886</td>\n",
       "</tr>\n",
       "<tr>\n",
       "  <th>Price</th> <td>   -0.0531</td> <td>    0.005</td> <td>   -9.912</td> <td> 0.000</td> <td>   -0.064</td> <td>   -0.043</td>\n",
       "</tr>\n",
       "</table>\n",
       "<table class=\"simpletable\">\n",
       "<tr>\n",
       "  <th>Omnibus:</th>       <td> 2.537</td> <th>  Durbin-Watson:     </th> <td>   1.892</td>\n",
       "</tr>\n",
       "<tr>\n",
       "  <th>Prob(Omnibus):</th> <td> 0.281</td> <th>  Jarque-Bera (JB):  </th> <td>   2.611</td>\n",
       "</tr>\n",
       "<tr>\n",
       "  <th>Skew:</th>          <td> 0.175</td> <th>  Prob(JB):          </th> <td>   0.271</td>\n",
       "</tr>\n",
       "<tr>\n",
       "  <th>Kurtosis:</th>      <td> 2.816</td> <th>  Cond. No.          </th> <td>    591.</td>\n",
       "</tr>\n",
       "</table><br/><br/>Notes:<br/>[1] Standard Errors assume that the covariance matrix of the errors is correctly specified."
      ],
      "text/plain": [
       "<class 'statsmodels.iolib.summary.Summary'>\n",
       "\"\"\"\n",
       "                            OLS Regression Results                            \n",
       "==============================================================================\n",
       "Dep. Variable:                  Sales   R-squared:                       0.198\n",
       "Model:                            OLS   Adj. R-squared:                  0.196\n",
       "Method:                 Least Squares   F-statistic:                     98.25\n",
       "Date:                Sun, 21 May 2023   Prob (F-statistic):           7.62e-21\n",
       "Time:                        09:39:17   Log-Likelihood:                -938.23\n",
       "No. Observations:                 400   AIC:                             1880.\n",
       "Df Residuals:                     398   BIC:                             1888.\n",
       "Df Model:                           1                                         \n",
       "Covariance Type:            nonrobust                                         \n",
       "==============================================================================\n",
       "                 coef    std err          t      P>|t|      [0.025      0.975]\n",
       "------------------------------------------------------------------------------\n",
       "const         13.6419      0.633     21.558      0.000      12.398      14.886\n",
       "Price         -0.0531      0.005     -9.912      0.000      -0.064      -0.043\n",
       "==============================================================================\n",
       "Omnibus:                        2.537   Durbin-Watson:                   1.892\n",
       "Prob(Omnibus):                  0.281   Jarque-Bera (JB):                2.611\n",
       "Skew:                           0.175   Prob(JB):                        0.271\n",
       "Kurtosis:                       2.816   Cond. No.                         591.\n",
       "==============================================================================\n",
       "\n",
       "Notes:\n",
       "[1] Standard Errors assume that the covariance matrix of the errors is correctly specified.\n",
       "\"\"\""
      ]
     },
     "execution_count": 21,
     "metadata": {},
     "output_type": "execute_result"
    }
   ],
   "source": [
    "# metoda2 (statsmodels.api)\n",
    "\n",
    "carseats_df2 = sm.add_constant(carseats.data, prepend=True, has_constant='add')  # dodanie kolumny jedynek (b0)\n",
    "carseats_df2 \n",
    "\n",
    "X, Y = carseats_df2[['const', 'Price']], carseats_df2['Sales']\n",
    "\n",
    "model2 = sm.OLS(endog = Y, exog = X)\n",
    "fitted_model2 = model2.fit()\n",
    "fitted_model2.summary()"
   ]
  },
  {
   "cell_type": "code",
   "execution_count": 22,
   "metadata": {
    "ExecuteTime": {
     "end_time": "2023-05-21T07:39:25.786838Z",
     "start_time": "2023-05-21T07:39:25.754542Z"
    },
    "id": "3Ua62-kE7gve"
   },
   "outputs": [
    {
     "name": "stdout",
     "output_type": "stream",
     "text": [
      "     Sales\n",
      "0     9.50\n",
      "1    11.22\n",
      "2    10.06\n",
      "3     7.40\n",
      "4     4.15\n",
      "..     ...\n",
      "395  12.57\n",
      "396   6.14\n",
      "397   7.41\n",
      "398   5.94\n",
      "399   9.71\n",
      "\n",
      "[400 rows x 1 columns]\n",
      "     Intercept  Price\n",
      "0          1.0  120.0\n",
      "1          1.0   83.0\n",
      "2          1.0   80.0\n",
      "3          1.0   97.0\n",
      "4          1.0  128.0\n",
      "..         ...    ...\n",
      "395        1.0  128.0\n",
      "396        1.0  120.0\n",
      "397        1.0  159.0\n",
      "398        1.0   95.0\n",
      "399        1.0  120.0\n",
      "\n",
      "[400 rows x 2 columns]\n"
     ]
    },
    {
     "data": {
      "text/html": [
       "<table class=\"simpletable\">\n",
       "<caption>OLS Regression Results</caption>\n",
       "<tr>\n",
       "  <th>Dep. Variable:</th>          <td>Sales</td>      <th>  R-squared:         </th> <td>   0.198</td>\n",
       "</tr>\n",
       "<tr>\n",
       "  <th>Model:</th>                   <td>OLS</td>       <th>  Adj. R-squared:    </th> <td>   0.196</td>\n",
       "</tr>\n",
       "<tr>\n",
       "  <th>Method:</th>             <td>Least Squares</td>  <th>  F-statistic:       </th> <td>   98.25</td>\n",
       "</tr>\n",
       "<tr>\n",
       "  <th>Date:</th>             <td>Sun, 21 May 2023</td> <th>  Prob (F-statistic):</th> <td>7.62e-21</td>\n",
       "</tr>\n",
       "<tr>\n",
       "  <th>Time:</th>                 <td>09:39:25</td>     <th>  Log-Likelihood:    </th> <td> -938.23</td>\n",
       "</tr>\n",
       "<tr>\n",
       "  <th>No. Observations:</th>      <td>   400</td>      <th>  AIC:               </th> <td>   1880.</td>\n",
       "</tr>\n",
       "<tr>\n",
       "  <th>Df Residuals:</th>          <td>   398</td>      <th>  BIC:               </th> <td>   1888.</td>\n",
       "</tr>\n",
       "<tr>\n",
       "  <th>Df Model:</th>              <td>     1</td>      <th>                     </th>     <td> </td>   \n",
       "</tr>\n",
       "<tr>\n",
       "  <th>Covariance Type:</th>      <td>nonrobust</td>    <th>                     </th>     <td> </td>   \n",
       "</tr>\n",
       "</table>\n",
       "<table class=\"simpletable\">\n",
       "<tr>\n",
       "      <td></td>         <th>coef</th>     <th>std err</th>      <th>t</th>      <th>P>|t|</th>  <th>[0.025</th>    <th>0.975]</th>  \n",
       "</tr>\n",
       "<tr>\n",
       "  <th>Intercept</th> <td>   13.6419</td> <td>    0.633</td> <td>   21.558</td> <td> 0.000</td> <td>   12.398</td> <td>   14.886</td>\n",
       "</tr>\n",
       "<tr>\n",
       "  <th>Price</th>     <td>   -0.0531</td> <td>    0.005</td> <td>   -9.912</td> <td> 0.000</td> <td>   -0.064</td> <td>   -0.043</td>\n",
       "</tr>\n",
       "</table>\n",
       "<table class=\"simpletable\">\n",
       "<tr>\n",
       "  <th>Omnibus:</th>       <td> 2.537</td> <th>  Durbin-Watson:     </th> <td>   1.892</td>\n",
       "</tr>\n",
       "<tr>\n",
       "  <th>Prob(Omnibus):</th> <td> 0.281</td> <th>  Jarque-Bera (JB):  </th> <td>   2.611</td>\n",
       "</tr>\n",
       "<tr>\n",
       "  <th>Skew:</th>          <td> 0.175</td> <th>  Prob(JB):          </th> <td>   0.271</td>\n",
       "</tr>\n",
       "<tr>\n",
       "  <th>Kurtosis:</th>      <td> 2.816</td> <th>  Cond. No.          </th> <td>    591.</td>\n",
       "</tr>\n",
       "</table><br/><br/>Notes:<br/>[1] Standard Errors assume that the covariance matrix of the errors is correctly specified."
      ],
      "text/plain": [
       "<class 'statsmodels.iolib.summary.Summary'>\n",
       "\"\"\"\n",
       "                            OLS Regression Results                            \n",
       "==============================================================================\n",
       "Dep. Variable:                  Sales   R-squared:                       0.198\n",
       "Model:                            OLS   Adj. R-squared:                  0.196\n",
       "Method:                 Least Squares   F-statistic:                     98.25\n",
       "Date:                Sun, 21 May 2023   Prob (F-statistic):           7.62e-21\n",
       "Time:                        09:39:25   Log-Likelihood:                -938.23\n",
       "No. Observations:                 400   AIC:                             1880.\n",
       "Df Residuals:                     398   BIC:                             1888.\n",
       "Df Model:                           1                                         \n",
       "Covariance Type:            nonrobust                                         \n",
       "==============================================================================\n",
       "                 coef    std err          t      P>|t|      [0.025      0.975]\n",
       "------------------------------------------------------------------------------\n",
       "Intercept     13.6419      0.633     21.558      0.000      12.398      14.886\n",
       "Price         -0.0531      0.005     -9.912      0.000      -0.064      -0.043\n",
       "==============================================================================\n",
       "Omnibus:                        2.537   Durbin-Watson:                   1.892\n",
       "Prob(Omnibus):                  0.281   Jarque-Bera (JB):                2.611\n",
       "Skew:                           0.175   Prob(JB):                        0.271\n",
       "Kurtosis:                       2.816   Cond. No.                         591.\n",
       "==============================================================================\n",
       "\n",
       "Notes:\n",
       "[1] Standard Errors assume that the covariance matrix of the errors is correctly specified.\n",
       "\"\"\""
      ]
     },
     "execution_count": 22,
     "metadata": {},
     "output_type": "execute_result"
    }
   ],
   "source": [
    "# metoda3 (automatyczne dodanie kolumny jedynek i separacja zmiennych X i Y)\n",
    "\n",
    "Y, X = dmatrices('Sales~Price', data=carseats_df, return_type='dataframe')\n",
    "print(Y)\n",
    "print(X)\n",
    "\n",
    "model3 = sm.OLS(endog = Y, exog = X)\n",
    "fitted_model3 = model3.fit()\n",
    "fitted_model3.summary()"
   ]
  },
  {
   "cell_type": "code",
   "execution_count": 24,
   "metadata": {
    "ExecuteTime": {
     "end_time": "2023-05-21T07:40:51.835237Z",
     "start_time": "2023-05-21T07:40:50.986327Z"
    },
    "id": "hd5ug6ad7kuu"
   },
   "outputs": [
    {
     "name": "stdout",
     "output_type": "stream",
     "text": [
      "Liczba obserwacji w zbiorze treningowym (No. Observations): 400.0\n",
      "\n",
      "\n",
      "Liczba stopni swobody (Df Residuals): 398.0\n",
      "Liczba stopni swobody w modelu (Df Model): 1.0\n",
      "\n",
      "\n",
      "Współczynnik determinacji R2 (R-squared): 0.19798115021119478\n",
      "Modyfikowany współczynnik determinacji R2 (Adj. R-squared): 0.19596602747303193\n",
      "\n",
      "\n",
      "Wartość statystyki testowej testu F (F-statistic): 98.2476880746692\n",
      "P-wartość testu F (Prob (F-statistic)): 7.618187011915283e-21\n",
      "\n",
      "\n",
      "Wartość funkcji wiarogodności (Log-Likelihood): -938.2281770407974\n",
      "AIC: 1880.4563540815948\n",
      "BIC: 1888.4392831758107\n",
      "\n",
      "\n",
      "Wartość statystyki testowej testu normalności D'Angostino (Omnibus): 2.5367349805033097\n",
      "P-wartość testu D'Angostino (Prob(Omnibus)): 0.2812904565628028\n",
      "\n",
      "\n",
      "Skośność (Skew): 0.17508369947717364\n",
      "Kurtoza (Kurtosis): 2.8155126928300667\n",
      "\n",
      "\n",
      "Wartość statystyki Durbina-Watsona: 1.8922196901096124\n",
      "Wartość statystyki Jarque-Bera: 2.61087956328777\n",
      "P-wartość testu Jarque-Bera: 0.27105330456197174\n",
      "Wskaźnik uwarunkowania (Cond. No): 590.7132159165595\n",
      "\n",
      "\n",
      "Wartości dopasowanych wartości parametrów regresji:\n",
      "Intercept    13.641915\n",
      "Price        -0.053073\n",
      "dtype: float64\n",
      "\n",
      "\n",
      "Odchylenie standardowe dla dopasowanych estymatorów parametrów regresji:\n",
      "Intercept    0.626374\n",
      "Price        0.005263\n",
      "dtype: float64\n",
      "\n",
      "\n",
      "Wartość statystki testu t-Studenta\n",
      "Intercept    21.557620\n",
      "Price        -9.911997\n",
      "dtype: float64\n",
      "\n",
      "\n",
      "P-wartości testu t-Studenta\n",
      "Intercept    7.458712e-69\n",
      "Price        7.618187e-21\n",
      "dtype: float64\n",
      "\n",
      "\n",
      "Przedział ufności dla współczynnika regresji dla wyrazu wolnego:\n",
      "(12.4231612532819, 14.882307403293686)\n",
      "Przedział ufności dla współczynnika regresji dla zmiennej niezależnej:\n",
      "(-0.06346255899899662, -0.04281687265396391)\n"
     ]
    }
   ],
   "source": [
    "#Jak wyciągać poszczególne informacje z summary?\n",
    "\n",
    "print(\"Liczba obserwacji w zbiorze treningowym (No. Observations): {}\".format(model3.nobs))\n",
    "print(\"\\n\")\n",
    "\n",
    "print(\"Liczba stopni swobody (Df Residuals): {}\".format(model3.df_resid))\n",
    "print(\"Liczba stopni swobody w modelu (Df Model): {}\".format(model3.df_model))\n",
    "print(\"\\n\")\n",
    "\n",
    "print(\"Współczynnik determinacji R2 (R-squared): {}\".format(fitted_model3.rsquared))\n",
    "print(\"Modyfikowany współczynnik determinacji R2 (Adj. R-squared): {}\".format(fitted_model3.rsquared_adj))\n",
    "print(\"\\n\")\n",
    "\n",
    "print(\"Wartość statystyki testowej testu F (F-statistic): {}\".format(fitted_model3.fvalue))\n",
    "print(\"P-wartość testu F (Prob (F-statistic)): {}\".format(fitted_model3.f_pvalue))\n",
    "print(\"\\n\")\n",
    "\n",
    "print(\"Wartość funkcji wiarogodności (Log-Likelihood): {}\".format(fitted_model3.llf))\n",
    "print(\"AIC: {}\".format(fitted_model3.aic))\n",
    "print(\"BIC: {}\".format(fitted_model3.bic))\n",
    "print(\"\\n\")\n",
    "\n",
    "normaltest = stats.normaltest(fitted_model3.resid)\n",
    "print(\"Wartość statystyki testowej testu normalności D'Angostino (Omnibus): {}\". format(normaltest.statistic))\n",
    "print(\"P-wartość testu D'Angostino (Prob(Omnibus)): {}\".format(normaltest.pvalue))\n",
    "print(\"\\n\")\n",
    "\n",
    "print(\"Skośność (Skew): {}\".format(stats.skew(fitted_model3.resid)))\n",
    "print(\"Kurtoza (Kurtosis): {}\".format(stats.kurtosis(fitted_model3.resid, fisher = False, bias = True)))\n",
    "print(\"\\n\")\n",
    "\n",
    "normaltest2 = stats.jarque_bera(fitted_model3.resid)\n",
    "print(\"Wartość statystyki Durbina-Watsona: {}\".format(durbin_watson(fitted_model3.resid)))\n",
    "print(\"Wartość statystyki Jarque-Bera: {}\".format(normaltest2[0]))\n",
    "print(\"P-wartość testu Jarque-Bera: {}\".format(normaltest2[1]))\n",
    "print(\"Wskaźnik uwarunkowania (Cond. No): {}\".format(fitted_model3.condition_number))\n",
    "print(\"\\n\")\n",
    "\n",
    "print(\"Wartości dopasowanych wartości parametrów regresji:\")\n",
    "print(fitted_model3.params)\n",
    "print(\"\\n\")\n",
    "\n",
    "print(\"Odchylenie standardowe dla dopasowanych estymatorów parametrów regresji:\")\n",
    "print(fitted_model3.HC0_se)\n",
    "print(\"\\n\")\n",
    "\n",
    "print(\"Wartość statystki testu t-Studenta\")\n",
    "print(fitted_model3.tvalues)\n",
    "print(\"\\n\")\n",
    "\n",
    "print(\"P-wartości testu t-Studenta\")\n",
    "print(fitted_model3.pvalues)\n",
    "print(\"\\n\")\n",
    "\n",
    "print(\"Przedział ufności dla współczynnika regresji dla wyrazu wolnego:\")\n",
    "print(fitted_model3.conf_int_el(0))\n",
    "print(\"Przedział ufności dla współczynnika regresji dla zmiennej niezależnej:\")\n",
    "print(fitted_model3.conf_int_el(1))"
   ]
  },
  {
   "cell_type": "code",
   "execution_count": 31,
   "metadata": {
    "ExecuteTime": {
     "end_time": "2023-05-21T08:13:08.735711Z",
     "start_time": "2023-05-21T08:13:08.582436Z"
    }
   },
   "outputs": [
    {
     "data": {
      "image/png": "[encoded data removed]",
      "text/plain": [
       "<Figure size 432x288 with 1 Axes>"
      ]
     },
     "metadata": {
      "needs_background": "light"
     },
     "output_type": "display_data"
    }
   ],
   "source": [
    "plt.scatter(carseats_df.Price, carseats_df.Sales)\n",
    "\n",
    "#plt.plot(carseats_df.Price, fitted_model.predict(carseats_df.Price), color='red')\n",
    "plt.plot(carseats_df.Price, fitted_model.params[1] * carseats_df.Price + fitted_model.params[0], color='red')\n",
    "\n",
    "plt.show()"
   ]
  },
  {
   "cell_type": "code",
   "execution_count": 46,
   "metadata": {
    "ExecuteTime": {
     "end_time": "2023-05-21T08:32:35.957935Z",
     "start_time": "2023-05-21T08:32:35.927277Z"
    },
    "id": "hCJZGL_pO9NW",
    "scrolled": true
   },
   "outputs": [
    {
     "data": {
      "text/html": [
       "<table class=\"simpletable\">\n",
       "<caption>OLS Regression Results</caption>\n",
       "<tr>\n",
       "  <th>Dep. Variable:</th>          <td>Sales</td>      <th>  R-squared:         </th> <td>   0.004</td>\n",
       "</tr>\n",
       "<tr>\n",
       "  <th>Model:</th>                   <td>OLS</td>       <th>  Adj. R-squared:    </th> <td>   0.002</td>\n",
       "</tr>\n",
       "<tr>\n",
       "  <th>Method:</th>             <td>Least Squares</td>  <th>  F-statistic:       </th> <td>   1.641</td>\n",
       "</tr>\n",
       "<tr>\n",
       "  <th>Date:</th>             <td>Sun, 21 May 2023</td> <th>  Prob (F-statistic):</th>  <td> 0.201</td> \n",
       "</tr>\n",
       "<tr>\n",
       "  <th>Time:</th>                 <td>10:32:35</td>     <th>  Log-Likelihood:    </th> <td> -981.53</td>\n",
       "</tr>\n",
       "<tr>\n",
       "  <th>No. Observations:</th>      <td>   400</td>      <th>  AIC:               </th> <td>   1967.</td>\n",
       "</tr>\n",
       "<tr>\n",
       "  <th>Df Residuals:</th>          <td>   398</td>      <th>  BIC:               </th> <td>   1975.</td>\n",
       "</tr>\n",
       "<tr>\n",
       "  <th>Df Model:</th>              <td>     1</td>      <th>                     </th>     <td> </td>   \n",
       "</tr>\n",
       "<tr>\n",
       "  <th>Covariance Type:</th>      <td>nonrobust</td>    <th>                     </th>     <td> </td>   \n",
       "</tr>\n",
       "</table>\n",
       "<table class=\"simpletable\">\n",
       "<tr>\n",
       "      <td></td>         <th>coef</th>     <th>std err</th>      <th>t</th>      <th>P>|t|</th>  <th>[0.025</th>    <th>0.975]</th>  \n",
       "</tr>\n",
       "<tr>\n",
       "  <th>Intercept</th> <td>    6.0215</td> <td>    1.160</td> <td>    5.191</td> <td> 0.000</td> <td>    3.741</td> <td>    8.302</td>\n",
       "</tr>\n",
       "<tr>\n",
       "  <th>CompPrice</th> <td>    0.0118</td> <td>    0.009</td> <td>    1.281</td> <td> 0.201</td> <td>   -0.006</td> <td>    0.030</td>\n",
       "</tr>\n",
       "</table>\n",
       "<table class=\"simpletable\">\n",
       "<tr>\n",
       "  <th>Omnibus:</th>       <td> 2.567</td> <th>  Durbin-Watson:     </th> <td>   1.904</td>\n",
       "</tr>\n",
       "<tr>\n",
       "  <th>Prob(Omnibus):</th> <td> 0.277</td> <th>  Jarque-Bera (JB):  </th> <td>   2.625</td>\n",
       "</tr>\n",
       "<tr>\n",
       "  <th>Skew:</th>          <td> 0.191</td> <th>  Prob(JB):          </th> <td>   0.269</td>\n",
       "</tr>\n",
       "<tr>\n",
       "  <th>Kurtosis:</th>      <td> 2.892</td> <th>  Cond. No.          </th> <td>1.04e+03</td>\n",
       "</tr>\n",
       "</table><br/><br/>Notes:<br/>[1] Standard Errors assume that the covariance matrix of the errors is correctly specified.<br/>[2] The condition number is large, 1.04e+03. This might indicate that there are<br/>strong multicollinearity or other numerical problems."
      ],
      "text/plain": [
       "<class 'statsmodels.iolib.summary.Summary'>\n",
       "\"\"\"\n",
       "                            OLS Regression Results                            \n",
       "==============================================================================\n",
       "Dep. Variable:                  Sales   R-squared:                       0.004\n",
       "Model:                            OLS   Adj. R-squared:                  0.002\n",
       "Method:                 Least Squares   F-statistic:                     1.641\n",
       "Date:                Sun, 21 May 2023   Prob (F-statistic):              0.201\n",
       "Time:                        10:32:35   Log-Likelihood:                -981.53\n",
       "No. Observations:                 400   AIC:                             1967.\n",
       "Df Residuals:                     398   BIC:                             1975.\n",
       "Df Model:                           1                                         \n",
       "Covariance Type:            nonrobust                                         \n",
       "==============================================================================\n",
       "                 coef    std err          t      P>|t|      [0.025      0.975]\n",
       "------------------------------------------------------------------------------\n",
       "Intercept      6.0215      1.160      5.191      0.000       3.741       8.302\n",
       "CompPrice      0.0118      0.009      1.281      0.201      -0.006       0.030\n",
       "==============================================================================\n",
       "Omnibus:                        2.567   Durbin-Watson:                   1.904\n",
       "Prob(Omnibus):                  0.277   Jarque-Bera (JB):                2.625\n",
       "Skew:                           0.191   Prob(JB):                        0.269\n",
       "Kurtosis:                       2.892   Cond. No.                     1.04e+03\n",
       "==============================================================================\n",
       "\n",
       "Notes:\n",
       "[1] Standard Errors assume that the covariance matrix of the errors is correctly specified.\n",
       "[2] The condition number is large, 1.04e+03. This might indicate that there are\n",
       "strong multicollinearity or other numerical problems.\n",
       "\"\"\""
      ]
     },
     "execution_count": 46,
     "metadata": {},
     "output_type": "execute_result"
    }
   ],
   "source": [
    "# model liniowy nie działa (na podstawie parametró podsumowania)\n",
    "\n",
    "model = smf.ols('Sales~CompPrice', data=carseats_df)\n",
    "fitted_model = model.fit()\n",
    "fitted_model.summary()"
   ]
  },
  {
   "cell_type": "code",
   "execution_count": 48,
   "metadata": {
    "ExecuteTime": {
     "end_time": "2023-05-21T08:32:50.602407Z",
     "start_time": "2023-05-21T08:32:50.453022Z"
    }
   },
   "outputs": [
    {
     "name": "stdout",
     "output_type": "stream",
     "text": [
      "0.06407872955062155\n"
     ]
    },
    {
     "data": {
      "image/png": "[encoded data removed]",
      "text/plain": [
       "<Figure size 432x288 with 1 Axes>"
      ]
     },
     "metadata": {
      "needs_background": "light"
     },
     "output_type": "display_data"
    }
   ],
   "source": [
    "print(carseats_df.CompPrice.corr(carseats_df.Sales))\n",
    "plt.scatter(carseats_df.CompPrice, carseats_df.Sales)\n",
    "\n",
    "#plt.plot(carseats_df.Price, fitted_model.predict(carseats_df.CompPrice), color='red')\n",
    "plt.plot(carseats_df.CompPrice, fitted_model.params[1] * carseats_df.CompPrice + fitted_model.params[0], color='orange')\n",
    "\n",
    "plt.show()"
   ]
  },
  {
   "cell_type": "markdown",
   "metadata": {
    "id": "x1V-_XBVWEKb"
   },
   "source": [
    "# Przekształcanie zmiennej objaśniającej"
   ]
  },
  {
   "cell_type": "markdown",
   "metadata": {
    "id": "JgWF6PE1WEKc"
   },
   "source": [
    "# Zadanie 2\n",
    "Wczytaj dane `pollution.csv` (opis danych: https://www.rdocumentation.org/packages/SMPracticals/versions/1.4-3/topics/pollution). Dopasuj model regresji liniowej postaci: `mort~nox`. Czy model jest dobrze dopasowany do danych? Jeżeli nie, dlaczego?"
   ]
  },
  {
   "cell_type": "code",
   "execution_count": 37,
   "metadata": {
    "ExecuteTime": {
     "end_time": "2023-05-21T08:18:49.107056Z",
     "start_time": "2023-05-21T08:18:49.080127Z"
    },
    "id": "gtvWfRM8XlYB"
   },
   "outputs": [
    {
     "data": {
      "text/html": [
       "<div>\n",
       "<style scoped>\n",
       "    .dataframe tbody tr th:only-of-type {\n",
       "        vertical-align: middle;\n",
       "    }\n",
       "\n",
       "    .dataframe tbody tr th {\n",
       "        vertical-align: top;\n",
       "    }\n",
       "\n",
       "    .dataframe thead th {\n",
       "        text-align: right;\n",
       "    }\n",
       "</style>\n",
       "<table border=\"1\" class=\"dataframe\">\n",
       "  <thead>\n",
       "    <tr style=\"text-align: right;\">\n",
       "      <th></th>\n",
       "      <th>prec</th>\n",
       "      <th>jant</th>\n",
       "      <th>jult</th>\n",
       "      <th>ovr95</th>\n",
       "      <th>popn</th>\n",
       "      <th>educ</th>\n",
       "      <th>hous</th>\n",
       "      <th>dens</th>\n",
       "      <th>nonw</th>\n",
       "      <th>wwdrk</th>\n",
       "      <th>poor</th>\n",
       "      <th>hc</th>\n",
       "      <th>nox</th>\n",
       "      <th>so</th>\n",
       "      <th>humid</th>\n",
       "      <th>mort</th>\n",
       "    </tr>\n",
       "  </thead>\n",
       "  <tbody>\n",
       "    <tr>\n",
       "      <th>0</th>\n",
       "      <td>36</td>\n",
       "      <td>27</td>\n",
       "      <td>71</td>\n",
       "      <td>8.1</td>\n",
       "      <td>3.34</td>\n",
       "      <td>11.4</td>\n",
       "      <td>81.5</td>\n",
       "      <td>3243</td>\n",
       "      <td>8.8</td>\n",
       "      <td>42.6</td>\n",
       "      <td>11.7</td>\n",
       "      <td>21</td>\n",
       "      <td>15</td>\n",
       "      <td>59</td>\n",
       "      <td>59</td>\n",
       "      <td>921.870</td>\n",
       "    </tr>\n",
       "    <tr>\n",
       "      <th>1</th>\n",
       "      <td>35</td>\n",
       "      <td>23</td>\n",
       "      <td>72</td>\n",
       "      <td>11.1</td>\n",
       "      <td>3.14</td>\n",
       "      <td>11.0</td>\n",
       "      <td>78.8</td>\n",
       "      <td>4281</td>\n",
       "      <td>3.5</td>\n",
       "      <td>50.7</td>\n",
       "      <td>14.4</td>\n",
       "      <td>8</td>\n",
       "      <td>10</td>\n",
       "      <td>39</td>\n",
       "      <td>57</td>\n",
       "      <td>997.875</td>\n",
       "    </tr>\n",
       "    <tr>\n",
       "      <th>2</th>\n",
       "      <td>44</td>\n",
       "      <td>29</td>\n",
       "      <td>74</td>\n",
       "      <td>10.4</td>\n",
       "      <td>3.21</td>\n",
       "      <td>9.8</td>\n",
       "      <td>81.6</td>\n",
       "      <td>4260</td>\n",
       "      <td>0.8</td>\n",
       "      <td>39.4</td>\n",
       "      <td>12.4</td>\n",
       "      <td>6</td>\n",
       "      <td>6</td>\n",
       "      <td>33</td>\n",
       "      <td>54</td>\n",
       "      <td>962.354</td>\n",
       "    </tr>\n",
       "    <tr>\n",
       "      <th>3</th>\n",
       "      <td>47</td>\n",
       "      <td>45</td>\n",
       "      <td>79</td>\n",
       "      <td>6.5</td>\n",
       "      <td>3.41</td>\n",
       "      <td>11.1</td>\n",
       "      <td>77.5</td>\n",
       "      <td>3125</td>\n",
       "      <td>27.1</td>\n",
       "      <td>50.2</td>\n",
       "      <td>20.6</td>\n",
       "      <td>18</td>\n",
       "      <td>8</td>\n",
       "      <td>24</td>\n",
       "      <td>56</td>\n",
       "      <td>982.291</td>\n",
       "    </tr>\n",
       "    <tr>\n",
       "      <th>4</th>\n",
       "      <td>43</td>\n",
       "      <td>35</td>\n",
       "      <td>77</td>\n",
       "      <td>7.6</td>\n",
       "      <td>3.44</td>\n",
       "      <td>9.6</td>\n",
       "      <td>84.6</td>\n",
       "      <td>6441</td>\n",
       "      <td>24.4</td>\n",
       "      <td>43.7</td>\n",
       "      <td>14.3</td>\n",
       "      <td>43</td>\n",
       "      <td>38</td>\n",
       "      <td>206</td>\n",
       "      <td>55</td>\n",
       "      <td>1071.289</td>\n",
       "    </tr>\n",
       "  </tbody>\n",
       "</table>\n",
       "</div>"
      ],
      "text/plain": [
       "   prec  jant  jult  ovr95  popn  educ  hous  dens  nonw  wwdrk  poor  hc  \\\n",
       "0    36    27    71    8.1  3.34  11.4  81.5  3243   8.8   42.6  11.7  21   \n",
       "1    35    23    72   11.1  3.14  11.0  78.8  4281   3.5   50.7  14.4   8   \n",
       "2    44    29    74   10.4  3.21   9.8  81.6  4260   0.8   39.4  12.4   6   \n",
       "3    47    45    79    6.5  3.41  11.1  77.5  3125  27.1   50.2  20.6  18   \n",
       "4    43    35    77    7.6  3.44   9.6  84.6  6441  24.4   43.7  14.3  43   \n",
       "\n",
       "   nox   so  humid      mort  \n",
       "0   15   59     59   921.870  \n",
       "1   10   39     57   997.875  \n",
       "2    6   33     54   962.354  \n",
       "3    8   24     56   982.291  \n",
       "4   38  206     55  1071.289  "
      ]
     },
     "execution_count": 37,
     "metadata": {},
     "output_type": "execute_result"
    }
   ],
   "source": [
    "# #https://www.rdocumentation.org/packages/SMPracticals/versions/1.4-3/topics/pollution\n",
    "pollution = pd.read_csv(\"../../data/pollution.csv\")\n",
    "\n",
    "pollution.head()"
   ]
  },
  {
   "cell_type": "code",
   "execution_count": 41,
   "metadata": {
    "ExecuteTime": {
     "end_time": "2023-05-21T08:23:03.549235Z",
     "start_time": "2023-05-21T08:23:03.519939Z"
    },
    "id": "bBLb3etoPMJE",
    "scrolled": true
   },
   "outputs": [
    {
     "data": {
      "text/html": [
       "<table class=\"simpletable\">\n",
       "<caption>OLS Regression Results</caption>\n",
       "<tr>\n",
       "  <th>Dep. Variable:</th>          <td>mort</td>       <th>  R-squared:         </th> <td>   0.006</td>\n",
       "</tr>\n",
       "<tr>\n",
       "  <th>Model:</th>                   <td>OLS</td>       <th>  Adj. R-squared:    </th> <td>  -0.011</td>\n",
       "</tr>\n",
       "<tr>\n",
       "  <th>Method:</th>             <td>Least Squares</td>  <th>  F-statistic:       </th> <td>  0.3494</td>\n",
       "</tr>\n",
       "<tr>\n",
       "  <th>Date:</th>             <td>Sun, 21 May 2023</td> <th>  Prob (F-statistic):</th>  <td> 0.557</td> \n",
       "</tr>\n",
       "<tr>\n",
       "  <th>Time:</th>                 <td>10:23:03</td>     <th>  Log-Likelihood:    </th> <td> -332.28</td>\n",
       "</tr>\n",
       "<tr>\n",
       "  <th>No. Observations:</th>      <td>    60</td>      <th>  AIC:               </th> <td>   668.6</td>\n",
       "</tr>\n",
       "<tr>\n",
       "  <th>Df Residuals:</th>          <td>    58</td>      <th>  BIC:               </th> <td>   672.7</td>\n",
       "</tr>\n",
       "<tr>\n",
       "  <th>Df Model:</th>              <td>     1</td>      <th>                     </th>     <td> </td>   \n",
       "</tr>\n",
       "<tr>\n",
       "  <th>Covariance Type:</th>      <td>nonrobust</td>    <th>                     </th>     <td> </td>   \n",
       "</tr>\n",
       "</table>\n",
       "<table class=\"simpletable\">\n",
       "<tr>\n",
       "      <td></td>         <th>coef</th>     <th>std err</th>      <th>t</th>      <th>P>|t|</th>  <th>[0.025</th>    <th>0.975]</th>  \n",
       "</tr>\n",
       "<tr>\n",
       "  <th>Intercept</th> <td>  942.7115</td> <td>    9.003</td> <td>  104.706</td> <td> 0.000</td> <td>  924.689</td> <td>  960.734</td>\n",
       "</tr>\n",
       "<tr>\n",
       "  <th>nox</th>       <td>   -0.1039</td> <td>    0.176</td> <td>   -0.591</td> <td> 0.557</td> <td>   -0.456</td> <td>    0.248</td>\n",
       "</tr>\n",
       "</table>\n",
       "<table class=\"simpletable\">\n",
       "<tr>\n",
       "  <th>Omnibus:</th>       <td> 0.438</td> <th>  Durbin-Watson:     </th> <td>   1.786</td>\n",
       "</tr>\n",
       "<tr>\n",
       "  <th>Prob(Omnibus):</th> <td> 0.803</td> <th>  Jarque-Bera (JB):  </th> <td>   0.148</td>\n",
       "</tr>\n",
       "<tr>\n",
       "  <th>Skew:</th>          <td> 0.115</td> <th>  Prob(JB):          </th> <td>   0.929</td>\n",
       "</tr>\n",
       "<tr>\n",
       "  <th>Kurtosis:</th>      <td> 3.079</td> <th>  Cond. No.          </th> <td>    57.1</td>\n",
       "</tr>\n",
       "</table><br/><br/>Notes:<br/>[1] Standard Errors assume that the covariance matrix of the errors is correctly specified."
      ],
      "text/plain": [
       "<class 'statsmodels.iolib.summary.Summary'>\n",
       "\"\"\"\n",
       "                            OLS Regression Results                            \n",
       "==============================================================================\n",
       "Dep. Variable:                   mort   R-squared:                       0.006\n",
       "Model:                            OLS   Adj. R-squared:                 -0.011\n",
       "Method:                 Least Squares   F-statistic:                    0.3494\n",
       "Date:                Sun, 21 May 2023   Prob (F-statistic):              0.557\n",
       "Time:                        10:23:03   Log-Likelihood:                -332.28\n",
       "No. Observations:                  60   AIC:                             668.6\n",
       "Df Residuals:                      58   BIC:                             672.7\n",
       "Df Model:                           1                                         \n",
       "Covariance Type:            nonrobust                                         \n",
       "==============================================================================\n",
       "                 coef    std err          t      P>|t|      [0.025      0.975]\n",
       "------------------------------------------------------------------------------\n",
       "Intercept    942.7115      9.003    104.706      0.000     924.689     960.734\n",
       "nox           -0.1039      0.176     -0.591      0.557      -0.456       0.248\n",
       "==============================================================================\n",
       "Omnibus:                        0.438   Durbin-Watson:                   1.786\n",
       "Prob(Omnibus):                  0.803   Jarque-Bera (JB):                0.148\n",
       "Skew:                           0.115   Prob(JB):                        0.929\n",
       "Kurtosis:                       3.079   Cond. No.                         57.1\n",
       "==============================================================================\n",
       "\n",
       "Notes:\n",
       "[1] Standard Errors assume that the covariance matrix of the errors is correctly specified.\n",
       "\"\"\""
      ]
     },
     "execution_count": 41,
     "metadata": {},
     "output_type": "execute_result"
    }
   ],
   "source": [
    "model = smf.ols('mort~nox', data=pollution)\n",
    "fitted_model = model.fit()\n",
    "fitted_model.summary()"
   ]
  },
  {
   "cell_type": "code",
   "execution_count": 42,
   "metadata": {
    "ExecuteTime": {
     "end_time": "2023-05-21T08:23:55.347277Z",
     "start_time": "2023-05-21T08:23:55.213958Z"
    },
    "scrolled": true
   },
   "outputs": [
    {
     "data": {
      "image/png": "[encoded data removed]",
      "text/plain": [
       "<Figure size 432x288 with 1 Axes>"
      ]
     },
     "metadata": {
      "needs_background": "light"
     },
     "output_type": "display_data"
    }
   ],
   "source": [
    "pollution.nox.corr(pollution.mort)\n",
    "\n",
    "plt.scatter(pollution.nox, pollution.mort)\n",
    "plt.plot(pollution.nox, fitted_model.predict(pollution.nox), color='red')\n",
    "\n",
    "plt.show()"
   ]
  },
  {
   "cell_type": "code",
   "execution_count": 44,
   "metadata": {
    "ExecuteTime": {
     "end_time": "2023-05-21T08:29:28.036446Z",
     "start_time": "2023-05-21T08:29:28.012787Z"
    },
    "scrolled": true
   },
   "outputs": [
    {
     "data": {
      "text/html": [
       "<table class=\"simpletable\">\n",
       "<caption>OLS Regression Results</caption>\n",
       "<tr>\n",
       "  <th>Dep. Variable:</th>          <td>mort</td>       <th>  R-squared:         </th> <td>   0.085</td>\n",
       "</tr>\n",
       "<tr>\n",
       "  <th>Model:</th>                   <td>OLS</td>       <th>  Adj. R-squared:    </th> <td>   0.069</td>\n",
       "</tr>\n",
       "<tr>\n",
       "  <th>Method:</th>             <td>Least Squares</td>  <th>  F-statistic:       </th> <td>   5.406</td>\n",
       "</tr>\n",
       "<tr>\n",
       "  <th>Date:</th>             <td>Sun, 21 May 2023</td> <th>  Prob (F-statistic):</th>  <td>0.0236</td> \n",
       "</tr>\n",
       "<tr>\n",
       "  <th>Time:</th>                 <td>10:29:28</td>     <th>  Log-Likelihood:    </th> <td> -329.79</td>\n",
       "</tr>\n",
       "<tr>\n",
       "  <th>No. Observations:</th>      <td>    60</td>      <th>  AIC:               </th> <td>   663.6</td>\n",
       "</tr>\n",
       "<tr>\n",
       "  <th>Df Residuals:</th>          <td>    58</td>      <th>  BIC:               </th> <td>   667.8</td>\n",
       "</tr>\n",
       "<tr>\n",
       "  <th>Df Model:</th>              <td>     1</td>      <th>                     </th>     <td> </td>   \n",
       "</tr>\n",
       "<tr>\n",
       "  <th>Covariance Type:</th>      <td>nonrobust</td>    <th>                     </th>     <td> </td>   \n",
       "</tr>\n",
       "</table>\n",
       "<table class=\"simpletable\">\n",
       "<tr>\n",
       "       <td></td>          <th>coef</th>     <th>std err</th>      <th>t</th>      <th>P>|t|</th>  <th>[0.025</th>    <th>0.975]</th>  \n",
       "</tr>\n",
       "<tr>\n",
       "  <th>Intercept</th>   <td>  904.7245</td> <td>   17.173</td> <td>   52.684</td> <td> 0.000</td> <td>  870.350</td> <td>  939.099</td>\n",
       "</tr>\n",
       "<tr>\n",
       "  <th>np.log(nox)</th> <td>   15.3355</td> <td>    6.596</td> <td>    2.325</td> <td> 0.024</td> <td>    2.133</td> <td>   28.538</td>\n",
       "</tr>\n",
       "</table>\n",
       "<table class=\"simpletable\">\n",
       "<tr>\n",
       "  <th>Omnibus:</th>       <td> 3.073</td> <th>  Durbin-Watson:     </th> <td>   1.589</td>\n",
       "</tr>\n",
       "<tr>\n",
       "  <th>Prob(Omnibus):</th> <td> 0.215</td> <th>  Jarque-Bera (JB):  </th> <td>   2.270</td>\n",
       "</tr>\n",
       "<tr>\n",
       "  <th>Skew:</th>          <td>-0.285</td> <th>  Prob(JB):          </th> <td>   0.321</td>\n",
       "</tr>\n",
       "<tr>\n",
       "  <th>Kurtosis:</th>      <td> 3.764</td> <th>  Cond. No.          </th> <td>    6.47</td>\n",
       "</tr>\n",
       "</table><br/><br/>Notes:<br/>[1] Standard Errors assume that the covariance matrix of the errors is correctly specified."
      ],
      "text/plain": [
       "<class 'statsmodels.iolib.summary.Summary'>\n",
       "\"\"\"\n",
       "                            OLS Regression Results                            \n",
       "==============================================================================\n",
       "Dep. Variable:                   mort   R-squared:                       0.085\n",
       "Model:                            OLS   Adj. R-squared:                  0.069\n",
       "Method:                 Least Squares   F-statistic:                     5.406\n",
       "Date:                Sun, 21 May 2023   Prob (F-statistic):             0.0236\n",
       "Time:                        10:29:28   Log-Likelihood:                -329.79\n",
       "No. Observations:                  60   AIC:                             663.6\n",
       "Df Residuals:                      58   BIC:                             667.8\n",
       "Df Model:                           1                                         \n",
       "Covariance Type:            nonrobust                                         \n",
       "===============================================================================\n",
       "                  coef    std err          t      P>|t|      [0.025      0.975]\n",
       "-------------------------------------------------------------------------------\n",
       "Intercept     904.7245     17.173     52.684      0.000     870.350     939.099\n",
       "np.log(nox)    15.3355      6.596      2.325      0.024       2.133      28.538\n",
       "==============================================================================\n",
       "Omnibus:                        3.073   Durbin-Watson:                   1.589\n",
       "Prob(Omnibus):                  0.215   Jarque-Bera (JB):                2.270\n",
       "Skew:                          -0.285   Prob(JB):                        0.321\n",
       "Kurtosis:                       3.764   Cond. No.                         6.47\n",
       "==============================================================================\n",
       "\n",
       "Notes:\n",
       "[1] Standard Errors assume that the covariance matrix of the errors is correctly specified.\n",
       "\"\"\""
      ]
     },
     "execution_count": 44,
     "metadata": {},
     "output_type": "execute_result"
    }
   ],
   "source": [
    "# linearyzacja modelu (skalowanie zmiennych, aby zmniejszyć znaczenie wartości odstających, ale znaczących!)\n",
    "\n",
    "model = smf.ols('mort~np.log(nox)', data=pollution)\n",
    "fitted_model = model.fit()\n",
    "fitted_model.summary()"
   ]
  },
  {
   "cell_type": "code",
   "execution_count": null,
   "metadata": {},
   "outputs": [],
   "source": [
    "plt.scatter(np.log(pollution.nox), pollution.mort)\n",
    "plt.plot(np.log(pollution.nox), fitted_model.predict(pollution.nox), color='red')\n",
    "\n",
    "plt.show()"
   ]
  },
  {
   "cell_type": "markdown",
   "metadata": {
    "id": "frVr7ocXWEKd"
   },
   "source": [
    "### Metoda Boxa-Coxa\n",
    "\n",
    "Metoda Boxa-Coxa jest popularnym rozwiązaniem stosowanym do przekształcenia zmiennej. Ważnym założeniem metody jest dodatniość wszystkich wartość.\n",
    "Metoda przekształca zmienną $z>0 \\to t_{\\lambda}(z)$, gdzie \n",
    "$$\n",
    "    t_{\\lambda}(z)=\\left.\n",
    "    \\begin{cases}\n",
    "    \\frac{z^{\\lambda}-1}{\\lambda} \\quad &\\text{dla} \\quad \\lambda\\neq 0\\\\\n",
    "    \\log(z) \\quad &\\text{dla} \\quad \\lambda= 0.\n",
    "    \\end{cases}\\right.\n",
    "$$\n",
    "\n",
    "Wybór $\\lambda$ odbywa się na podstawie metody największej wiarogodności. Funkcja wiarogodności zakłada normalność błędów i ma następującą postać:\n",
    "$$\n",
    "L(\\lambda)=-\\frac{n}{2}\\log\\Big(\\frac{\\text{RRS}_{\\lambda}}{n}\\Big) + (\\lambda-1)\\sum\\log y_i,\n",
    "$$\n",
    "gdzie $\\text{RRS}_{\\lambda}$, to $\\text{RRS}$ dla odpowiedzi $t_{\\lambda}(z)$."
   ]
  },
  {
   "cell_type": "markdown",
   "metadata": {
    "id": "qf4kfWuYWEKe"
   },
   "source": [
    "## Zadanie 2.1\n",
    "Znajdź najlepszy parametr $\\lambda$ dla przekształcenia zmiennej niezależnej `nox`, przekształć zmienną zgodnie z uzyskaną wartością i dopasuj model prostej regresji liniowej."
   ]
  },
  {
   "cell_type": "code",
   "execution_count": 49,
   "metadata": {
    "ExecuteTime": {
     "end_time": "2023-05-21T08:34:40.865363Z",
     "start_time": "2023-05-21T08:34:40.853493Z"
    },
    "id": "oTP_4AhL87hi"
   },
   "outputs": [
    {
     "data": {
      "text/plain": [
       "(array([2.37212004, 2.05654847, 1.64030605, 1.87733603, 3.04902336,\n",
       "        2.92857684, 2.92857684, 1.29442924, 2.20003388, 1.76816378,\n",
       "        1.87733603, 3.39157611, 2.78025577, 2.6244457 , 1.97242926,\n",
       "        0.        , 1.29442924, 1.87733603, 2.99164269, 1.29442924,\n",
       "        0.        , 1.04037372, 1.04037372, 1.04037372, 1.48651427,\n",
       "        1.76816378, 1.29442924, 1.76816378, 4.38064428, 3.03046762,\n",
       "        2.50989984, 0.        , 2.69122027, 2.13188324, 2.31932321,\n",
       "        1.04037372, 2.46697562, 2.78025577, 2.92857684, 3.34810063,\n",
       "        2.6244457 , 1.29442924, 2.13188324, 1.97242926, 1.29442924,\n",
       "        2.37212004, 3.42223536, 4.01930866, 2.92857684, 1.76816378,\n",
       "        1.29442924, 1.48651427, 1.76816378, 0.66965304, 2.83354667,\n",
       "        0.66965304, 2.13188324, 1.04037372, 1.87733603, 2.2622045 ]),\n",
       " -0.10007430172722796)"
      ]
     },
     "execution_count": 49,
     "metadata": {},
     "output_type": "execute_result"
    }
   ],
   "source": [
    "nox_boxcox = stats.boxcox(pollution['nox'])  # zmienna objaśniana 'mort' jest w ostatniej kolumnie (domyślnie!)\n",
    "nox_boxcox  # przeskalowane zmienna + parametr przekształcenia 'lambda'"
   ]
  },
  {
   "cell_type": "code",
   "execution_count": 50,
   "metadata": {
    "ExecuteTime": {
     "end_time": "2023-05-21T08:41:37.528199Z",
     "start_time": "2023-05-21T08:41:37.504811Z"
    },
    "id": "IIUILPs189-K"
   },
   "outputs": [
    {
     "data": {
      "text/html": [
       "<table class=\"simpletable\">\n",
       "<caption>OLS Regression Results</caption>\n",
       "<tr>\n",
       "  <th>Dep. Variable:</th>          <td>mort</td>       <th>  R-squared:         </th> <td>   0.105</td>\n",
       "</tr>\n",
       "<tr>\n",
       "  <th>Model:</th>                   <td>OLS</td>       <th>  Adj. R-squared:    </th> <td>   0.089</td>\n",
       "</tr>\n",
       "<tr>\n",
       "  <th>Method:</th>             <td>Least Squares</td>  <th>  F-statistic:       </th> <td>   6.795</td>\n",
       "</tr>\n",
       "<tr>\n",
       "  <th>Date:</th>             <td>Sun, 21 May 2023</td> <th>  Prob (F-statistic):</th>  <td>0.0116</td> \n",
       "</tr>\n",
       "<tr>\n",
       "  <th>Time:</th>                 <td>10:41:37</td>     <th>  Log-Likelihood:    </th> <td> -329.14</td>\n",
       "</tr>\n",
       "<tr>\n",
       "  <th>No. Observations:</th>      <td>    60</td>      <th>  AIC:               </th> <td>   662.3</td>\n",
       "</tr>\n",
       "<tr>\n",
       "  <th>Df Residuals:</th>          <td>    58</td>      <th>  BIC:               </th> <td>   666.5</td>\n",
       "</tr>\n",
       "<tr>\n",
       "  <th>Df Model:</th>              <td>     1</td>      <th>                     </th>     <td> </td>   \n",
       "</tr>\n",
       "<tr>\n",
       "  <th>Covariance Type:</th>      <td>nonrobust</td>    <th>                     </th>     <td> </td>   \n",
       "</tr>\n",
       "</table>\n",
       "<table class=\"simpletable\">\n",
       "<tr>\n",
       "    <td></td>       <th>coef</th>     <th>std err</th>      <th>t</th>      <th>P>|t|</th>  <th>[0.025</th>    <th>0.975]</th>  \n",
       "</tr>\n",
       "<tr>\n",
       "  <th>const</th> <td>  896.5674</td> <td>   18.464</td> <td>   48.557</td> <td> 0.000</td> <td>  859.607</td> <td>  933.528</td>\n",
       "</tr>\n",
       "<tr>\n",
       "  <th>x1</th>    <td>   21.6882</td> <td>    8.320</td> <td>    2.607</td> <td> 0.012</td> <td>    5.034</td> <td>   38.343</td>\n",
       "</tr>\n",
       "</table>\n",
       "<table class=\"simpletable\">\n",
       "<tr>\n",
       "  <th>Omnibus:</th>       <td> 3.827</td> <th>  Durbin-Watson:     </th> <td>   1.570</td>\n",
       "</tr>\n",
       "<tr>\n",
       "  <th>Prob(Omnibus):</th> <td> 0.148</td> <th>  Jarque-Bera (JB):  </th> <td>   3.100</td>\n",
       "</tr>\n",
       "<tr>\n",
       "  <th>Skew:</th>          <td>-0.334</td> <th>  Prob(JB):          </th> <td>   0.212</td>\n",
       "</tr>\n",
       "<tr>\n",
       "  <th>Kurtosis:</th>      <td> 3.892</td> <th>  Cond. No.          </th> <td>    6.27</td>\n",
       "</tr>\n",
       "</table><br/><br/>Notes:<br/>[1] Standard Errors assume that the covariance matrix of the errors is correctly specified."
      ],
      "text/plain": [
       "<class 'statsmodels.iolib.summary.Summary'>\n",
       "\"\"\"\n",
       "                            OLS Regression Results                            \n",
       "==============================================================================\n",
       "Dep. Variable:                   mort   R-squared:                       0.105\n",
       "Model:                            OLS   Adj. R-squared:                  0.089\n",
       "Method:                 Least Squares   F-statistic:                     6.795\n",
       "Date:                Sun, 21 May 2023   Prob (F-statistic):             0.0116\n",
       "Time:                        10:41:37   Log-Likelihood:                -329.14\n",
       "No. Observations:                  60   AIC:                             662.3\n",
       "Df Residuals:                      58   BIC:                             666.5\n",
       "Df Model:                           1                                         \n",
       "Covariance Type:            nonrobust                                         \n",
       "==============================================================================\n",
       "                 coef    std err          t      P>|t|      [0.025      0.975]\n",
       "------------------------------------------------------------------------------\n",
       "const        896.5674     18.464     48.557      0.000     859.607     933.528\n",
       "x1            21.6882      8.320      2.607      0.012       5.034      38.343\n",
       "==============================================================================\n",
       "Omnibus:                        3.827   Durbin-Watson:                   1.570\n",
       "Prob(Omnibus):                  0.148   Jarque-Bera (JB):                3.100\n",
       "Skew:                          -0.334   Prob(JB):                        0.212\n",
       "Kurtosis:                       3.892   Cond. No.                         6.27\n",
       "==============================================================================\n",
       "\n",
       "Notes:\n",
       "[1] Standard Errors assume that the covariance matrix of the errors is correctly specified.\n",
       "\"\"\""
      ]
     },
     "execution_count": 50,
     "metadata": {},
     "output_type": "execute_result"
    }
   ],
   "source": [
    "X = sm.add_constant(nox_boxcox[0], prepend=True, has_constant='add')  # dodanie kolumny jedynek (b0)\n",
    "Y = pollution['mort']\n",
    "\n",
    "m_boxcox = sm.OLS(endog = Y, exog = X).fit()\n",
    "m_boxcox.summary()"
   ]
  },
  {
   "cell_type": "code",
   "execution_count": 53,
   "metadata": {
    "ExecuteTime": {
     "end_time": "2023-05-21T08:43:34.411201Z",
     "start_time": "2023-05-21T08:43:34.246004Z"
    },
    "id": "2-xpocA-9CMO"
   },
   "outputs": [
    {
     "data": {
      "image/png": "[encoded data removed]",
      "text/plain": [
       "<Figure size 432x288 with 1 Axes>"
      ]
     },
     "metadata": {
      "needs_background": "light"
     },
     "output_type": "display_data"
    }
   ],
   "source": [
    "sns.scatterplot(x=nox_boxcox[0], y=Y)\n",
    "plt.plot(nox_boxcox[0], m_boxcox.params[1] * nox_boxcox[0] + m_boxcox.params[0], c='red')\n",
    "\n",
    "plt.show()"
   ]
  },
  {
   "cell_type": "markdown",
   "metadata": {
    "id": "4ZKou2S4WEKf"
   },
   "source": [
    "### Metoda Yeo-Johnsona\n",
    "Co w przypadku, gdy zmienna losowa, która chcielibyśmy przekształcić byłaby niedodatnia?\n",
    "\n",
    "$$\n",
    "    t_{\\lambda}(z)=\\left.\n",
    "    \\begin{cases}\n",
    "    \\frac{(y+1)^{\\lambda} -1}{\\lambda} \\quad &\\text{dla} \\quad \\lambda\\neq 0, y\\geq 0,\\\\\n",
    "    \\log(y+1) \\quad &\\text{dla} \\quad \\lambda= 0, y\\geq0,\\\\\n",
    "    -\\frac{(-y+1)^{2-\\lambda}-1}{2-\\lambda} \\quad &\\text{dla} \\quad \\lambda\\neq 2, y<0,\\\\\n",
    "    -\\log(-y+1) \\quad &\\text{dla} \\quad \\lambda= 2, y<0.\n",
    "    \\end{cases}\\right.\n",
    "$$"
   ]
  },
  {
   "cell_type": "code",
   "execution_count": null,
   "metadata": {
    "id": "5FX4-DjoWEKg"
   },
   "outputs": [],
   "source": [
    "# ?stats.yeojohnson"
   ]
  },
  {
   "cell_type": "markdown",
   "metadata": {
    "id": "4hiPX1rxWEKg"
   },
   "source": [
    "# Zmienne kategoryczne"
   ]
  },
  {
   "cell_type": "markdown",
   "metadata": {
    "id": "GCj79j2bWEKg"
   },
   "source": [
    "# Zadanie 3\n",
    "Wczytaj dane `Salaries` z pakieru `carData` i dopasuj model `salary ~ sex`. Zwróć uwagę na kodowanie zmiennej `sex`. "
   ]
  },
  {
   "cell_type": "code",
   "execution_count": 54,
   "metadata": {
    "ExecuteTime": {
     "end_time": "2023-05-21T08:45:59.650449Z",
     "start_time": "2023-05-21T08:45:57.458651Z"
    },
    "id": "B_BDklUF9LlK"
   },
   "outputs": [
    {
     "data": {
      "text/html": [
       "<div>\n",
       "<style scoped>\n",
       "    .dataframe tbody tr th:only-of-type {\n",
       "        vertical-align: middle;\n",
       "    }\n",
       "\n",
       "    .dataframe tbody tr th {\n",
       "        vertical-align: top;\n",
       "    }\n",
       "\n",
       "    .dataframe thead th {\n",
       "        text-align: right;\n",
       "    }\n",
       "</style>\n",
       "<table border=\"1\" class=\"dataframe\">\n",
       "  <thead>\n",
       "    <tr style=\"text-align: right;\">\n",
       "      <th></th>\n",
       "      <th>rank</th>\n",
       "      <th>discipline</th>\n",
       "      <th>yrs.since.phd</th>\n",
       "      <th>yrs.service</th>\n",
       "      <th>sex</th>\n",
       "      <th>salary</th>\n",
       "    </tr>\n",
       "  </thead>\n",
       "  <tbody>\n",
       "    <tr>\n",
       "      <th>0</th>\n",
       "      <td>Prof</td>\n",
       "      <td>B</td>\n",
       "      <td>19</td>\n",
       "      <td>18</td>\n",
       "      <td>Male</td>\n",
       "      <td>139750</td>\n",
       "    </tr>\n",
       "    <tr>\n",
       "      <th>1</th>\n",
       "      <td>Prof</td>\n",
       "      <td>B</td>\n",
       "      <td>20</td>\n",
       "      <td>16</td>\n",
       "      <td>Male</td>\n",
       "      <td>173200</td>\n",
       "    </tr>\n",
       "    <tr>\n",
       "      <th>2</th>\n",
       "      <td>AsstProf</td>\n",
       "      <td>B</td>\n",
       "      <td>4</td>\n",
       "      <td>3</td>\n",
       "      <td>Male</td>\n",
       "      <td>79750</td>\n",
       "    </tr>\n",
       "    <tr>\n",
       "      <th>3</th>\n",
       "      <td>Prof</td>\n",
       "      <td>B</td>\n",
       "      <td>45</td>\n",
       "      <td>39</td>\n",
       "      <td>Male</td>\n",
       "      <td>115000</td>\n",
       "    </tr>\n",
       "    <tr>\n",
       "      <th>4</th>\n",
       "      <td>Prof</td>\n",
       "      <td>B</td>\n",
       "      <td>40</td>\n",
       "      <td>41</td>\n",
       "      <td>Male</td>\n",
       "      <td>141500</td>\n",
       "    </tr>\n",
       "  </tbody>\n",
       "</table>\n",
       "</div>"
      ],
      "text/plain": [
       "       rank discipline  yrs.since.phd  yrs.service   sex  salary\n",
       "0      Prof          B             19           18  Male  139750\n",
       "1      Prof          B             20           16  Male  173200\n",
       "2  AsstProf          B              4            3  Male   79750\n",
       "3      Prof          B             45           39  Male  115000\n",
       "4      Prof          B             40           41  Male  141500"
      ]
     },
     "execution_count": 54,
     "metadata": {},
     "output_type": "execute_result"
    }
   ],
   "source": [
    "# # http://www.sthda.com/english/articles/40-regression-analysis/163-regression-with-categorical-variables-dummy-coding-essentials-in-r/\n",
    "salaries = sm.datasets.get_rdataset(dataname=\"Salaries\", package=\"carData\")\n",
    "salaries.data.head()"
   ]
  },
  {
   "cell_type": "code",
   "execution_count": 55,
   "metadata": {
    "ExecuteTime": {
     "end_time": "2023-05-21T08:46:55.710905Z",
     "start_time": "2023-05-21T08:46:55.692779Z"
    },
    "id": "VZ2bE2w_9NeK"
   },
   "outputs": [
    {
     "data": {
      "text/html": [
       "<div>\n",
       "<style scoped>\n",
       "    .dataframe tbody tr th:only-of-type {\n",
       "        vertical-align: middle;\n",
       "    }\n",
       "\n",
       "    .dataframe tbody tr th {\n",
       "        vertical-align: top;\n",
       "    }\n",
       "\n",
       "    .dataframe thead th {\n",
       "        text-align: right;\n",
       "    }\n",
       "</style>\n",
       "<table border=\"1\" class=\"dataframe\">\n",
       "  <thead>\n",
       "    <tr style=\"text-align: right;\">\n",
       "      <th></th>\n",
       "      <th>Intercept</th>\n",
       "      <th>sex[T.Male]</th>\n",
       "    </tr>\n",
       "  </thead>\n",
       "  <tbody>\n",
       "    <tr>\n",
       "      <th>0</th>\n",
       "      <td>1.0</td>\n",
       "      <td>1.0</td>\n",
       "    </tr>\n",
       "    <tr>\n",
       "      <th>1</th>\n",
       "      <td>1.0</td>\n",
       "      <td>1.0</td>\n",
       "    </tr>\n",
       "    <tr>\n",
       "      <th>2</th>\n",
       "      <td>1.0</td>\n",
       "      <td>1.0</td>\n",
       "    </tr>\n",
       "    <tr>\n",
       "      <th>3</th>\n",
       "      <td>1.0</td>\n",
       "      <td>1.0</td>\n",
       "    </tr>\n",
       "    <tr>\n",
       "      <th>4</th>\n",
       "      <td>1.0</td>\n",
       "      <td>1.0</td>\n",
       "    </tr>\n",
       "  </tbody>\n",
       "</table>\n",
       "</div>"
      ],
      "text/plain": [
       "   Intercept  sex[T.Male]\n",
       "0        1.0          1.0\n",
       "1        1.0          1.0\n",
       "2        1.0          1.0\n",
       "3        1.0          1.0\n",
       "4        1.0          1.0"
      ]
     },
     "execution_count": 55,
     "metadata": {},
     "output_type": "execute_result"
    }
   ],
   "source": [
    "y, X = dmatrices('salary~sex', data=salaries.data, return_type='dataframe')\n",
    "X.head()"
   ]
  },
  {
   "cell_type": "code",
   "execution_count": 56,
   "metadata": {
    "ExecuteTime": {
     "end_time": "2023-05-21T08:47:18.905242Z",
     "start_time": "2023-05-21T08:47:18.883014Z"
    },
    "id": "sIQ71bKp9UTe"
   },
   "outputs": [
    {
     "data": {
      "text/html": [
       "<table class=\"simpletable\">\n",
       "<caption>OLS Regression Results</caption>\n",
       "<tr>\n",
       "  <th>Dep. Variable:</th>         <td>salary</td>      <th>  R-squared:         </th> <td>   0.019</td>\n",
       "</tr>\n",
       "<tr>\n",
       "  <th>Model:</th>                   <td>OLS</td>       <th>  Adj. R-squared:    </th> <td>   0.017</td>\n",
       "</tr>\n",
       "<tr>\n",
       "  <th>Method:</th>             <td>Least Squares</td>  <th>  F-statistic:       </th> <td>   7.738</td>\n",
       "</tr>\n",
       "<tr>\n",
       "  <th>Date:</th>             <td>Sun, 21 May 2023</td> <th>  Prob (F-statistic):</th>  <td>0.00567</td>\n",
       "</tr>\n",
       "<tr>\n",
       "  <th>Time:</th>                 <td>10:47:18</td>     <th>  Log-Likelihood:    </th> <td> -4655.4</td>\n",
       "</tr>\n",
       "<tr>\n",
       "  <th>No. Observations:</th>      <td>   397</td>      <th>  AIC:               </th> <td>   9315.</td>\n",
       "</tr>\n",
       "<tr>\n",
       "  <th>Df Residuals:</th>          <td>   395</td>      <th>  BIC:               </th> <td>   9323.</td>\n",
       "</tr>\n",
       "<tr>\n",
       "  <th>Df Model:</th>              <td>     1</td>      <th>                     </th>     <td> </td>   \n",
       "</tr>\n",
       "<tr>\n",
       "  <th>Covariance Type:</th>      <td>nonrobust</td>    <th>                     </th>     <td> </td>   \n",
       "</tr>\n",
       "</table>\n",
       "<table class=\"simpletable\">\n",
       "<tr>\n",
       "       <td></td>          <th>coef</th>     <th>std err</th>      <th>t</th>      <th>P>|t|</th>  <th>[0.025</th>    <th>0.975]</th>  \n",
       "</tr>\n",
       "<tr>\n",
       "  <th>Intercept</th>   <td>  1.01e+05</td> <td> 4809.386</td> <td>   21.001</td> <td> 0.000</td> <td> 9.15e+04</td> <td>  1.1e+05</td>\n",
       "</tr>\n",
       "<tr>\n",
       "  <th>sex[T.Male]</th> <td> 1.409e+04</td> <td> 5064.579</td> <td>    2.782</td> <td> 0.006</td> <td> 4131.107</td> <td>  2.4e+04</td>\n",
       "</tr>\n",
       "</table>\n",
       "<table class=\"simpletable\">\n",
       "<tr>\n",
       "  <th>Omnibus:</th>       <td>28.630</td> <th>  Durbin-Watson:     </th> <td>   1.971</td>\n",
       "</tr>\n",
       "<tr>\n",
       "  <th>Prob(Omnibus):</th> <td> 0.000</td> <th>  Jarque-Bera (JB):  </th> <td>  33.087</td>\n",
       "</tr>\n",
       "<tr>\n",
       "  <th>Skew:</th>          <td> 0.703</td> <th>  Prob(JB):          </th> <td>6.53e-08</td>\n",
       "</tr>\n",
       "<tr>\n",
       "  <th>Kurtosis:</th>      <td> 3.152</td> <th>  Cond. No.          </th> <td>    6.23</td>\n",
       "</tr>\n",
       "</table><br/><br/>Notes:<br/>[1] Standard Errors assume that the covariance matrix of the errors is correctly specified."
      ],
      "text/plain": [
       "<class 'statsmodels.iolib.summary.Summary'>\n",
       "\"\"\"\n",
       "                            OLS Regression Results                            \n",
       "==============================================================================\n",
       "Dep. Variable:                 salary   R-squared:                       0.019\n",
       "Model:                            OLS   Adj. R-squared:                  0.017\n",
       "Method:                 Least Squares   F-statistic:                     7.738\n",
       "Date:                Sun, 21 May 2023   Prob (F-statistic):            0.00567\n",
       "Time:                        10:47:18   Log-Likelihood:                -4655.4\n",
       "No. Observations:                 397   AIC:                             9315.\n",
       "Df Residuals:                     395   BIC:                             9323.\n",
       "Df Model:                           1                                         \n",
       "Covariance Type:            nonrobust                                         \n",
       "===============================================================================\n",
       "                  coef    std err          t      P>|t|      [0.025      0.975]\n",
       "-------------------------------------------------------------------------------\n",
       "Intercept     1.01e+05   4809.386     21.001      0.000    9.15e+04     1.1e+05\n",
       "sex[T.Male]  1.409e+04   5064.579      2.782      0.006    4131.107     2.4e+04\n",
       "==============================================================================\n",
       "Omnibus:                       28.630   Durbin-Watson:                   1.971\n",
       "Prob(Omnibus):                  0.000   Jarque-Bera (JB):               33.087\n",
       "Skew:                           0.703   Prob(JB):                     6.53e-08\n",
       "Kurtosis:                       3.152   Cond. No.                         6.23\n",
       "==============================================================================\n",
       "\n",
       "Notes:\n",
       "[1] Standard Errors assume that the covariance matrix of the errors is correctly specified.\n",
       "\"\"\""
      ]
     },
     "execution_count": 56,
     "metadata": {},
     "output_type": "execute_result"
    }
   ],
   "source": [
    "sm.OLS(y, X).fit().summary()"
   ]
  },
  {
   "cell_type": "markdown",
   "metadata": {
    "id": "vvEw9TWMF5gB"
   },
   "source": [
    "**Ważne:**\n",
    "\n",
    "Gdy w danych występują zmienne kategoryczne, jak np. w tym przypadku zmienna `sex`, postępujemy z nią następująco\n",
    "\n",
    "1. tworzymy, nową zmienną (ang. *dummy variable*), która\n",
    "\n",
    "    **1**, gdy osoba jest mężczyzną,\n",
    "    \n",
    "    **0**, gdy osoba jest kobietą,\n",
    "    \n",
    "    \n",
    "2. zmienna `sex` jest traktowana w równaniu regresji jako:\n",
    "\n",
    "  $b_0 + b_1$ gdy osoba jest mężczyzną,\n",
    "\n",
    "  $b_0$ gdy osoba jest kobietą."
   ]
  },
  {
   "cell_type": "markdown",
   "metadata": {
    "id": "txnc0DB0GY3J"
   },
   "source": [
    "Teraz zmieniamy poziom referencyjny aby był nim Male wówczas zmienna sex jest traktowana w równaniu regresji jako:\n",
    "\n",
    "$c_0$ gdy osoba jest mężczyzną,\\\n",
    "$c_0+ c_1$ gdy osoba jest kobietą.\n",
    "\n",
    "Zatem $c_0 = b_0+b_1$ i $c_1 = b_0-c_0 = -b_1$"
   ]
  },
  {
   "cell_type": "code",
   "execution_count": 57,
   "metadata": {
    "ExecuteTime": {
     "end_time": "2023-05-21T08:49:22.511681Z",
     "start_time": "2023-05-21T08:49:22.494030Z"
    },
    "id": "NxPynqIE9WoC"
   },
   "outputs": [
    {
     "data": {
      "text/html": [
       "<div>\n",
       "<style scoped>\n",
       "    .dataframe tbody tr th:only-of-type {\n",
       "        vertical-align: middle;\n",
       "    }\n",
       "\n",
       "    .dataframe tbody tr th {\n",
       "        vertical-align: top;\n",
       "    }\n",
       "\n",
       "    .dataframe thead th {\n",
       "        text-align: right;\n",
       "    }\n",
       "</style>\n",
       "<table border=\"1\" class=\"dataframe\">\n",
       "  <thead>\n",
       "    <tr style=\"text-align: right;\">\n",
       "      <th></th>\n",
       "      <th>Intercept</th>\n",
       "      <th>C(sex, Treatment(\"Male\"))[T.Female]</th>\n",
       "    </tr>\n",
       "  </thead>\n",
       "  <tbody>\n",
       "    <tr>\n",
       "      <th>0</th>\n",
       "      <td>1.0</td>\n",
       "      <td>0.0</td>\n",
       "    </tr>\n",
       "    <tr>\n",
       "      <th>1</th>\n",
       "      <td>1.0</td>\n",
       "      <td>0.0</td>\n",
       "    </tr>\n",
       "    <tr>\n",
       "      <th>2</th>\n",
       "      <td>1.0</td>\n",
       "      <td>0.0</td>\n",
       "    </tr>\n",
       "    <tr>\n",
       "      <th>3</th>\n",
       "      <td>1.0</td>\n",
       "      <td>0.0</td>\n",
       "    </tr>\n",
       "    <tr>\n",
       "      <th>4</th>\n",
       "      <td>1.0</td>\n",
       "      <td>0.0</td>\n",
       "    </tr>\n",
       "  </tbody>\n",
       "</table>\n",
       "</div>"
      ],
      "text/plain": [
       "   Intercept  C(sex, Treatment(\"Male\"))[T.Female]\n",
       "0        1.0                                  0.0\n",
       "1        1.0                                  0.0\n",
       "2        1.0                                  0.0\n",
       "3        1.0                                  0.0\n",
       "4        1.0                                  0.0"
      ]
     },
     "execution_count": 57,
     "metadata": {},
     "output_type": "execute_result"
    }
   ],
   "source": [
    "# Treamtment(\"Male\") - mężczyźni otrzymują wartość kategoryczną 0 (więc dopasowanie odwrotne niż poprzednio!)\n",
    "\n",
    "y, X = dmatrices('salary~C(sex,Treatment(\"Male\"))', data=salaries.data, return_type='dataframe')\n",
    "X.head()"
   ]
  },
  {
   "cell_type": "code",
   "execution_count": 58,
   "metadata": {
    "ExecuteTime": {
     "end_time": "2023-05-21T08:49:59.084181Z",
     "start_time": "2023-05-21T08:49:59.067477Z"
    },
    "id": "xW2G1kKs9YFO"
   },
   "outputs": [
    {
     "data": {
      "text/html": [
       "<table class=\"simpletable\">\n",
       "<caption>OLS Regression Results</caption>\n",
       "<tr>\n",
       "  <th>Dep. Variable:</th>         <td>salary</td>      <th>  R-squared:         </th> <td>   0.019</td>\n",
       "</tr>\n",
       "<tr>\n",
       "  <th>Model:</th>                   <td>OLS</td>       <th>  Adj. R-squared:    </th> <td>   0.017</td>\n",
       "</tr>\n",
       "<tr>\n",
       "  <th>Method:</th>             <td>Least Squares</td>  <th>  F-statistic:       </th> <td>   7.738</td>\n",
       "</tr>\n",
       "<tr>\n",
       "  <th>Date:</th>             <td>Sun, 21 May 2023</td> <th>  Prob (F-statistic):</th>  <td>0.00567</td>\n",
       "</tr>\n",
       "<tr>\n",
       "  <th>Time:</th>                 <td>10:49:59</td>     <th>  Log-Likelihood:    </th> <td> -4655.4</td>\n",
       "</tr>\n",
       "<tr>\n",
       "  <th>No. Observations:</th>      <td>   397</td>      <th>  AIC:               </th> <td>   9315.</td>\n",
       "</tr>\n",
       "<tr>\n",
       "  <th>Df Residuals:</th>          <td>   395</td>      <th>  BIC:               </th> <td>   9323.</td>\n",
       "</tr>\n",
       "<tr>\n",
       "  <th>Df Model:</th>              <td>     1</td>      <th>                     </th>     <td> </td>   \n",
       "</tr>\n",
       "<tr>\n",
       "  <th>Covariance Type:</th>      <td>nonrobust</td>    <th>                     </th>     <td> </td>   \n",
       "</tr>\n",
       "</table>\n",
       "<table class=\"simpletable\">\n",
       "<tr>\n",
       "                   <td></td>                      <th>coef</th>     <th>std err</th>      <th>t</th>      <th>P>|t|</th>  <th>[0.025</th>    <th>0.975]</th>  \n",
       "</tr>\n",
       "<tr>\n",
       "  <th>Intercept</th>                           <td> 1.151e+05</td> <td> 1587.378</td> <td>   72.503</td> <td> 0.000</td> <td> 1.12e+05</td> <td> 1.18e+05</td>\n",
       "</tr>\n",
       "<tr>\n",
       "  <th>C(sex, Treatment(\"Male\"))[T.Female]</th> <td>-1.409e+04</td> <td> 5064.579</td> <td>   -2.782</td> <td> 0.006</td> <td> -2.4e+04</td> <td>-4131.107</td>\n",
       "</tr>\n",
       "</table>\n",
       "<table class=\"simpletable\">\n",
       "<tr>\n",
       "  <th>Omnibus:</th>       <td>28.630</td> <th>  Durbin-Watson:     </th> <td>   1.971</td>\n",
       "</tr>\n",
       "<tr>\n",
       "  <th>Prob(Omnibus):</th> <td> 0.000</td> <th>  Jarque-Bera (JB):  </th> <td>  33.087</td>\n",
       "</tr>\n",
       "<tr>\n",
       "  <th>Skew:</th>          <td> 0.703</td> <th>  Prob(JB):          </th> <td>6.53e-08</td>\n",
       "</tr>\n",
       "<tr>\n",
       "  <th>Kurtosis:</th>      <td> 3.152</td> <th>  Cond. No.          </th> <td>    3.40</td>\n",
       "</tr>\n",
       "</table><br/><br/>Notes:<br/>[1] Standard Errors assume that the covariance matrix of the errors is correctly specified."
      ],
      "text/plain": [
       "<class 'statsmodels.iolib.summary.Summary'>\n",
       "\"\"\"\n",
       "                            OLS Regression Results                            \n",
       "==============================================================================\n",
       "Dep. Variable:                 salary   R-squared:                       0.019\n",
       "Model:                            OLS   Adj. R-squared:                  0.017\n",
       "Method:                 Least Squares   F-statistic:                     7.738\n",
       "Date:                Sun, 21 May 2023   Prob (F-statistic):            0.00567\n",
       "Time:                        10:49:59   Log-Likelihood:                -4655.4\n",
       "No. Observations:                 397   AIC:                             9315.\n",
       "Df Residuals:                     395   BIC:                             9323.\n",
       "Df Model:                           1                                         \n",
       "Covariance Type:            nonrobust                                         \n",
       "=======================================================================================================\n",
       "                                          coef    std err          t      P>|t|      [0.025      0.975]\n",
       "-------------------------------------------------------------------------------------------------------\n",
       "Intercept                            1.151e+05   1587.378     72.503      0.000    1.12e+05    1.18e+05\n",
       "C(sex, Treatment(\"Male\"))[T.Female] -1.409e+04   5064.579     -2.782      0.006    -2.4e+04   -4131.107\n",
       "==============================================================================\n",
       "Omnibus:                       28.630   Durbin-Watson:                   1.971\n",
       "Prob(Omnibus):                  0.000   Jarque-Bera (JB):               33.087\n",
       "Skew:                           0.703   Prob(JB):                     6.53e-08\n",
       "Kurtosis:                       3.152   Cond. No.                         3.40\n",
       "==============================================================================\n",
       "\n",
       "Notes:\n",
       "[1] Standard Errors assume that the covariance matrix of the errors is correctly specified.\n",
       "\"\"\""
      ]
     },
     "execution_count": 58,
     "metadata": {},
     "output_type": "execute_result"
    }
   ],
   "source": [
    "sm.OLS(y, X).fit().summary()"
   ]
  },
  {
   "cell_type": "markdown",
   "metadata": {
    "id": "WAHUy5z7WEKh"
   },
   "source": [
    "## Zadanie 3.1 \n",
    "Sprawdź jak została zakodowana zmienna `ShelveLoc` w zbiorze danych `Carseats`. Zmień poziom wartości dla tej zmiennej, sprawdź różnice w modelu."
   ]
  },
  {
   "cell_type": "code",
   "execution_count": 60,
   "metadata": {
    "ExecuteTime": {
     "end_time": "2023-05-21T08:55:39.578350Z",
     "start_time": "2023-05-21T08:55:39.558510Z"
    },
    "id": "CGBzNGABM__F"
   },
   "outputs": [
    {
     "name": "stdout",
     "output_type": "stream",
     "text": [
      "['Bad' 'Good' 'Medium']\n"
     ]
    },
    {
     "data": {
      "text/html": [
       "<div>\n",
       "<style scoped>\n",
       "    .dataframe tbody tr th:only-of-type {\n",
       "        vertical-align: middle;\n",
       "    }\n",
       "\n",
       "    .dataframe tbody tr th {\n",
       "        vertical-align: top;\n",
       "    }\n",
       "\n",
       "    .dataframe thead th {\n",
       "        text-align: right;\n",
       "    }\n",
       "</style>\n",
       "<table border=\"1\" class=\"dataframe\">\n",
       "  <thead>\n",
       "    <tr style=\"text-align: right;\">\n",
       "      <th></th>\n",
       "      <th>Intercept</th>\n",
       "      <th>ShelveLoc[T.Good]</th>\n",
       "      <th>ShelveLoc[T.Medium]</th>\n",
       "    </tr>\n",
       "  </thead>\n",
       "  <tbody>\n",
       "    <tr>\n",
       "      <th>0</th>\n",
       "      <td>1.0</td>\n",
       "      <td>0.0</td>\n",
       "      <td>0.0</td>\n",
       "    </tr>\n",
       "    <tr>\n",
       "      <th>1</th>\n",
       "      <td>1.0</td>\n",
       "      <td>1.0</td>\n",
       "      <td>0.0</td>\n",
       "    </tr>\n",
       "    <tr>\n",
       "      <th>2</th>\n",
       "      <td>1.0</td>\n",
       "      <td>0.0</td>\n",
       "      <td>1.0</td>\n",
       "    </tr>\n",
       "    <tr>\n",
       "      <th>3</th>\n",
       "      <td>1.0</td>\n",
       "      <td>0.0</td>\n",
       "      <td>1.0</td>\n",
       "    </tr>\n",
       "    <tr>\n",
       "      <th>4</th>\n",
       "      <td>1.0</td>\n",
       "      <td>0.0</td>\n",
       "      <td>0.0</td>\n",
       "    </tr>\n",
       "  </tbody>\n",
       "</table>\n",
       "</div>"
      ],
      "text/plain": [
       "   Intercept  ShelveLoc[T.Good]  ShelveLoc[T.Medium]\n",
       "0        1.0                0.0                  0.0\n",
       "1        1.0                1.0                  0.0\n",
       "2        1.0                0.0                  1.0\n",
       "3        1.0                0.0                  1.0\n",
       "4        1.0                0.0                  0.0"
      ]
     },
     "execution_count": 60,
     "metadata": {},
     "output_type": "execute_result"
    }
   ],
   "source": [
    "print(np.unique(carseats_df.ShelveLoc))  #3 poziomy\n",
    "\n",
    "# one-hot encoding\n",
    "y, X = dmatrices('Sales~ShelveLoc', data=carseats_df, return_type='dataframe')\n",
    "X.head()"
   ]
  },
  {
   "cell_type": "code",
   "execution_count": 62,
   "metadata": {
    "ExecuteTime": {
     "end_time": "2023-05-21T08:59:39.843206Z",
     "start_time": "2023-05-21T08:59:39.820148Z"
    }
   },
   "outputs": [
    {
     "data": {
      "text/html": [
       "<div>\n",
       "<style scoped>\n",
       "    .dataframe tbody tr th:only-of-type {\n",
       "        vertical-align: middle;\n",
       "    }\n",
       "\n",
       "    .dataframe tbody tr th {\n",
       "        vertical-align: top;\n",
       "    }\n",
       "\n",
       "    .dataframe thead th {\n",
       "        text-align: right;\n",
       "    }\n",
       "</style>\n",
       "<table border=\"1\" class=\"dataframe\">\n",
       "  <thead>\n",
       "    <tr style=\"text-align: right;\">\n",
       "      <th></th>\n",
       "      <th>Intercept</th>\n",
       "      <th>C(ShelveLoc, Treatment(\"Good\"))[T.Bad]</th>\n",
       "      <th>C(ShelveLoc, Treatment(\"Good\"))[T.Medium]</th>\n",
       "    </tr>\n",
       "  </thead>\n",
       "  <tbody>\n",
       "    <tr>\n",
       "      <th>0</th>\n",
       "      <td>1.0</td>\n",
       "      <td>1.0</td>\n",
       "      <td>0.0</td>\n",
       "    </tr>\n",
       "    <tr>\n",
       "      <th>1</th>\n",
       "      <td>1.0</td>\n",
       "      <td>0.0</td>\n",
       "      <td>0.0</td>\n",
       "    </tr>\n",
       "    <tr>\n",
       "      <th>2</th>\n",
       "      <td>1.0</td>\n",
       "      <td>0.0</td>\n",
       "      <td>1.0</td>\n",
       "    </tr>\n",
       "    <tr>\n",
       "      <th>3</th>\n",
       "      <td>1.0</td>\n",
       "      <td>0.0</td>\n",
       "      <td>1.0</td>\n",
       "    </tr>\n",
       "    <tr>\n",
       "      <th>4</th>\n",
       "      <td>1.0</td>\n",
       "      <td>1.0</td>\n",
       "      <td>0.0</td>\n",
       "    </tr>\n",
       "  </tbody>\n",
       "</table>\n",
       "</div>"
      ],
      "text/plain": [
       "   Intercept  C(ShelveLoc, Treatment(\"Good\"))[T.Bad]  \\\n",
       "0        1.0                                     1.0   \n",
       "1        1.0                                     0.0   \n",
       "2        1.0                                     0.0   \n",
       "3        1.0                                     0.0   \n",
       "4        1.0                                     1.0   \n",
       "\n",
       "   C(ShelveLoc, Treatment(\"Good\"))[T.Medium]  \n",
       "0                                        0.0  \n",
       "1                                        0.0  \n",
       "2                                        1.0  \n",
       "3                                        1.0  \n",
       "4                                        0.0  "
      ]
     },
     "execution_count": 62,
     "metadata": {},
     "output_type": "execute_result"
    }
   ],
   "source": [
    "y, X = dmatrices('Sales~C(ShelveLoc, Treatment(\"Good\"))', data=carseats_df, return_type='dataframe')\n",
    "X.head()"
   ]
  },
  {
   "cell_type": "markdown",
   "metadata": {
    "id": "Xaba2_WHWEKi"
   },
   "source": [
    "# Zadanie 4\n",
    "Napisz funkcję, która dla wybranej zmiennej niezależnej dopasuje model prostej liniowej postaci: `Sales ~ X`, gdzie `X` to wybrana zmienna. Następnie, korzystając z napisanej funkcji dopasuj model do każdej zmiennej niezależnej w zbiorze `Carseats`."
   ]
  },
  {
   "cell_type": "code",
   "execution_count": null,
   "metadata": {
    "id": "p2xiqGhbYRpp"
   },
   "outputs": [],
   "source": [
    "def XY_generator(col):\n",
    "    return(dmatrices('Sales ~ {}'.format(col), data=carseats.data, return_type='dataframe'))\n",
    "\n",
    "plt.figure(figsize=(20, 40))\n",
    "\n",
    "columns = carseats_df.columns[carseats_df.columns != 'Sales']\n",
    "\n",
    "for i, col in enumerate(columns):\n",
    "    #dopasowujemy dla zmiennej zależnej Sales  jedną kolumnę z danych (w każdym obrocie inną)\n",
    "    Y, X = XY_generator(col)\n",
    "\n",
    "    plt.subplot(len(columns) // 2 + 1, 2, i+1)\n",
    "    #rysujemy wykres rozproszenia dla każdej pary zmienna niezależna vs zmienna zależna\n",
    "    plt.scatter(carseats_df[col], Y, marker='o')\n",
    "    \n",
    "    #dopasowujemy model jednej zmiennej\n",
    "    model = sm.OLS(endog=Y, exog=X)\n",
    "    fitted_model = model.fit()\n",
    "    plt.plot(carseats_df[col], fitted_model.fittedvalues, color='red')\n",
    "    \n",
    "    plt.xlabel(col)\n",
    "    plt.ylabel('Sales')\n",
    "    #dopisujemy charakterystyki danych modeli R^2 im większe tym lepiej, AIC i BIC im mniej tym lepiej\n",
    "    plt.title(\"R2={}, AIC={}, BIC={}\".format(np.round(fitted_model.rsquared, 2), \n",
    "                                           np.round(fitted_model.aic, 2),\n",
    "                                           np.round(fitted_model.bic, 2)))"
   ]
  }
 ],
 "metadata": {
  "colab": {
   "collapsed_sections": [
    "frVr7ocXWEKd"
   ],
   "provenance": []
  },
  "hide_input": false,
  "kernelspec": {
   "display_name": "Python 3 (ipykernel)",
   "language": "python",
   "name": "python3"
  },
  "language_info": {
   "codemirror_mode": {
    "name": "ipython",
    "version": 3
   },
   "file_extension": ".py",
   "mimetype": "text/x-python",
   "name": "python",
   "nbconvert_exporter": "python",
   "pygments_lexer": "ipython3",
   "version": "3.10.6"
  },
  "toc": {
   "base_numbering": 1,
   "nav_menu": {},
   "number_sections": true,
   "sideBar": true,
   "skip_h1_title": true,
   "title_cell": "Table of Contents",
   "title_sidebar": "Contents",
   "toc_cell": false,
   "toc_position": {},
   "toc_section_display": true,
   "toc_window_display": false
  },
  "varInspector": {
   "cols": {
    "lenName": 16,
    "lenType": 16,
    "lenVar": 40
   },
   "kernels_config": {
    "python": {
     "delete_cmd_postfix": "",
     "delete_cmd_prefix": "del ",
     "library": "var_list.py",
     "varRefreshCmd": "print(var_dic_list())"
    },
    "r": {
     "delete_cmd_postfix": ") ",
     "delete_cmd_prefix": "rm(",
     "library": "var_list.r",
     "varRefreshCmd": "cat(var_dic_list()) "
    }
   },
   "types_to_exclude": [
    "module",
    "function",
    "builtin_function_or_method",
    "instance",
    "_Feature"
   ],
   "window_display": false
  }
 },
 "nbformat": 4,
 "nbformat_minor": 1
}

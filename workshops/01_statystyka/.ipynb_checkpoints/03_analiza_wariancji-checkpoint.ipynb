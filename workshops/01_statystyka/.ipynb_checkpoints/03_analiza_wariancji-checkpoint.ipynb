{
 "cells": [
  {
   "cell_type": "markdown",
   "metadata": {
    "id": "cVL2ia6yxWNn"
   },
   "source": [
    "# ANOVA"
   ]
  },
  {
   "cell_type": "code",
   "execution_count": null,
   "metadata": {
    "id": "hKvr1Rk3xWNs"
   },
   "outputs": [],
   "source": [
    "import numpy as np\n",
    "import pandas as pd\n",
    "import matplotlib.pyplot as plt\n",
    "import statsmodels.api as sm\n",
    "import statsmodels.stats as sm_stats\n",
    "from scipy import stats\n",
    "from statsmodels.formula.api import ols\n",
    "from statsmodels.stats.anova import anova_lm\n",
    "\n",
    "from statsmodels.stats.multicomp import MultiComparison, pairwise_tukeyhsd"
   ]
  },
  {
   "cell_type": "markdown",
   "metadata": {
    "id": "Ig_o4kI7yXSN"
   },
   "source": [
    "#rozkład $F$-Snedecora\n",
    "Zmienna losowa $X$ ma rozkład $F$-Snedecora z parametrami $m,n\\in\\mathbb{N_+}$, jeżeli jej gęstość $f$~jest postaci\n",
    "\n",
    "\\begin{equation*}\n",
    "      f(x)=\n",
    "    \\begin{cases}\n",
    "    \\frac{\\Gamma(\\frac{n+m}{2})}{\\Gamma(\\frac{n}{2})\\Gamma(\\frac{m}{2})}\\Big(\\frac{m}{n}\\Big)^{\\frac{m}{2}}x^{\\frac{n}{2}-1}\\Big(x+\\frac{m}{n}\\Big)^{-\\frac{n+m}{2}} \\quad &\\text{dla} \\quad x\\geq0\\\\\n",
    "    0 \\quad &\\text{dla} \\quad x< 0,\n",
    "    \\end{cases}\n",
    "\\end{equation*}\n",
    "\n",
    "Wartość oczekiwana i wariancja dane są wzorami\n",
    "\\begin{equation*}\n",
    "    \\mathbb{E}X = \\frac{m}{m-2}, \\quad \\text{Var}(X) = \\frac{2m^2(n+m-2)}{n(m-2)(m-4)}.\n",
    "\\end{equation*}"
   ]
  },
  {
   "cell_type": "markdown",
   "metadata": {
    "id": "hgpM8S6KxWNu"
   },
   "source": [
    "# Zadanie wstępne\n",
    "\n",
    "1. Zdefiniuj zmienną losową dla rozkładu $F$-Snedecora.\n",
    "2. Narysuj gęstość dla kilku wybranych stopni swobody. Zwróć uwagę na dziedzinę gęstości.\n",
    "3. Narysuj dystrybuantę dla kilku wybranych stopni swobody.\n",
    "4. Wyznacz podstawowe charakterystyki rozkładu: średnia, wariancja, odchylenie standardowe.\n",
    "5. Wylosuj $n$ obserwacji z zdefiniowanego rozkładu.\n",
    "6. Narysujmy histogram dla wylosowanej powyżej próbki.\n",
    "7. Sprawdź, czy zachodzi własność: jeśli $X$ pochodzi z rozkładu chi-kwadrat o $m$ stopniach swobody i $Y$ również pochodzi z rozkładu chi kwadrat ale o $n$ stopniach swobody, oraz zmienne $X$ i $Y$ są niezależne, to zmienna \n",
    "$$\n",
    "    Z = \\frac{\\frac{X}{m}}{\\frac{Y}{n}}\n",
    "$$\n",
    "ma rozkład $F$-Snedecora o $(m,n)$ stopniach swobody.\n",
    "8. Niech $X_1, \\ldots, X_{n_1}$ będzie próbą prostą z rozkładu $\\mathcal{N}(\\mu_1, \\sigma)$ oraz niech $Y_1, \\ldots, Y_{n_2}$ będzie próbą prostą z rozkładu $\\mathcal{N}(\\mu_2, \\sigma)$. Załóżmy ponadto, że obie próbki są niezależne. Niech $S_1^2$ i $S_2^2$ oznaczają, odpowiednio, wariancje próbkowe z pierwszej i drugiej próbki. Pokazać, że wówczas iloraz wariancji próbkowych \n",
    "$$\n",
    "\\frac{S_1^2}{S_2^2}\n",
    "$$\n",
    "ma rozkład $F$-Snedecora o $(n_1-1, n_2-1)$ stopniach swobody."
   ]
  },
  {
   "cell_type": "code",
   "execution_count": null,
   "metadata": {
    "id": "1svb_G-SxWN1"
   },
   "outputs": [],
   "source": [
    "#1. Definiujemy kilka zmiennych z rozkładu F-Snedecora\n",
    "f710 = stats.f(dfn=7, dfd=10)\n",
    "f25 = stats.f(dfn=2, dfd=5)\n",
    "f75 = stats.f(dfn=7, dfd=5)"
   ]
  },
  {
   "cell_type": "code",
   "execution_count": null,
   "metadata": {
    "id": "Xj4Nl5GStmMZ"
   },
   "outputs": [],
   "source": [
    "# #2.\n",
    "x_value = np.linspace(-5, 5, 100)\n",
    "plt.plot(x_value, f710.pdf(x_value))\n",
    "plt.plot(x_value, f25.pdf(x_value))\n",
    "plt.plot(x_value, f75.pdf(x_value))\n",
    "plt.legend(['m=7,n=10', 'm=2,n=5', 'm=7,n=5'])\n",
    "#stopnie swobody wpływają na przesuwanie się garbu i jego wysokość\n",
    "#nośnik od 0 do nieskończoności"
   ]
  },
  {
   "cell_type": "code",
   "execution_count": null,
   "metadata": {
    "id": "mOVEKc1OtoQ8"
   },
   "outputs": [],
   "source": [
    "#3. dystrybuanty\n",
    "x_value = np.linspace(-5, 5, 100)\n",
    "plt.plot(x_value, f710.cdf(x_value))\n",
    "plt.plot(x_value, f25.cdf(x_value))\n",
    "plt.plot(x_value, f75.cdf(x_value))\n",
    "plt.legend(['m=7,n=10', 'm=2,n=5', 'm=7,n=5'])"
   ]
  },
  {
   "cell_type": "code",
   "execution_count": null,
   "metadata": {
    "id": "uRmin2IAtw-w"
   },
   "outputs": [],
   "source": [
    "#4. #średnia to n/(n-2)\n",
    "size = 1000000\n",
    "#przybliżenie z próbki\n",
    "print(np.mean(f710.rvs(size)))\n",
    "#wartość teoretyczna\n",
    "print(10/(10-2))\n",
    "#przybliżenie z próbki\n",
    "print(np.mean(f25.rvs(size)))\n",
    "#wartość teoretyczna\n",
    "print(5/(5-2))\n",
    "#przybliżenie z próbki\n",
    "print(np.mean(f75.rvs(size)))\n",
    "#wartość teoretyczna\n",
    "print(5/(5-2))"
   ]
  },
  {
   "cell_type": "code",
   "execution_count": null,
   "metadata": {
    "id": "r0Tf9yHjtzXA"
   },
   "outputs": [],
   "source": [
    "#4. #wariancja to 2*n**2(m+n-2)/(m(n-2)**2(n-4)) dla n>4\n",
    "size = 1000000\n",
    "#przybliżenie z próbki\n",
    "print(np.var(f710.rvs(size)))\n",
    "#wartość teoretyczna\n",
    "print(2*10**2*(7+10-2)/(7*(10-2)**2*(10-4)))\n",
    "#przybliżenie z próbki\n",
    "print(np.var(f25.rvs(size)))\n",
    "#wartość teoretyczna\n",
    "print(2*5**2*(2+5-2)/(2*(5-2)**2*(5-4)))\n",
    "#przybliżenie z próbki\n",
    "print(np.var(f75.rvs(size)))\n",
    "#wartość teoretyczna\n",
    "print(2*5**2*(7+5-2)/(7*(5-2)**2*(5-4)))"
   ]
  },
  {
   "cell_type": "code",
   "execution_count": null,
   "metadata": {
    "id": "rs_pNn7JBIxu"
   },
   "outputs": [],
   "source": [
    "#odchylenie to pierwiastek z wariancji"
   ]
  },
  {
   "cell_type": "code",
   "execution_count": null,
   "metadata": {
    "id": "9dQQxrMtt2bE"
   },
   "outputs": [],
   "source": [
    "#5 i 6\n",
    "rs710 = f710.rvs(size)\n",
    "plt.hist(rs710,bins =200, density=True)\n",
    "x_value = np.linspace(-1, 10, 1000)\n",
    "plt.plot(x_value, f710.pdf(x_value))\n",
    "plt.show()\n",
    "\n",
    "rs25 = f25.rvs(size)\n",
    "plt.hist(rs25,bins =200, density=True)\n",
    "x_value = np.linspace(-1, 10, 1000)\n",
    "plt.plot(x_value, f25.pdf(x_value))\n",
    "plt.show()\n",
    "\n",
    "rs75 = f75.rvs(size)\n",
    "plt.hist(rs75,bins =200, density=True)\n",
    "x_value = np.linspace(-1, 10, 1000)\n",
    "plt.plot(x_value, f75.pdf(x_value))\n",
    "plt.show()"
   ]
  },
  {
   "cell_type": "code",
   "execution_count": null,
   "metadata": {
    "id": "TWNeOZEnt6QD"
   },
   "outputs": [],
   "source": [
    "# 7. sprawdzamy symulacyjnie\n",
    "N = 10000\n",
    "m = 100\n",
    "X = stats.chi2.rvs(size=N, df=m)\n",
    "n = 120\n",
    "Y = stats.chi2.rvs(size=N, df=n)\n",
    "\n",
    "x_value = np.linspace(-1, 10, 1000)\n",
    "Z = X * n / Y / m\n",
    "plt.hist(Z, density=True)\n",
    "plt.plot(x_value, stats.f.pdf(x_value, m, n))"
   ]
  },
  {
   "cell_type": "code",
   "execution_count": null,
   "metadata": {
    "id": "2QydWq29uDZc"
   },
   "outputs": [],
   "source": [
    "# 8. udowadniamy symulacyjnie\n",
    "N = 1000\n",
    "n1 = 100\n",
    "n2 = 120\n",
    "sigma = 1\n",
    "mu1 = -2\n",
    "mu2 = 3\n",
    "Z = np.zeros(N)\n",
    "\n",
    "for i in range(N):\n",
    "    X = stats.norm.rvs(size=n1, loc=mu1, scale=sigma)\n",
    "    Y = stats.norm.rvs(size=n2, loc=mu2, scale=sigma)\n",
    "    Z[i] = X.var(ddof=1) / Y.var(ddof=1)\n",
    "plt.hist(Z, density=True)\n",
    "plt.plot(x_value, stats.f.pdf(x_value, n1-1, n2-1))"
   ]
  },
  {
   "cell_type": "markdown",
   "metadata": {
    "id": "8gpBAe4yxWN4"
   },
   "source": [
    "# Zadanie 1\n",
    "Wykonano po cztery niezależne pomiary wytrzymałości na ́sciskanie trzech rodzajów betonu. Otrzymano następujące wyniki (w kG/cm2):\n",
    "\n",
    "|    |  | | |  |\n",
    "|:---:|:---:|:---:|:---:|:---:|\n",
    "|  I  | 204 | 200 | 198 | 204 |\n",
    "|  II | 197 | 205 | 213 | 209 |\n",
    "| III | 190 | 208 | 202 | 210 |\n",
    "\n",
    "Stwierdź, czy badane gatunki betonu różnią się istotnie pod względem ́sredniej wytrzymałości na ́sciskanie. Przyjmij poziom istotności 0.05."
   ]
  },
  {
   "cell_type": "markdown",
   "metadata": {
    "id": "uM8bhdEnxWN2"
   },
   "source": [
    "Zanim przystapimy do testu $F$ powinnismy sprawdzic, czy sa spełnione założenia pozwalajace posłuzyc sie wspomnianą metodą:\n",
    "\n",
    "1.  niezależność obserwacji,\n",
    "2.  normalność  rozkładów  w  każdej  z  podpopulacji  wyznaczonych  przez  poziomy czynników,\n",
    "3.  jednorodność wariancji podpopulacji wyznaczonych przez poziomy czynników."
   ]
  },
  {
   "cell_type": "code",
   "execution_count": null,
   "metadata": {
    "id": "H5IQcVTTYsHC"
   },
   "outputs": [],
   "source": [
    "group1 = np.array([204, 200, 198, 204])\n",
    "group2 = np.array([197, 205, 213, 209])\n",
    "group3 = np.array([190, 208, 202, 210])"
   ]
  },
  {
   "cell_type": "markdown",
   "metadata": {
    "id": "6QVokAIdxWN3"
   },
   "source": [
    "## Jednorodność wariancji\n",
    "\n",
    "Testujemy hipotezę zerową\n",
    "$$\n",
    "    H_0: \\sigma_1^2 = \\sigma^2_2 = \\ldots = \\sigma_r^2\n",
    "$$\n",
    "\n",
    "Do weryfikacji tej hipotezy możemy użyć testów:\n",
    "\n",
    "1. [Bartlett's Test](https://docs.scipy.org/doc/scipy-0.14.0/reference/generated/scipy.stats.bartlett.html)\n",
    "2. [Levene Test for Equality of Variances](https://docs.scipy.org/doc/scipy-0.14.0/reference/generated/scipy.stats.levene.html)\n"
   ]
  },
  {
   "cell_type": "code",
   "execution_count": null,
   "metadata": {
    "id": "3EZTx6usuPdM"
   },
   "outputs": [],
   "source": [
    "# stats.bartlett(group1,group2,group3)"
   ]
  },
  {
   "cell_type": "code",
   "execution_count": null,
   "metadata": {
    "id": "2OPo3xTPuQtK"
   },
   "outputs": [],
   "source": [
    "# stats.levene(group1,group2,group3,center = 'mean')"
   ]
  },
  {
   "cell_type": "markdown",
   "metadata": {
    "id": "XkSwClx-xWN6"
   },
   "source": [
    "### Zadanie \n",
    "Napisz funkcję, która dla $n$ wektorów wykona i wypisze wyniki testu Bartletta i Levene."
   ]
  },
  {
   "cell_type": "code",
   "execution_count": null,
   "metadata": {
    "id": "v0DvKuNmD6ka"
   },
   "outputs": [],
   "source": [
    "# def variance_test(*args):\n",
    "#     d = {}\n",
    "#     bartlett_test = stats.bartlett(*args)\n",
    "#     d['bartlett_test'] = {'statistic': bartlett_test.statistic, 'pvalue': bartlett_test.pvalue}\n",
    "#     levene_test = stats.levene(*args, center='mean')\n",
    "#     d['levene_test'] = {'statistic': levene_test.statistic, 'pvalue': levene_test.pvalue}\n",
    "#     return pd.DataFrame(d)"
   ]
  },
  {
   "cell_type": "code",
   "execution_count": null,
   "metadata": {
    "id": "JEPeTbnmufdV"
   },
   "outputs": [],
   "source": [
    "# variance_test(group1,group2,group3)"
   ]
  },
  {
   "cell_type": "code",
   "execution_count": null,
   "metadata": {
    "id": "Rh9blG_06r0F"
   },
   "outputs": [],
   "source": [
    "# #podobnie zrobimy dla testów normalności\n",
    "# def normal_tests(x):\n",
    "#     tests = ['Shapiro-Wilk Test', \"Jarque–Bera Test\", \n",
    "#              \"Kolmogorov–Smirnov Test\"]\n",
    "#     shapiro = stats.shapiro(x)\n",
    "#     jarque_bera = stats.jarque_bera(x)\n",
    "#     x_stand = (x - np.mean(x)) / np.std(x, ddof=1)\n",
    "#     ks = stats.kstest(x_stand, 'norm')\n",
    "    \n",
    "#     statistics = np.round([shapiro[0], jarque_bera[0], ks.statistic], 2)\n",
    "#     pvalues = np.round([shapiro[1], jarque_bera[1], ks.pvalue], 5)\n",
    "    \n",
    "#     return pd.DataFrame({\n",
    "#         'test': tests,\n",
    "#         'statistic': statistics,\n",
    "#         'pvalue': pvalues\n",
    "#     })"
   ]
  },
  {
   "cell_type": "markdown",
   "metadata": {
    "id": "SoH4DcEY0kgA"
   },
   "source": [
    "#Normalność rozkładów\n",
    "Testujemy hipotezę zerową\n",
    "$$\n",
    "    H_0: X_i\\sim N(\\mu_i,\\sigma_i)\n",
    "$$\n",
    "Dla każdej grupy $i$.\n",
    "Do weryfikacji tej hipotezy możemy użyć testów:\n",
    "\n",
    "1. [Shapiro-Wilk Test](https://docs.scipy.org/doc/scipy/reference/generated/scipy.stats.shapiro.html)\n",
    "2. [Jarque-Bera Test](https://docs.scipy.org/doc/scipy/reference/generated/scipy.stats.jarque_bera.html)\n",
    "3. [Kolmogorov-Smirnov Test](https://docs.scipy.org/doc/scipy/reference/generated/scipy.stats.kstest.html)"
   ]
  },
  {
   "cell_type": "code",
   "execution_count": null,
   "metadata": {
    "id": "sGa1wwVauj6M"
   },
   "outputs": [],
   "source": [
    "# print(normal_tests(group1))\n",
    "# print(normal_tests(group2))\n",
    "# print(normal_tests(group3))"
   ]
  },
  {
   "cell_type": "markdown",
   "metadata": {
    "id": "jKdhh9hhxWN7"
   },
   "source": [
    "# ANOVA\n",
    "\n",
    "Testujemy hipotezę zerową\n",
    "$$\n",
    "H_0: \\mu_1 = \\mu_2 = \\mu_3\n",
    "$$ \n",
    "mówiącą, iż - ́sredniorzecz biorąc – badane gatunki betonu nie różnią się istotnie pod względem wytrzymałości na ́ściskanie, wobec hipotezy alternatywnej orzekającej, iż te gatunki różnią się wytrzymałością."
   ]
  },
  {
   "cell_type": "markdown",
   "metadata": {
    "id": "3-GIDJfh9A4d"
   },
   "source": [
    "Oznaczmy (w naszym zadaniu $r=3,n=4$)\n",
    "\n",
    "\n",
    "\n",
    "\n",
    "\n",
    "*   Średnią ze wszystkich obserwacji\n",
    "    \\begin{equation*}\n",
    "        \\overline{\\overline{Y}} = \\frac{1}{nr}\\sum_{i=1}^r\\sum_{j=1}^n Y_{ij},\n",
    "    \\end{equation*}\n",
    "*   Średnią na $i$-tym poziomie, $1 \\leq i \\leq n$\n",
    "    \\begin{equation*}\n",
    "        \\overline{Y}_i = \\frac{1}{n}\\sum_{j=1}^n Y_{ij},\n",
    "    \\end{equation*}\n",
    "*       Zmienność całkowitą w eksperymencie\n",
    "    \\begin{equation*}\n",
    "        \\text{SST} = \\sum_{i=1}^r\\sum_{j=1}^n (Y_{ij} -  \\overline{\\overline{Y}})^2,\n",
    "    \\end{equation*}\n",
    "*   zmienność między poziomami\n",
    "    \\begin{equation*}\n",
    "        \\text{SSA} = n\\sum_{i=1}^r(\\overline{Y}_i - \\overline{\\overline{Y}})^2,\n",
    "\\end{equation*}\n",
    "*  zmienność na danym poziomie\n",
    "    \\begin{equation*}\n",
    "        \\text{SSE} = \\sum_{i=1}^r\\sum_{j=1}(Y_{ij} - \\overline{Y}_i)^2.\n",
    "    \\end{equation*}\n",
    "\n",
    "    TW.  $\\text{SST}=\\text{SSA}+\\text{SSE}$\n"
   ]
  },
  {
   "cell_type": "markdown",
   "metadata": {
    "id": "gR1DsD7E-RMi"
   },
   "source": [
    "Statystyka testowa jest postaci:\n",
    "    \\begin{equation*}\n",
    "        F = \\frac{\\frac{\\text{SSA}}{r-1}}{\\frac{SSE}{r(n-1)}}=\\frac{MSA}{MSE}.\n",
    "    \\end{equation*}\n",
    "\n",
    "Obszar krytyczny testu $F$ jest postaci\n",
    "\\begin{equation*}\n",
    "    [F^{(r-1)(r(n-1))}_{1-\\alpha}, +\\infty).\n",
    "\\end{equation*}"
   ]
  },
  {
   "cell_type": "code",
   "execution_count": null,
   "metadata": {
    "id": "1BWhdzdOurQE"
   },
   "outputs": [],
   "source": [
    "# stats.f_oneway(group1,group2,group3)"
   ]
  },
  {
   "cell_type": "code",
   "execution_count": null,
   "metadata": {
    "id": "U4I6Tc1tz3N9"
   },
   "outputs": [],
   "source": [
    "# #inny sposób\n",
    "# values = np.concatenate([group1,group2,group3])\n",
    "# n = len(group1)\n",
    "# types = np.concatenate([['I']*n,['II']*n,['III']*n])"
   ]
  },
  {
   "cell_type": "code",
   "execution_count": null,
   "metadata": {
    "id": "Mm57tEXZuvFE"
   },
   "outputs": [],
   "source": [
    "# df = pd.DataFrame({'type': types,'value': values})\n",
    "# df.head()"
   ]
  },
  {
   "cell_type": "code",
   "execution_count": null,
   "metadata": {
    "id": "nI1JR4c6uxFk"
   },
   "outputs": [],
   "source": [
    "# model = ols('value~C(type)',df).fit()\n",
    "# anv = anova_lm(model)\n",
    "# anv"
   ]
  },
  {
   "cell_type": "markdown",
   "metadata": {
    "id": "7YCacWPcxWN9"
   },
   "source": [
    "# *Zadanie 1b\n",
    "Zaimplementuj swoją wersję testu $F$."
   ]
  },
  {
   "cell_type": "code",
   "execution_count": null,
   "metadata": {
    "id": "98d6935f6_g5"
   },
   "outputs": [],
   "source": [
    "# def anova_oneway(df):\n",
    "#     levels = np.unique(df.type)\n",
    "#     groups = []\n",
    "#     mean_all = np.mean(df.value)\n",
    "#     SST = np.sum((df.value-mean_all)**2)\n",
    "#     SSA = 0\n",
    "#     for i in np.unique(df.type):\n",
    "#       group = df.value[df.type==i]\n",
    "#       mean_group = np.mean(group)\n",
    "#       SSA_part = (mean_group-mean_all)**2\n",
    "#       SSA = SSA+SSA_part\n",
    "    \n",
    "#     r = len(np.unique(df.type))\n",
    "#     #dla równolicznych grup\n",
    "#     n = df.shape[0]/r\n",
    "    \n",
    "#     SSA = n*SSA\n",
    "#     SSE = SST-SSA\n",
    "\n",
    "#     Fstat = (SSA/(r-1))/(SSE/(r*(n-1)))\n",
    "#     frand = stats.f(dfn = r-1,dfd = r*(n-1))\n",
    "#     pval = 1-frand.cdf(Fstat)\n",
    "#     return(np.array([SSA,SSE,Fstat,pval]))\n",
    "    "
   ]
  },
  {
   "cell_type": "code",
   "execution_count": null,
   "metadata": {
    "id": "awczWNggu5Tc"
   },
   "outputs": [],
   "source": [
    "# anova_oneway(df)"
   ]
  },
  {
   "cell_type": "markdown",
   "metadata": {
    "id": "1PPV_R3jxWN-"
   },
   "source": [
    "# Zadanie 2\n",
    "Wapń jest niezbędnym minerałem, który reguluje pracę serca, jest ważny dla krzepnięcia krwi i budowy zdrowych kości. Narodowa Fundacja Osteoporozy zaleca dzienne spożycie wapnia w ilości 1000-1200 mg / dzień dla dorosłych mężczyzn i kobiet. Podczas gdy wapń jest zawarty w niektórych produktach spożywczych, większość dorosłych nie ma wystarczającej ilości wapnia w swojej diecie i przyjmuje suplementy. Niestety niektóre suplementy mają skutki uboczne, takie jak zaburzenia żołądkowe, co utrudnia ich regularne przyjmowanie przez niektórych pacjentów.\n",
    "\n",
    "Badanie ma na celu sprawdzenie, czy istnieje różnica w średnim dziennym spożyciu wapnia u osób dorosłych z prawidłową gęstością kości, osób dorosłych z osteopenią (mała gęstość kości, która może prowadzić do osteoporozy) i osób dorosłych z osteoporozą. Dorośli w wieku 60 lat z prawidłową gęstością kości, osteopenią i osteoporozą są losowo wybierani z rejestrów szpitalnych i zapraszani do udziału w badaniu. Dzienne spożycie wapnia przez każdego uczestnika jest mierzone na podstawie zgłoszonego spożycia żywności i suplementów. Dane są pokazane poniżej.\n",
    "\n",
    "| Prawidłowa gęstość kości | Osteopenia | Osteoporoza |\n",
    "|:------------------------:|:----------:|:-----------:|\n",
    "|           1200           |    1000    |     890     |\n",
    "|           1000           |    1100    |     650     |\n",
    "|            980           |     700    |     1100    |\n",
    "|            900           |     800    |     900     |\n",
    "|            750           |     500    |     400     |\n",
    "|            800           |     700    |     350     |\n",
    "\n",
    "Czy istnieje statystycznie istotna różnica w średnim spożyciu wapnia u pacjentów z prawidłową gęstością kości w porównaniu do pacjentów z osteopenią i osteoporozą? Przyjmij poziom istotności 0.05."
   ]
  },
  {
   "cell_type": "code",
   "execution_count": null,
   "metadata": {
    "id": "h4eQu-I6zcK4"
   },
   "outputs": [],
   "source": [
    "#group1 = [1200, 1000, 980, 900, 750, 800]\n",
    "#group2 = [1000, 1100, 700, 800, 500, 700]\n",
    "#group3 = [890, 650, 1100, 900, 400, 350]"
   ]
  },
  {
   "cell_type": "code",
   "execution_count": null,
   "metadata": {
    "id": "n0-bhmaIvBvg"
   },
   "outputs": [],
   "source": []
  },
  {
   "cell_type": "code",
   "execution_count": null,
   "metadata": {
    "id": "0xcd7nfZL-Yr"
   },
   "outputs": [],
   "source": []
  },
  {
   "cell_type": "code",
   "execution_count": null,
   "metadata": {
    "id": "tCfMuaW5MGOb"
   },
   "outputs": [],
   "source": []
  },
  {
   "cell_type": "markdown",
   "metadata": {
    "id": "AsJBtE_wxWOB"
   },
   "source": [
    "## post-hoc - porówania wielokrotne\n",
    "Testujemy\n",
    "\\begin{equation*}\n",
    "    \\begin{split}\n",
    "        H_{0, ik}&: \\mu_i = \\mu_k, \\\\\n",
    "        H_{1, ik}&: \\mu_i \\neq \\mu_k\n",
    "    \\end{split}\n",
    "\\end{equation*}\n",
    "dla wszystkich par $i, k=1, \\ldots, r, i < k$.\n",
    "\n",
    "Hipotezę zerową odrzucamy, gdy $|\\overline{Y}_i - \\overline{Y}_k|$ jest ,,za duża''."
   ]
  },
  {
   "cell_type": "markdown",
   "metadata": {
    "id": "vsvG4x5iAJmd"
   },
   "source": [
    "### Metoda Tukeya\n",
    "Odrzucamy hipotezę zerową $H_{0, ik}$, gdy\n",
    "\\begin{equation*}\n",
    "    |\\overline{Y}_i - \\overline{Y}_k| \\geq q_{1-\\alpha}^{(r, r(n-1))}\\sqrt{\\frac{\\text{MSE}}{n}},\n",
    "\\end{equation*}\n",
    "gdzie $q_{1-\\alpha}^{(r, r(n-1)}$ jest kwantylem studentyzowanego rozkładu rozstępu."
   ]
  },
  {
   "cell_type": "markdown",
   "metadata": {
    "id": "lGMS5zzbxWOA"
   },
   "source": [
    "# Zadanie 3\n",
    "Wysunięto przypuszczenie, że wytrzymałość toreb papierowych zależy od stężenia twardego drewna w ścierze drzewnym, z którego owe torby są wytwarzane. W praktyce stosuje się stężenia od 5% do 20%. Dotychczasowe badania wykazały, że rozkład wytrzymałości toreb jest normalny, przy czym obserwowana zmienność nie zależała od poziomu stężenia twardego drewna w ścierze drzewnym. Poniższa tabela zawiera wyniki pomiarów wytrzymałości na rozciąganie (w psi) otrzymane podczas badań laboratoryjnych 24 toreb papierowych. Zbadać, czy wytrzymałość toreb zależy faktycznie od poziomu stężenia twardego drewna w ścierze drzewnym.\n",
    "\n",
    "|  Stężenie ścieru drzewnego |    |    |    |    |    |    |\n",
    "|:--------------------------:|:--:|:--:|:--:|:--:|:--:|:--:|\n",
    "|             5%             |  7 |  8 | 15 | 11 |  9 | 10 |\n",
    "|             10%            | 12 | 17 | 13 | 18 | 19 | 15 |\n",
    "|             15%            | 14 | 18 | 19 | 17 | 16 | 18 |\n",
    "|             20%            | 19 | 25 | 22 | 23 | 18 | 20 |"
   ]
  },
  {
   "cell_type": "code",
   "execution_count": null,
   "metadata": {
    "id": "Kadl4ZAV7nRU"
   },
   "outputs": [],
   "source": [
    "# group1 = [7,8,15,11,9,10]\n",
    "# group2 = [12,17,13,18,19,15]\n",
    "# group3 = [14,18,19,17,16,18]\n",
    "# group4 = [19,25,22,23,18,20]"
   ]
  },
  {
   "cell_type": "code",
   "execution_count": null,
   "metadata": {
    "id": "VjEmGapey4Ap"
   },
   "outputs": [],
   "source": []
  },
  {
   "cell_type": "code",
   "execution_count": null,
   "metadata": {
    "id": "bJKc5orFy33z"
   },
   "outputs": [],
   "source": []
  },
  {
   "cell_type": "code",
   "execution_count": null,
   "metadata": {
    "id": "5HNDoCxOOY_6"
   },
   "outputs": [],
   "source": [
    "\n"
   ]
  },
  {
   "cell_type": "code",
   "execution_count": null,
   "metadata": {
    "id": "B8NRJvCfzCm1"
   },
   "outputs": [],
   "source": [
    "# values = np.concatenate([group1,group2,group3,group4])\n",
    "# n = len(group1)\n",
    "# types = np.concatenate([['5%']*n,['10%']*n,['15%']*n,['20%']*n])\n",
    "# df = pd.DataFrame({'type': types,'value': values})\n",
    "# df.head()"
   ]
  },
  {
   "cell_type": "code",
   "execution_count": null,
   "metadata": {
    "id": "cuZdv2NszEws"
   },
   "outputs": [],
   "source": [
    "# multicomparison = MultiComparison(data = df.value,groups = df.type)\n",
    "# multicomparison"
   ]
  },
  {
   "cell_type": "code",
   "execution_count": null,
   "metadata": {
    "id": "B2fuyItvzGw8"
   },
   "outputs": [],
   "source": [
    "# tukey = multicomparison.tukeyhsd()\n",
    "# tukey.summary()"
   ]
  },
  {
   "cell_type": "code",
   "execution_count": null,
   "metadata": {
    "id": "tFvy4s6IzJM1"
   },
   "outputs": [],
   "source": [
    "# tukey2 = pairwise_tukeyhsd(endog = df.value,groups = df.type)\n",
    "# tukey2.summary()"
   ]
  },
  {
   "cell_type": "code",
   "execution_count": null,
   "metadata": {
    "id": "riIKVQFbzK3c"
   },
   "outputs": [],
   "source": [
    "# tukey2.plot_simultaneous()\n",
    "# plt.show()"
   ]
  },
  {
   "cell_type": "markdown",
   "metadata": {
    "id": "mvZ2C-H-xWOD"
   },
   "source": [
    "# Zadanie 4\n",
    "W pliku `zarobki.csv` zamieszczono historyczne dane dotyczące wysokosci miesięcznych zarobków wybranych losowo osób w czterech miastach: w Warszawie, Krakowie, Wrocławiu i Katowicach. Zbadaj, czy wysokość miesięcznych zarobków tych miastach różni się istotnie (przyjmij poziom istotności 0.05)."
   ]
  },
  {
   "cell_type": "code",
   "execution_count": null,
   "metadata": {
    "id": "Ipzuz6DL0rUO"
   },
   "outputs": [],
   "source": [
    "# zarobki = pd.read_csv('zarobki.csv',sep = \";\")\n",
    "# zarobki.head()"
   ]
  },
  {
   "cell_type": "code",
   "execution_count": null,
   "metadata": {
    "id": "vFB0v0SQytY-"
   },
   "outputs": [],
   "source": [
    "# zarobki_warszawa = zarobki.zarobki[zarobki.miasto=='Warszawa']\n",
    "# zarobki_krakow = zarobki.zarobki[zarobki.miasto=='Krakow']\n",
    "# zarobki_wroclaw = zarobki.zarobki[zarobki.miasto=='Wroclaw']\n",
    "# zarobki_katowice = zarobki.zarobki[zarobki.miasto=='Katowice']"
   ]
  },
  {
   "cell_type": "code",
   "execution_count": null,
   "metadata": {
    "id": "IfKr9p7w28mU"
   },
   "outputs": [],
   "source": [
    "\n"
   ]
  },
  {
   "cell_type": "code",
   "execution_count": null,
   "metadata": {
    "id": "vnAz75-BfOMS"
   },
   "outputs": [],
   "source": []
  },
  {
   "cell_type": "code",
   "execution_count": null,
   "metadata": {
    "id": "lk5iZ9S328gQ"
   },
   "outputs": [],
   "source": []
  },
  {
   "cell_type": "code",
   "execution_count": null,
   "metadata": {
    "id": "zKQlKV1ofKE_"
   },
   "outputs": [],
   "source": []
  },
  {
   "cell_type": "code",
   "execution_count": null,
   "metadata": {
    "id": "rWhuqef-hvZD"
   },
   "outputs": [],
   "source": []
  },
  {
   "cell_type": "code",
   "execution_count": null,
   "metadata": {
    "id": "z1bIBf1-hkar"
   },
   "outputs": [],
   "source": []
  },
  {
   "cell_type": "markdown",
   "metadata": {
    "id": "0kkfQ9DyxWOE"
   },
   "source": [
    "# Zadanie 5\n",
    "W celu porównania trzech ́srodków antykorozyjnych pobrano po 10 próbek losowych drutu zabezpieczanego każdym z tych ́srodków i zmierzono głębokość zaistniałej korozji (razy 10−3mm). Wyniki pomiarów przestawia poniższa tabelka:\n",
    "\n",
    "| Środek A | Środek B | Środek C |\n",
    "|:--------:|:--------:|:--------:|\n",
    "|   98.5   |   100.2  |   56.7   |\n",
    "|   98.5   |   99.2   |   82.0   |\n",
    "|   98.5   |   99.9   |   67.8   |\n",
    "|   97.5   |   97.8   |   58.3   |\n",
    "|   99.3   |   99.8   |   61.2   |\n",
    "|   102.0  |   100.5  |   67.8   |\n",
    "|   101.8  |   99.8   |   117.4  |\n",
    "|   98.3   |   99.0   |   103.4  |\n",
    "|   102.0  |   101.1  |   43.8   |\n",
    "|   101.2  |   100.8  |   86.1   |\n",
    "\n",
    "Czy na podstawie tych  danym można stwierdzić, ̇ze ́srodki te różnią się istotnie podwzględem jakości tworzonego przez nie zabezpieczenia antykorozyjnego?"
   ]
  },
  {
   "cell_type": "code",
   "execution_count": null,
   "metadata": {
    "id": "GNnoC0HoxWOE"
   },
   "outputs": [],
   "source": [
    "# group1 = [98.5,98.5,98.5,97.5,99.3,102,101.8,98.3,102,101.2]\n",
    "# group2 = [100.2,99.2,99.9,97.8,99.8,100.5,99.8,99,101.1,100.8]\n",
    "# group3 = [56.7,82,67.8,58.3,61.2,67.8,117.4,103.4,43.8,86.1]"
   ]
  },
  {
   "cell_type": "code",
   "execution_count": null,
   "metadata": {
    "id": "QqTu50p12xU6"
   },
   "outputs": [],
   "source": []
  },
  {
   "cell_type": "code",
   "execution_count": null,
   "metadata": {
    "id": "n7uuzdHX2xN9"
   },
   "outputs": [],
   "source": []
  },
  {
   "cell_type": "markdown",
   "metadata": {
    "id": "QHxsICJhAiUq"
   },
   "source": [
    "#Dwuczynnikowa anova\n",
    "Model:\n",
    "\\begin{equation*}\n",
    "        Y_{ijk} = \\mu + \\alpha_i + \\beta_j + \\gamma_{ij} + \\varepsilon_{ijk},\n",
    "\\end{equation*}\n",
    "Testujemy hipotezy\n",
    "\\begin{equation*}\n",
    "    \\begin{split}\n",
    "        H_{0,1}&: \\alpha_1 = \\alpha_2 = \\ldots = \\alpha_r=0 \\\\\n",
    "        H_{1, 1}&: \\neg H_{0, 1}, \\\\\n",
    "                & \\\\\n",
    "        H_{0,2}&: \\beta_1 = \\beta_2 = \\ldots = \\beta_s=0 \\\\\n",
    "        H_{1,2}&: \\neg H_{0,2},\\\\\n",
    "                & \\\\\n",
    "        H_{0,3}&: \\gamma_{11} =  \\ldots = \\gamma_{rs}=0 \\\\\n",
    "        H_{1,3}&: \\neg H_{0,3}\n",
    "    \\end{split}\n",
    "\\end{equation*}"
   ]
  },
  {
   "cell_type": "markdown",
   "metadata": {
    "id": "sHYt1ViOBYG9"
   },
   "source": [
    "| Źródło zmienności | Suma kwadratów ochyleń | Stopnie swobody| Średni kwadrat ochyleń | Statystyki testowe |\n",
    "|:--------:|:--------:|:--------:|:--------:|:--------:|\n",
    "| Czynnik A | $SSA$| r − 1| MSA = $\\frac{SSA}{r−1}$ | F1 = $\\frac{MSA}{MSE}$ |\n",
    "| Czynnik B | $SSB$| r − 1| MSB = $\\frac{SSB}{s−1}$ | F1 = $\\frac{MSB}{MSE}$ |\n",
    "| Interakcje SSAB | $SSAB$| (r − 1)(s − 1)| MSAB = $\\frac{SSAB}{(r−1)(s−1)}$ | F1 = $\\frac{MSAB}{MSE}$ |\n",
    "| Błąd losowy | $SSE$| rs(n − 1)| MSE = $\\frac{SSE}{rs(n − 1)}$ |  |\n",
    "| Ogółem | $SST$| rsn − 1|  |  |"
   ]
  },
  {
   "cell_type": "markdown",
   "metadata": {
    "id": "JvHUCmT0xWOE"
   },
   "source": [
    "# Zadanie 6\n",
    "Przeprowadzono następujące doświadczenie: 18 mężczyzn i 18 kobiet rozmieszczono losowo w 9 pokojach w ten sposób, ̇ze w każdym pokoju były po dwie osoby tej samej płci. W pokojach tych utrzymywano stałą temperaturę: 18, 21 albo 24 stopnie Celsjusza (przydział temperatur poszczególnym pokojom był także losowy). Po upływie trzech godzin oceniano samopoczucie każdej z badanych osób (zastosowano ocenę punktową, w której 1 = zbyt zimno, 8 = idealna temperatura, 15 = zbyt ciepło).\n",
    "\n",
    "|    |         M         |          K         |\n",
    "|:--:|:-----------------:|:------------------:|\n",
    "| 18 |  5, 4, 5, 4, 4, 2 |  1, 2, 5, 5, 1, 3  |\n",
    "| 21 |  8, 8, 6, 3, 5, 7 |  10, 7, 8, 8, 7, 8 |\n",
    "| 24 | 12, 8, 8, 7, 6, 6 | 11, 13, 8, 8, 6, 7 |\n",
    "\n",
    "Zbadaj wpływ, jaki na samopoczucie osób wywiera temperatura panująca w danym pokoju. Czy ocena samopoczucia zależy od płci? Czy występują ̨tu istotne interakcje między badanymi czynnikami (tzn. temperaturą i płcią)?"
   ]
  },
  {
   "cell_type": "code",
   "execution_count": null,
   "metadata": {
    "id": "63pfrdMr01PN"
   },
   "outputs": [],
   "source": [
    "# grupa1 = np.array([5, 4, 5, 4, 4, 2])\n",
    "# grupa2 = np.array([8, 8, 6, 3, 5, 7])\n",
    "# grupa3 = np.array([12, 8, 8, 7, 6, 6])\n",
    "# grupa4 = np.array([1, 2, 5, 5, 1, 3])\n",
    "# grupa5 = np.array([10, 7, 8, 8, 7, 8])\n",
    "# grupa6 = np.array([11, 13, 8, 8, 6, 7])"
   ]
  },
  {
   "cell_type": "code",
   "execution_count": null,
   "metadata": {
    "id": "eA8Q3Ey-8Ibp"
   },
   "outputs": [],
   "source": [
    "# print(variance_test(grupa1,grupa2,grupa3, grupa4, grupa5, grupa6))\n",
    "# print(normal_tests(grupa1))\n",
    "# print(normal_tests(grupa2))\n",
    "# print(normal_tests(grupa3))\n",
    "# print(normal_tests(grupa4))\n",
    "# print(normal_tests(grupa5))\n",
    "# print(normal_tests(grupa6))"
   ]
  },
  {
   "cell_type": "code",
   "execution_count": null,
   "metadata": {
    "id": "uwh26-61062l"
   },
   "outputs": [],
   "source": [
    "# values = np.concatenate([grupa1,grupa2,grupa3,grupa4,grupa5,grupa6])\n",
    "# n = len(grupa1)\n",
    "# group1 = np.concatenate([['M']*(3*n),['K']*(3*n)])\n",
    "# group2 = np.concatenate([['18']*n,['21']*n,['24']*n,['18']*n,['21']*n,['24']*n])\n",
    "# df = pd.DataFrame({'value': values,'group1': group1,'group2': group2,})\n",
    "# df.head()"
   ]
  },
  {
   "cell_type": "code",
   "execution_count": null,
   "metadata": {
    "id": "JXP59h5y09BB"
   },
   "outputs": [],
   "source": [
    "# formula = 'value~C(group1)+C(group2)+C(group1):C(group2)'\n",
    "# model = ols(formula,df).fit()\n",
    "# anv = anova_lm(model)\n",
    "# print(anv)"
   ]
  },
  {
   "cell_type": "code",
   "execution_count": null,
   "metadata": {
    "id": "72fi8cYo0_Qm"
   },
   "outputs": [],
   "source": [
    "# tukey2 = pairwise_tukeyhsd(endog = df.value,groups = df.group2)\n",
    "# tukey2.summary()"
   ]
  },
  {
   "cell_type": "code",
   "execution_count": null,
   "metadata": {
    "id": "a7LMyptq1EAF"
   },
   "outputs": [],
   "source": [
    "# tukey2.plot_simultaneous()\n",
    "# plt.show()"
   ]
  },
  {
   "cell_type": "markdown",
   "metadata": {
    "id": "tfHHprX8xWOG"
   },
   "source": [
    "# Zadanie 7\n",
    "W  pewnych  zakładach  lotniczych  stosuje  się  dwie  metody  nakładania farby podkładowej na częsci aluminiowe: malowanie zanurzeniowe i natryskowe. Czyni się  tak  w  celu  zwiększenia  przylegania  właściwej  farby  nawierzchniowej,  którą  później są malowane owe części. We wspomnianych zakładach stosowano do tej pory trzy rodzaje farb podkładowych. Inżynier technolog, odpowiedzialny za ten etap produkcji, postanowił zbadać, czy rodzaj farby podkładowej oraz sposób jej nakładania na detal mają istotny wpływ na siłę przylegania właściwej farby nawierzchniowej. W tym celu przeprowadzono eksperyment, w którym zmierzono siłę przylegania farby nawierzchniowej do kilku detali malowanych najpierw różnymi farbami podkładowymi, nanoszonymi obiema metodami. Wyniki pomiarów zamieszczono w poniższej tabeli.\n",
    "\n",
    "| Rodzaj farby |  Malowanie zanurzeniowe |  Malowanie natryskowe |\n",
    "|:------------:|:-----------------------:|:---------------------:|\n",
    "|       A      |      4.0, 4.5, 4.3      |     5.4, 4.9, 5.6     |\n",
    "|       B      |      5.6, 4.9, 5.4      |     5.8, 6.1, 6.3     |\n",
    "|       C      |      3.8, 3.7, 3.9      |     6.5, 6.0, 5.0     |\n",
    "\n",
    "Jakie wnioski powinien wyciągnąć inżynier na podstawie powyższych wyników?"
   ]
  },
  {
   "cell_type": "code",
   "execution_count": null,
   "metadata": {
    "id": "Lb5PxPnoxWOG"
   },
   "outputs": [],
   "source": [
    "# grupa1 = np.array([4.0, 4.5, 4.3])\n",
    "# grupa2 = np.array([5.6, 4.9, 5.4])\n",
    "# grupa3 = np.array([3.8, 3.7, 3.9])\n",
    "# grupa4 = np.array([5.4, 4.9, 5.6])\n",
    "# grupa5 = np.array([5.8, 6.1, 6.3])\n",
    "# grupa6 = np.array([6.5, 6.0, 5.0])"
   ]
  },
  {
   "cell_type": "markdown",
   "metadata": {
    "id": "bW2GJehkxWOH"
   },
   "source": [
    "# Zadanie 8\n",
    "W celu zbadania wpływu czterech dawek nawożenia azotowego (w ilościach 0, 40, 80 i 120 kg/ha) na wysokość plonów lucerny przy trzech sposobach siewu (siew czysty C oraz dwa rodzaje wsiewu M i P w jęczmień jary) założono doświadczenie w czterech powtórzeniach. Dla każdej kombinacji nawożenia ze sposobem siewu zmierzono plon zielonej masy (w kg z poletka). W pierwszym pokosie uzyskano następujące obserwacje:\n",
    "\n",
    "|   |            0            |           40           |           80           |           120          |\n",
    "|:-:|:-----------------------:|:----------------------:|:----------------------:|:----------------------:|\n",
    "| C | 33.2, 36.2, 44.2, 51.0  | 42.2, 41.4, 50.6, 45.2 | 50.2, 53.0, 52.6, 45.0 | 46.2, 52.4, 49.0, 43.6 |\n",
    "| M |  18.6, 13.0, 14.6, 18.8 | 18.0, 20.0, 14.2, 19.1 | 24.2, 21.6, 16.4, 19.0 | 34.2, 17.2, 15.5, 22.2 |\n",
    "| P |  20.4, 14.4, 11.0, 22.6 | 21.9, 42.0, 16.2, 25.6 | 18.2, 21.0, 27.3, 27.6 | 16.4, 15.0, 21.6, 27.8 |\n",
    "\n",
    "Ustal, który z badanych czynników miał istotny wpływ na wysokość plonów masy zielonej."
   ]
  },
  {
   "cell_type": "code",
   "execution_count": null,
   "metadata": {
    "id": "bTW9m3ejer3_"
   },
   "outputs": [],
   "source": [
    "# grupa1 = [33.2, 36.2, 44.2, 51.0]\n",
    "# grupa2 = [18.6, 13.0, 14.6, 18.8]\n",
    "# grupa3 = [20.4, 14.4, 11.0, 22.6]\n",
    "# grupa4 = [42.2, 41.4, 50.6, 45.2]\n",
    "# grupa5 = [18.0, 20.0, 14.2, 19.1]\n",
    "# grupa6 = [21.9, 42.0, 16.2, 25.6]\n",
    "# grupa7 = [50.2, 53.0, 52.6, 45.0]\n",
    "# grupa8 = [24.2, 21.6, 16.4, 19.0]\n",
    "# grupa9 = [18.2, 21.0, 27.3, 27.6]\n",
    "# grupa10 = [46.2, 52.4, 49.0, 43.6]\n",
    "# grupa11 = [34.2, 17.2, 15.5, 22.2]\n",
    "# grupa12 = [16.4, 15.0, 21.6, 27.8]"
   ]
  },
  {
   "cell_type": "code",
   "execution_count": null,
   "metadata": {
    "id": "wyR5kGkSpbBE"
   },
   "outputs": [],
   "source": []
  },
  {
   "cell_type": "code",
   "execution_count": null,
   "metadata": {
    "id": "GLVZLQ5rqo6J"
   },
   "outputs": [],
   "source": []
  },
  {
   "cell_type": "code",
   "execution_count": null,
   "metadata": {
    "id": "MrJ8OhmpLv69"
   },
   "outputs": [],
   "source": []
  },
  {
   "cell_type": "code",
   "execution_count": null,
   "metadata": {
    "id": "-0FkHIjeLu5d"
   },
   "outputs": [],
   "source": []
  },
  {
   "cell_type": "code",
   "execution_count": null,
   "metadata": {
    "id": "fqtGVmbqLt1B"
   },
   "outputs": [],
   "source": []
  },
  {
   "cell_type": "code",
   "execution_count": null,
   "metadata": {
    "id": "NpxOUI2ELr_y"
   },
   "outputs": [],
   "source": []
  },
  {
   "cell_type": "code",
   "execution_count": null,
   "metadata": {
    "id": "S5K5MIgmLs6x"
   },
   "outputs": [],
   "source": []
  }
 ],
 "metadata": {
  "colab": {
   "provenance": []
  },
  "hide_input": false,
  "kernelspec": {
   "display_name": "Python 3 (ipykernel)",
   "language": "python",
   "name": "python3"
  },
  "language_info": {
   "codemirror_mode": {
    "name": "ipython",
    "version": 3
   },
   "file_extension": ".py",
   "mimetype": "text/x-python",
   "name": "python",
   "nbconvert_exporter": "python",
   "pygments_lexer": "ipython3",
   "version": "3.10.6"
  },
  "toc": {
   "base_numbering": 1,
   "nav_menu": {},
   "number_sections": true,
   "sideBar": true,
   "skip_h1_title": true,
   "title_cell": "Table of Contents",
   "title_sidebar": "Contents",
   "toc_cell": false,
   "toc_position": {},
   "toc_section_display": true,
   "toc_window_display": false
  },
  "varInspector": {
   "cols": {
    "lenName": 16,
    "lenType": 16,
    "lenVar": 40
   },
   "kernels_config": {
    "python": {
     "delete_cmd_postfix": "",
     "delete_cmd_prefix": "del ",
     "library": "var_list.py",
     "varRefreshCmd": "print(var_dic_list())"
    },
    "r": {
     "delete_cmd_postfix": ") ",
     "delete_cmd_prefix": "rm(",
     "library": "var_list.r",
     "varRefreshCmd": "cat(var_dic_list()) "
    }
   },
   "types_to_exclude": [
    "module",
    "function",
    "builtin_function_or_method",
    "instance",
    "_Feature"
   ],
   "window_display": false
  }
 },
 "nbformat": 4,
 "nbformat_minor": 1
}
